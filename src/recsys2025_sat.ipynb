{
  "cells": [
    {
      "cell_type": "code",
      "execution_count": 1,
      "metadata": {
        "id": "KTn-1kwM2NWl"
      },
      "outputs": [],
      "source": [
        "### Put ubc_data in drive as ubc_data_relevant\n",
        "### Spoiler: full dataset is too big for ram (TODO: better dataloader that doesnt need to load into ram)\n",
        "### Data filter for only users from relevant_users can be achived with something like (untested):\n",
        "\n",
        "# import pandas as pd\n",
        "\n",
        "# # Load the dataframes from parquet files\n",
        "# add_to_cart = pd.read_parquet('../ubc_data/add_to_cart.parquet')\n",
        "# page_visit = pd.read_parquet('../ubc_data/page_visit.parquet')\n",
        "# product_buy = pd.read_parquet('../ubc_data/product_buy.parquet')\n",
        "# product_properties = pd.read_parquet('../ubc_data/product_properties.parquet')\n",
        "# remove_from_cart = pd.read_parquet('../ubc_data/remove_from_cart.parquet')\n",
        "# search_query = pd.read_parquet('../ubc_data/search_query.parquet')\n",
        "\n",
        "# full_recsys = RecSysData(\n",
        "#     add_to_cart,\n",
        "#     page_visit,\n",
        "#     product_buy,\n",
        "#     product_properties,\n",
        "#     remove_from_cart,\n",
        "#     search_query\n",
        "#   )\n",
        "\n",
        "# import numpy as np\n",
        "\n",
        "# # Load the relevant users from the numpy file\n",
        "# relevant_users = np.load('./ubc_data/input/relevant_clients.npy')\n",
        "# relevant_users_set = set(relevant_users)\n",
        "\n",
        "# relevant_users_data = full_recsys.sampled_subset(relevant_users_set, reset_index=False)\n",
        "# relevant_users_data.print_datasets_stats_nicely(\"Relevant Users Dataset\")\n",
        "\n",
        "# relevant_users_data.save_parquet('./ubc_data_relevant')"
      ]
    },
    {
      "cell_type": "code",
      "execution_count": 2,
      "metadata": {
        "colab": {
          "base_uri": "https://localhost:8080/"
        },
        "id": "RCZZpoIFxtXV",
        "outputId": "90010f7f-74f2-4166-ec21-2962acc191b1"
      },
      "outputs": [
        {
          "name": "stdout",
          "output_type": "stream",
          "text": [
            "Drive already mounted at /content/drive; to attempt to forcibly remount, call drive.mount(\"/content/drive\", force_remount=True).\n"
          ]
        }
      ],
      "source": [
        "from google.colab import drive\n",
        "drive.mount('/content/drive')\n",
        "# drive.mount('/content/drive', force_remount=True)"
      ]
    },
    {
      "cell_type": "code",
      "execution_count": 3,
      "metadata": {
        "colab": {
          "base_uri": "https://localhost:8080/"
        },
        "id": "SUJGnQYv8Wr5",
        "outputId": "e5980a3b-5356-45a2-df34-b6589abf1107"
      },
      "outputs": [
        {
          "name": "stdout",
          "output_type": "stream",
          "text": [
            "add_to_cart.parquet  product_buy.parquet\t search_query.parquet\n",
            "input\t\t     product_properties.parquet  target\n",
            "page_visit.parquet   remove_from_cart.parquet\n"
          ]
        }
      ],
      "source": [
        "! ls /content/drive/MyDrive/ubc_data_relevant/\n",
        "ubc_data_path = '/content/drive/MyDrive/ubc_data_relevant'"
      ]
    },
    {
      "cell_type": "code",
      "execution_count": 4,
      "metadata": {
        "id": "4egWy_EZIjEc"
      },
      "outputs": [],
      "source": [
        "# ! rm -rf recsys2025_challenge"
      ]
    },
    {
      "cell_type": "code",
      "execution_count": 5,
      "metadata": {
        "colab": {
          "base_uri": "https://localhost:8080/"
        },
        "id": "1O9lxYXXsVXV",
        "outputId": "31a77110-d875-4ff8-8943-ce2ae1fc9a20"
      },
      "outputs": [
        {
          "name": "stdout",
          "output_type": "stream",
          "text": [
            "fatal: destination path 'recsys2025_challenge' already exists and is not an empty directory.\n"
          ]
        }
      ],
      "source": [
        "! test -f recsys2025_challenge || git clone --recurse-submodules --remote-submodules https://github.com/zmrocze/recsys2025_challenge.git"
      ]
    },
    {
      "cell_type": "code",
      "execution_count": 6,
      "metadata": {
        "id": "Du7ocVU-uL3j"
      },
      "outputs": [],
      "source": [
        "%load_ext autoreload\n",
        "%autoreload 2\n",
        "%reload_ext autoreload\n",
        "\n",
        "import os\n",
        "import sys\n",
        "\n",
        "# Below paths: bad but managable\n",
        "\n",
        "module_path = os.path.abspath(os.path.join('./recsys2025_challenge'))\n",
        "sys.path.append(module_path)\n",
        "module_path = os.path.abspath(os.path.join('./recsys2025_challenge/recsys2025'))\n",
        "sys.path.append(module_path)\n",
        "module_path = os.path.abspath(os.path.join('./recsys2025_challenge/src/our_lib'))\n",
        "# print(module_path)\n",
        "sys.path.append(module_path)\n",
        "\n",
        "# sys.path.insert(1, \"./recsys2025_challenge/src/our_lib\")\n",
        "\n",
        "# from our_lib import *\n",
        "# from src.our_lib import RecSysData\n",
        "# from our_lib import split_data, create_baseline_embeddings, contest_training\n",
        "# from our_lib import validate_and_load_embeddings"
      ]
    },
    {
      "cell_type": "code",
      "execution_count": 7,
      "metadata": {
        "colab": {
          "base_uri": "https://localhost:8080/"
        },
        "id": "V5UUr_fNy4-2",
        "outputId": "5e5e1a10-b779-4eae-8cdc-aa9556a4722a"
      },
      "outputs": [
        {
          "name": "stdout",
          "output_type": "stream",
          "text": [
            "Requirement already satisfied: pytorch-lightning in /usr/local/lib/python3.11/dist-packages (2.5.1.post0)\n",
            "Requirement already satisfied: torchmetrics in /usr/local/lib/python3.11/dist-packages (1.7.2)\n",
            "Requirement already satisfied: neptune in /usr/local/lib/python3.11/dist-packages (1.14.0)\n",
            "Requirement already satisfied: pyarrow in /usr/local/lib/python3.11/dist-packages (18.1.0)\n",
            "Requirement already satisfied: torch>=2.1.0 in /usr/local/lib/python3.11/dist-packages (from pytorch-lightning) (2.6.0+cu124)\n",
            "Requirement already satisfied: tqdm>=4.57.0 in /usr/local/lib/python3.11/dist-packages (from pytorch-lightning) (4.67.1)\n",
            "Requirement already satisfied: PyYAML>=5.4 in /usr/local/lib/python3.11/dist-packages (from pytorch-lightning) (6.0.2)\n",
            "Requirement already satisfied: fsspec>=2022.5.0 in /usr/local/lib/python3.11/dist-packages (from fsspec[http]>=2022.5.0->pytorch-lightning) (2025.3.2)\n",
            "Requirement already satisfied: packaging>=20.0 in /usr/local/lib/python3.11/dist-packages (from pytorch-lightning) (24.2)\n",
            "Requirement already satisfied: typing-extensions>=4.4.0 in /usr/local/lib/python3.11/dist-packages (from pytorch-lightning) (4.14.0)\n",
            "Requirement already satisfied: lightning-utilities>=0.10.0 in /usr/local/lib/python3.11/dist-packages (from pytorch-lightning) (0.14.3)\n",
            "Requirement already satisfied: numpy>1.20.0 in /usr/local/lib/python3.11/dist-packages (from torchmetrics) (2.0.2)\n",
            "Requirement already satisfied: GitPython>=2.0.8 in /usr/local/lib/python3.11/dist-packages (from neptune) (3.1.44)\n",
            "Requirement already satisfied: Pillow>=1.1.6 in /usr/local/lib/python3.11/dist-packages (from neptune) (11.2.1)\n",
            "Requirement already satisfied: PyJWT in /usr/local/lib/python3.11/dist-packages (from neptune) (2.10.1)\n",
            "Requirement already satisfied: boto3>=1.28.0 in /usr/local/lib/python3.11/dist-packages (from neptune) (1.38.35)\n",
            "Requirement already satisfied: bravado<12.0.0,>=11.0.0 in /usr/local/lib/python3.11/dist-packages (from neptune) (11.1.0)\n",
            "Requirement already satisfied: click>=7.0 in /usr/local/lib/python3.11/dist-packages (from neptune) (8.2.1)\n",
            "Requirement already satisfied: future>=0.17.1 in /usr/local/lib/python3.11/dist-packages (from neptune) (1.0.0)\n",
            "Requirement already satisfied: oauthlib>=2.1.0 in /usr/local/lib/python3.11/dist-packages (from neptune) (3.2.2)\n",
            "Requirement already satisfied: pandas in /usr/local/lib/python3.11/dist-packages (from neptune) (2.2.2)\n",
            "Requirement already satisfied: psutil in /usr/local/lib/python3.11/dist-packages (from neptune) (5.9.5)\n",
            "Requirement already satisfied: requests>=2.20.0 in /usr/local/lib/python3.11/dist-packages (from neptune) (2.32.3)\n",
            "Requirement already satisfied: requests-oauthlib>=1.0.0 in /usr/local/lib/python3.11/dist-packages (from neptune) (2.0.0)\n",
            "Requirement already satisfied: six>=1.12.0 in /usr/local/lib/python3.11/dist-packages (from neptune) (1.17.0)\n",
            "Requirement already satisfied: swagger-spec-validator>=2.7.4 in /usr/local/lib/python3.11/dist-packages (from neptune) (3.0.4)\n",
            "Requirement already satisfied: urllib3 in /usr/local/lib/python3.11/dist-packages (from neptune) (2.4.0)\n",
            "Requirement already satisfied: websocket-client!=1.0.0,>=0.35.0 in /usr/local/lib/python3.11/dist-packages (from neptune) (1.8.0)\n",
            "Requirement already satisfied: botocore<1.39.0,>=1.38.35 in /usr/local/lib/python3.11/dist-packages (from boto3>=1.28.0->neptune) (1.38.35)\n",
            "Requirement already satisfied: jmespath<2.0.0,>=0.7.1 in /usr/local/lib/python3.11/dist-packages (from boto3>=1.28.0->neptune) (1.0.1)\n",
            "Requirement already satisfied: s3transfer<0.14.0,>=0.13.0 in /usr/local/lib/python3.11/dist-packages (from boto3>=1.28.0->neptune) (0.13.0)\n",
            "Requirement already satisfied: bravado-core>=5.16.1 in /usr/local/lib/python3.11/dist-packages (from bravado<12.0.0,>=11.0.0->neptune) (6.1.1)\n",
            "Requirement already satisfied: monotonic in /usr/local/lib/python3.11/dist-packages (from bravado<12.0.0,>=11.0.0->neptune) (1.6)\n",
            "Requirement already satisfied: msgpack in /usr/local/lib/python3.11/dist-packages (from bravado<12.0.0,>=11.0.0->neptune) (1.1.0)\n",
            "Requirement already satisfied: python-dateutil in /usr/local/lib/python3.11/dist-packages (from bravado<12.0.0,>=11.0.0->neptune) (2.9.0.post0)\n",
            "Requirement already satisfied: simplejson in /usr/local/lib/python3.11/dist-packages (from bravado<12.0.0,>=11.0.0->neptune) (3.20.1)\n",
            "Requirement already satisfied: aiohttp!=4.0.0a0,!=4.0.0a1 in /usr/local/lib/python3.11/dist-packages (from fsspec[http]>=2022.5.0->pytorch-lightning) (3.11.15)\n",
            "Requirement already satisfied: gitdb<5,>=4.0.1 in /usr/local/lib/python3.11/dist-packages (from GitPython>=2.0.8->neptune) (4.0.12)\n",
            "Requirement already satisfied: setuptools in /usr/local/lib/python3.11/dist-packages (from lightning-utilities>=0.10.0->pytorch-lightning) (75.2.0)\n",
            "Requirement already satisfied: charset-normalizer<4,>=2 in /usr/local/lib/python3.11/dist-packages (from requests>=2.20.0->neptune) (3.4.2)\n",
            "Requirement already satisfied: idna<4,>=2.5 in /usr/local/lib/python3.11/dist-packages (from requests>=2.20.0->neptune) (3.10)\n",
            "Requirement already satisfied: certifi>=2017.4.17 in /usr/local/lib/python3.11/dist-packages (from requests>=2.20.0->neptune) (2025.4.26)\n",
            "Requirement already satisfied: jsonschema in /usr/local/lib/python3.11/dist-packages (from swagger-spec-validator>=2.7.4->neptune) (4.24.0)\n",
            "Requirement already satisfied: importlib-resources>=1.3 in /usr/local/lib/python3.11/dist-packages (from swagger-spec-validator>=2.7.4->neptune) (6.5.2)\n",
            "Requirement already satisfied: filelock in /usr/local/lib/python3.11/dist-packages (from torch>=2.1.0->pytorch-lightning) (3.18.0)\n",
            "Requirement already satisfied: networkx in /usr/local/lib/python3.11/dist-packages (from torch>=2.1.0->pytorch-lightning) (3.5)\n",
            "Requirement already satisfied: jinja2 in /usr/local/lib/python3.11/dist-packages (from torch>=2.1.0->pytorch-lightning) (3.1.6)\n",
            "Requirement already satisfied: nvidia-cuda-nvrtc-cu12==12.4.127 in /usr/local/lib/python3.11/dist-packages (from torch>=2.1.0->pytorch-lightning) (12.4.127)\n",
            "Requirement already satisfied: nvidia-cuda-runtime-cu12==12.4.127 in /usr/local/lib/python3.11/dist-packages (from torch>=2.1.0->pytorch-lightning) (12.4.127)\n",
            "Requirement already satisfied: nvidia-cuda-cupti-cu12==12.4.127 in /usr/local/lib/python3.11/dist-packages (from torch>=2.1.0->pytorch-lightning) (12.4.127)\n",
            "Requirement already satisfied: nvidia-cudnn-cu12==9.1.0.70 in /usr/local/lib/python3.11/dist-packages (from torch>=2.1.0->pytorch-lightning) (9.1.0.70)\n",
            "Requirement already satisfied: nvidia-cublas-cu12==12.4.5.8 in /usr/local/lib/python3.11/dist-packages (from torch>=2.1.0->pytorch-lightning) (12.4.5.8)\n",
            "Requirement already satisfied: nvidia-cufft-cu12==11.2.1.3 in /usr/local/lib/python3.11/dist-packages (from torch>=2.1.0->pytorch-lightning) (11.2.1.3)\n",
            "Requirement already satisfied: nvidia-curand-cu12==10.3.5.147 in /usr/local/lib/python3.11/dist-packages (from torch>=2.1.0->pytorch-lightning) (10.3.5.147)\n",
            "Requirement already satisfied: nvidia-cusolver-cu12==11.6.1.9 in /usr/local/lib/python3.11/dist-packages (from torch>=2.1.0->pytorch-lightning) (11.6.1.9)\n",
            "Requirement already satisfied: nvidia-cusparse-cu12==12.3.1.170 in /usr/local/lib/python3.11/dist-packages (from torch>=2.1.0->pytorch-lightning) (12.3.1.170)\n",
            "Requirement already satisfied: nvidia-cusparselt-cu12==0.6.2 in /usr/local/lib/python3.11/dist-packages (from torch>=2.1.0->pytorch-lightning) (0.6.2)\n",
            "Requirement already satisfied: nvidia-nccl-cu12==2.21.5 in /usr/local/lib/python3.11/dist-packages (from torch>=2.1.0->pytorch-lightning) (2.21.5)\n",
            "Requirement already satisfied: nvidia-nvtx-cu12==12.4.127 in /usr/local/lib/python3.11/dist-packages (from torch>=2.1.0->pytorch-lightning) (12.4.127)\n",
            "Requirement already satisfied: nvidia-nvjitlink-cu12==12.4.127 in /usr/local/lib/python3.11/dist-packages (from torch>=2.1.0->pytorch-lightning) (12.4.127)\n",
            "Requirement already satisfied: triton==3.2.0 in /usr/local/lib/python3.11/dist-packages (from torch>=2.1.0->pytorch-lightning) (3.2.0)\n",
            "Requirement already satisfied: sympy==1.13.1 in /usr/local/lib/python3.11/dist-packages (from torch>=2.1.0->pytorch-lightning) (1.13.1)\n",
            "Requirement already satisfied: mpmath<1.4,>=1.1.0 in /usr/local/lib/python3.11/dist-packages (from sympy==1.13.1->torch>=2.1.0->pytorch-lightning) (1.3.0)\n",
            "Requirement already satisfied: pytz>=2020.1 in /usr/local/lib/python3.11/dist-packages (from pandas->neptune) (2025.2)\n",
            "Requirement already satisfied: tzdata>=2022.7 in /usr/local/lib/python3.11/dist-packages (from pandas->neptune) (2025.2)\n",
            "Requirement already satisfied: aiohappyeyeballs>=2.3.0 in /usr/local/lib/python3.11/dist-packages (from aiohttp!=4.0.0a0,!=4.0.0a1->fsspec[http]>=2022.5.0->pytorch-lightning) (2.6.1)\n",
            "Requirement already satisfied: aiosignal>=1.1.2 in /usr/local/lib/python3.11/dist-packages (from aiohttp!=4.0.0a0,!=4.0.0a1->fsspec[http]>=2022.5.0->pytorch-lightning) (1.3.2)\n",
            "Requirement already satisfied: attrs>=17.3.0 in /usr/local/lib/python3.11/dist-packages (from aiohttp!=4.0.0a0,!=4.0.0a1->fsspec[http]>=2022.5.0->pytorch-lightning) (25.3.0)\n",
            "Requirement already satisfied: frozenlist>=1.1.1 in /usr/local/lib/python3.11/dist-packages (from aiohttp!=4.0.0a0,!=4.0.0a1->fsspec[http]>=2022.5.0->pytorch-lightning) (1.6.0)\n",
            "Requirement already satisfied: multidict<7.0,>=4.5 in /usr/local/lib/python3.11/dist-packages (from aiohttp!=4.0.0a0,!=4.0.0a1->fsspec[http]>=2022.5.0->pytorch-lightning) (6.4.4)\n",
            "Requirement already satisfied: propcache>=0.2.0 in /usr/local/lib/python3.11/dist-packages (from aiohttp!=4.0.0a0,!=4.0.0a1->fsspec[http]>=2022.5.0->pytorch-lightning) (0.3.1)\n",
            "Requirement already satisfied: yarl<2.0,>=1.17.0 in /usr/local/lib/python3.11/dist-packages (from aiohttp!=4.0.0a0,!=4.0.0a1->fsspec[http]>=2022.5.0->pytorch-lightning) (1.20.0)\n",
            "Requirement already satisfied: jsonref in /usr/local/lib/python3.11/dist-packages (from bravado-core>=5.16.1->bravado<12.0.0,>=11.0.0->neptune) (1.1.0)\n",
            "Requirement already satisfied: smmap<6,>=3.0.1 in /usr/local/lib/python3.11/dist-packages (from gitdb<5,>=4.0.1->GitPython>=2.0.8->neptune) (5.0.2)\n",
            "Requirement already satisfied: jsonschema-specifications>=2023.03.6 in /usr/local/lib/python3.11/dist-packages (from jsonschema->swagger-spec-validator>=2.7.4->neptune) (2025.4.1)\n",
            "Requirement already satisfied: referencing>=0.28.4 in /usr/local/lib/python3.11/dist-packages (from jsonschema->swagger-spec-validator>=2.7.4->neptune) (0.36.2)\n",
            "Requirement already satisfied: rpds-py>=0.7.1 in /usr/local/lib/python3.11/dist-packages (from jsonschema->swagger-spec-validator>=2.7.4->neptune) (0.25.1)\n",
            "Requirement already satisfied: MarkupSafe>=2.0 in /usr/local/lib/python3.11/dist-packages (from jinja2->torch>=2.1.0->pytorch-lightning) (3.0.2)\n",
            "Requirement already satisfied: fqdn in /usr/local/lib/python3.11/dist-packages (from jsonschema[format-nongpl]>=2.5.1->bravado-core>=5.16.1->bravado<12.0.0,>=11.0.0->neptune) (1.5.1)\n",
            "Requirement already satisfied: isoduration in /usr/local/lib/python3.11/dist-packages (from jsonschema[format-nongpl]>=2.5.1->bravado-core>=5.16.1->bravado<12.0.0,>=11.0.0->neptune) (20.11.0)\n",
            "Requirement already satisfied: jsonpointer>1.13 in /usr/local/lib/python3.11/dist-packages (from jsonschema[format-nongpl]>=2.5.1->bravado-core>=5.16.1->bravado<12.0.0,>=11.0.0->neptune) (3.0.0)\n",
            "Requirement already satisfied: rfc3339-validator in /usr/local/lib/python3.11/dist-packages (from jsonschema[format-nongpl]>=2.5.1->bravado-core>=5.16.1->bravado<12.0.0,>=11.0.0->neptune) (0.1.4)\n",
            "Requirement already satisfied: rfc3986-validator>0.1.0 in /usr/local/lib/python3.11/dist-packages (from jsonschema[format-nongpl]>=2.5.1->bravado-core>=5.16.1->bravado<12.0.0,>=11.0.0->neptune) (0.1.1)\n",
            "Requirement already satisfied: uri-template in /usr/local/lib/python3.11/dist-packages (from jsonschema[format-nongpl]>=2.5.1->bravado-core>=5.16.1->bravado<12.0.0,>=11.0.0->neptune) (1.3.0)\n",
            "Requirement already satisfied: webcolors>=24.6.0 in /usr/local/lib/python3.11/dist-packages (from jsonschema[format-nongpl]>=2.5.1->bravado-core>=5.16.1->bravado<12.0.0,>=11.0.0->neptune) (24.11.1)\n",
            "Requirement already satisfied: arrow>=0.15.0 in /usr/local/lib/python3.11/dist-packages (from isoduration->jsonschema[format-nongpl]>=2.5.1->bravado-core>=5.16.1->bravado<12.0.0,>=11.0.0->neptune) (1.3.0)\n",
            "Requirement already satisfied: types-python-dateutil>=2.8.10 in /usr/local/lib/python3.11/dist-packages (from arrow>=0.15.0->isoduration->jsonschema[format-nongpl]>=2.5.1->bravado-core>=5.16.1->bravado<12.0.0,>=11.0.0->neptune) (2.9.0.20250516)\n",
            "2.6.0+cu124\n",
            "  Installing build dependencies ... \u001b[?25l\u001b[?25hdone\n",
            "  Getting requirements to build wheel ... \u001b[?25l\u001b[?25hdone\n",
            "  Preparing metadata (pyproject.toml) ... \u001b[?25l\u001b[?25hdone\n"
          ]
        }
      ],
      "source": [
        "! pip install pytorch-lightning torchmetrics neptune pyarrow\n",
        "import os\n",
        "import torch\n",
        "os.environ['TORCH'] = torch.__version__\n",
        "print(torch.__version__)\n",
        "\n",
        "!pip install -q torch-scatter -f https://data.pyg.org/whl/torch-${TORCH}.html\n",
        "!pip install -q torch-sparse -f https://data.pyg.org/whl/torch-${TORCH}.html\n",
        "!pip install -q git+https://github.com/pyg-team/pytorch_geometric.git"
      ]
    },
    {
      "cell_type": "markdown",
      "metadata": {
        "id": "IYsFgsl6Ft79"
      },
      "source": [
        "# load data"
      ]
    },
    {
      "cell_type": "code",
      "execution_count": 8,
      "metadata": {
        "colab": {
          "base_uri": "https://localhost:8080/"
        },
        "id": "yzXLt7j89eiv",
        "outputId": "1cb50132-8a64-4548-bf0f-8749c57bd5fc"
      },
      "outputs": [
        {
          "data": {
            "text/plain": [
              "device(type='cuda')"
            ]
          },
          "execution_count": 8,
          "metadata": {},
          "output_type": "execute_result"
        }
      ],
      "source": [
        "device = torch.device('cuda' if torch.cuda.is_available() else 'cpu')\n",
        "device"
      ]
    },
    {
      "cell_type": "code",
      "execution_count": 9,
      "metadata": {
        "colab": {
          "base_uri": "https://localhost:8080/"
        },
        "id": "A9MoeCcF_vmD",
        "outputId": "22b79d78-67cc-4a6f-ab7d-c77d8e008b5d"
      },
      "outputs": [
        {
          "name": "stdout",
          "output_type": "stream",
          "text": [
            "Propensity SKU shape: (100,)\n",
            "Propensity Category shape: (100,)\n"
          ]
        }
      ],
      "source": [
        "# load everything\n",
        "import pandas as pd\n",
        "import numpy as np\n",
        "import matplotlib.pyplot as plt\n",
        "import pytorch_lightning as pl\n",
        "from pytorch_lightning.loggers import WandbLogger\n",
        "import torchmetrics as tm\n",
        "\n",
        "# Load propensity data from .npy files\n",
        "propensity_sku = np.load(f'{ubc_data_path}/target/propensity_sku.npy')\n",
        "propensity_category = np.load(f'{ubc_data_path}/target/propensity_category.npy')\n",
        "relevant_users = np.load(f'{ubc_data_path}/input/relevant_clients.npy')\n",
        "\n",
        "print(\"Propensity SKU shape:\", propensity_sku.shape)\n",
        "print(\"Propensity Category shape:\", propensity_category.shape)"
      ]
    },
    {
      "cell_type": "code",
      "execution_count": 10,
      "metadata": {
        "colab": {
          "base_uri": "https://localhost:8080/"
        },
        "id": "w-Wd8WTzAAUn",
        "outputId": "bcff0b87-05b2-4dbd-f70b-fc775ee3bff7"
      },
      "outputs": [
        {
          "data": {
            "text/plain": [
              "RecSysData(\n",
              "  add_to_cart=2654264,\n",
              "  page_visit=41919050,\n",
              "  product_buy=1218423,\n",
              "  product_properties=831550,\n",
              "  remove_from_cart=1138370,\n",
              "  search_query=4212745,\n",
              "  all users: 1000000,\n",
              "  all products: 831550\n",
              "  all urls: 6171078,\n",
              ")"
            ]
          },
          "execution_count": 10,
          "metadata": {},
          "output_type": "execute_result"
        }
      ],
      "source": [
        "from src.our_lib import RecSysData\n",
        "\n",
        "data = RecSysData.read_parquet(ubc_data_path)\n",
        "data"
      ]
    },
    {
      "cell_type": "code",
      "execution_count": 11,
      "metadata": {
        "id": "xXR_uVlyAORo"
      },
      "outputs": [],
      "source": [
        "# drop duplicates\n",
        "data.add_to_cart = data.add_to_cart.drop_duplicates(subset=['sku'])\n",
        "data.product_buy = data.product_buy.drop_duplicates(subset=['sku'])\n",
        "data.remove_from_cart = data.remove_from_cart.drop_duplicates(subset=['sku'])"
      ]
    },
    {
      "cell_type": "code",
      "execution_count": 12,
      "metadata": {
        "id": "3kff5z8PBGJ5"
      },
      "outputs": [],
      "source": [
        "# prompt: leave only those users which added to cart at least 10 items, and only items which were added by at least 10 users\n",
        "\n",
        "user_counts = data.add_to_cart.groupby('client_id').size()\n",
        "user_counts_remove = data.remove_from_cart.groupby('client_id').size()\n",
        "user_counts_buy = data.product_buy.groupby('client_id').size()\n",
        "\n",
        "# prompt: we calculated how many rows with given user there are in add_to_cart, remove_from_cart and product_buy (user_counts, user_counts_remove and user_counts_buy). Now join them into a single table, and then calculate how many interactions total does every user have and take only users with at least 10 interactions\n",
        "\n",
        "# Combine the counts into a single DataFrame\n",
        "user_interactions = pd.concat([user_counts, user_counts_remove, user_counts_buy], axis=1).fillna(0)\n",
        "user_interactions.columns = ['add_to_cart', 'remove_from_cart', 'product_buy']\n",
        "\n",
        "# Calculate the total interactions for each user\n",
        "user_interactions['total_interactions'] = user_interactions.sum(axis=1)"
      ]
    },
    {
      "cell_type": "code",
      "execution_count": 13,
      "metadata": {
        "colab": {
          "base_uri": "https://localhost:8080/"
        },
        "id": "2BlzpCbluGo7",
        "outputId": "3b2c4465-e5d5-45c0-fbd8-00e5537a543b"
      },
      "outputs": [
        {
          "name": "stdout",
          "output_type": "stream",
          "text": [
            "Users with enough interactions left: 26656\n"
          ]
        },
        {
          "data": {
            "text/plain": [
              "(        client_id            timestamp      sku\n",
              " 0        19160733  2022-08-23 18:05:55   858011\n",
              " 1        19160733  2022-08-23 18:10:10   569264\n",
              " 2        19160733  2022-08-23 18:10:45  1035744\n",
              " 3        19160733  2022-08-23 18:11:05   363476\n",
              " 4        19160733  2022-08-23 18:15:45  1014020\n",
              " ...           ...                  ...      ...\n",
              " 302465   23585940  2022-08-12 08:51:55  1365365\n",
              " 302466   23585940  2022-08-12 08:52:20   841711\n",
              " 302467   23585940  2022-08-12 09:01:45   167812\n",
              " 302468   23585940  2022-08-12 09:05:10  1037763\n",
              " 302469   23585940  2022-08-12 09:05:35   383521\n",
              " \n",
              " [302470 rows x 3 columns],\n",
              "         client_id            timestamp      sku\n",
              " 0        19160733  2022-08-23 18:59:05  1217064\n",
              " 1        19160733  2022-08-23 19:00:25   446526\n",
              " 2        23001812  2022-07-06 10:24:59   338985\n",
              " 3        23001812  2022-07-06 10:41:30   939511\n",
              " 4        23001812  2022-07-06 10:41:30  1103060\n",
              " ...           ...                  ...      ...\n",
              " 219851   15968646  2022-09-26 17:34:00   232508\n",
              " 219852   15968646  2022-09-26 17:34:10  1373580\n",
              " 219853   15968646  2022-09-26 17:34:50   472931\n",
              " 219854   15968646  2022-09-26 17:35:05  1427625\n",
              " 219855   15968646  2022-09-26 17:35:15   730498\n",
              " \n",
              " [219856 rows x 3 columns],\n",
              "         client_id            timestamp      sku\n",
              " 0        19160733  2022-08-23 19:11:10  1002604\n",
              " 1        19160733  2022-08-23 19:11:10   569264\n",
              " 2        19160733  2022-08-23 19:11:10  1453271\n",
              " 3        19160733  2022-08-23 19:11:10  1105039\n",
              " 4        19160733  2022-08-23 19:11:10  1035744\n",
              " ...           ...                  ...      ...\n",
              " 118504   23585940  2022-08-12 13:25:55   694398\n",
              " 118505   23585940  2022-08-12 13:25:55   841711\n",
              " 118506   23585940  2022-08-12 13:25:55   452126\n",
              " 118507   23585940  2022-08-12 13:25:55   408350\n",
              " 118508   23585940  2022-08-12 13:25:55   826513\n",
              " \n",
              " [118509 rows x 3 columns])"
            ]
          },
          "execution_count": 13,
          "metadata": {},
          "output_type": "execute_result"
        }
      ],
      "source": [
        "from src.our_lib import unique_edges\n",
        "\n",
        "# Filter for users with at least 10 total interactions\n",
        "users_with_enough_interactions = user_interactions[user_interactions['total_interactions'] >= 10].index\n",
        "print(f\"Users with enough interactions left: {len(users_with_enough_interactions)}\")\n",
        "data.add_to_cart = data.add_to_cart[data.add_to_cart['client_id'].isin(users_with_enough_interactions)].reset_index(drop=True)\n",
        "data.remove_from_cart = data.remove_from_cart[data.remove_from_cart['client_id'].isin(users_with_enough_interactions)].reset_index(drop=True)\n",
        "data.product_buy = data.product_buy[data.product_buy['client_id'].isin(users_with_enough_interactions)].reset_index(drop=True)\n",
        "\n",
        "unique_add_to_cart = unique_edges(data.add_to_cart)\n",
        "unique_remove_from_cart = unique_edges(data.remove_from_cart)\n",
        "unique_product_buy = unique_edges(data.product_buy)\n",
        "\n",
        "unique_add_to_cart, unique_remove_from_cart, unique_product_buy"
      ]
    },
    {
      "cell_type": "code",
      "execution_count": 14,
      "metadata": {
        "colab": {
          "base_uri": "https://localhost:8080/"
        },
        "id": "Amppn1TAvWmI",
        "outputId": "be265b67-f7b7-4c82-f7f1-6485415fc2dd"
      },
      "outputs": [
        {
          "name": "stdout",
          "output_type": "stream",
          "text": [
            "Total unique users across all tables: 26656\n",
            "Total unique items across all tables: 365893\n"
          ]
        }
      ],
      "source": [
        "# prompt: get unique users from all 3 tables\n",
        "\n",
        "unique_users_add_to_cart = unique_add_to_cart['client_id'].unique()\n",
        "unique_users_remove_from_cart = unique_remove_from_cart['client_id'].unique()\n",
        "unique_users_product_buy = unique_product_buy['client_id'].unique()\n",
        "\n",
        "users = pd.concat([\n",
        "    pd.Series(unique_users_add_to_cart),\n",
        "    pd.Series(unique_users_remove_from_cart),\n",
        "    pd.Series(unique_users_product_buy)\n",
        "]).unique()\n",
        "\n",
        "unique_items_add_to_cart = unique_add_to_cart['sku'].unique()\n",
        "unique_items_remove_from_cart = unique_remove_from_cart['sku'].unique()\n",
        "unique_items_product_buy = unique_product_buy['sku'].unique()\n",
        "\n",
        "items = pd.concat([\n",
        "    pd.Series(unique_items_add_to_cart),\n",
        "    pd.Series(unique_items_remove_from_cart),\n",
        "    pd.Series(unique_items_product_buy)\n",
        "]).unique()\n",
        "\n",
        "print(f\"Total unique users across all tables: {len(users)}\")\n",
        "print(f\"Total unique items across all tables: {len(items)}\")\n",
        "# print(all_unique_users)"
      ]
    },
    {
      "cell_type": "markdown",
      "metadata": {
        "id": "b_0sKCwlFmsq"
      },
      "source": [
        "# training gat"
      ]
    },
    {
      "cell_type": "code",
      "execution_count": 15,
      "metadata": {
        "id": "-B5kdv-hGBez"
      },
      "outputs": [],
      "source": [
        "# imports\n",
        "# from src.our_lib import NodeIdMap, JustGAT, RecGAT, DotproductEdgePredictor, LinearEdgePredictor, BprLossLoader\n",
        "# from src.our_lib import test_out, l2_reg, train_test_split_pos_edges, int_tensor, unique_edges\n",
        "from src.our_lib import NodeIdMap, JustGAT, RecGAT, DotproductEdgePredictor, LinearEdgePredictor, BprLossLoader, test_out, l2_reg, train_test_split_pos_edges, int_tensor, unique_edges, loss_f, create_target_from_edge_index, BprTraining, device\n"
      ]
    },
    {
      "cell_type": "code",
      "execution_count": null,
      "metadata": {},
      "outputs": [],
      "source": [
        "# Split into train-test based on timestamp\n",
        "# 2022-09-26 00:00:00\n",
        "\n",
        "split_timestamp = pd.to_datetime('2022-09-26 00:00:00')\n",
        "print(f\"Split timestamp: {split_timestamp}\")\n",
        "unique_add_to_cart['timestamp'] = pd.to_datetime(unique_add_to_cart['timestamp'])\n",
        "unique_remove_from_cart['timestamp'] = pd.to_datetime(unique_remove_from_cart['timestamp'])\n",
        "unique_product_buy['timestamp'] = pd.to_datetime(unique_product_buy['timestamp'])\n",
        "\n",
        "before_split_add = unique_add_to_cart[unique_add_to_cart['timestamp'] < split_timestamp]\n",
        "after_split_add = unique_add_to_cart[unique_add_to_cart['timestamp'] >= split_timestamp]\n",
        "before_split_remove = unique_remove_from_cart[unique_remove_from_cart['timestamp'] < split_timestamp]\n",
        "after_split_remove = unique_remove_from_cart[unique_remove_from_cart['timestamp'] >= split_timestamp]\n",
        "before_split_buy = unique_product_buy[unique_product_buy['timestamp'] < split_timestamp]\n",
        "after_split_buy = unique_product_buy[unique_product_buy['timestamp'] >= split_timestamp]\n",
        "\n",
        "print(f\"Add_to_cart Records before {split_timestamp}: {len(before_split_add)}\")\n",
        "print(f\"Add_to_cart Records after {split_timestamp}: {len(after_split_add)}\")\n",
        "print(f\"Remove_from_cart Records before {split_timestamp}: {len(before_split_remove)}\")\n",
        "print(f\"Remove_from_cart Records after {split_timestamp}: {len(after_split_remove)}\")\n",
        "print(f\"Product_buy Records before {split_timestamp}: {len(before_split_buy)}\")\n",
        "print(f\"Product_buy Records after {split_timestamp}: {len(after_split_buy)}\")"
      ]
    },
    {
      "cell_type": "code",
      "execution_count": null,
      "metadata": {
        "colab": {
          "base_uri": "https://localhost:8080/"
        },
        "id": "PagNlPLgFlrw",
        "outputId": "df9cfc11-b67d-47a9-fcd6-4dc12308457e"
      },
      "outputs": [
        {
          "name": "stdout",
          "output_type": "stream",
          "text": [
            "Total nodes in user-item graph: 392549\n",
            "all_edge_index.shape torch.Size([2, 302470])\n",
            "all_edge_index_remove.shape torch.Size([2, 219856])\n",
            "all_edge_index_buy.shape torch.Size([2, 118509])\n",
            "train_edges.shape torch.Size([2, 211729])\n"
          ]
        }
      ],
      "source": [
        "### NOTE!:\n",
        "### There are 2 types of ids: product has sku    and the id of a product node in graph (can exchange with node_id_map.item_of_id/id_of_item).\n",
        "#                             user has client_id and the id of a user    node in graph\n",
        "\n",
        "node_id_map = NodeIdMap(users, items)\n",
        "train_edge_index = node_id_map.make_edges(before_split_add.client_id.values, before_split_add.sku.values).to(device=device)\n",
        "test_edge_index = node_id_map.make_edges(after_split_add.client_id.values, after_split_add.sku.values).to(device=device)\n",
        "# all_edge_index = node_id_map.make_edges(unique_add_to_cart.client_id.values, unique_add_to_cart.sku.values).to(device=device)\n",
        "train_edge_index_remove = node_id_map.make_edges(before_split_remove.client_id.values, before_split_remove.sku.values).to(device=device)\n",
        "train_edge_index_buy = node_id_map.make_edges(before_split_buy.client_id.values, before_split_buy.sku.values).to(device=device)\n",
        "# all_edge_index_buy = node_id_map.make_edges(unique_product_buy.client_id.values, unique_product_buy.sku.values).to(device=device)\n",
        "\n",
        "# unneeded now\n",
        "# train_edges, test_edges = train_test_split_pos_edges(all_edge_index, test_size=0.3, random_state=42)\n",
        "\n",
        "N = node_id_map.N\n",
        "print(f\"Total nodes in user-item graph: {N}, users {len(users)}, items {len(items)}\")\n",
        "print(\"(add) train_edge_index.shape\", train_edge_index.shape)\n",
        "print(\"(remove) train_edge_index_remove.shape\", train_edge_index_remove.shape)\n",
        "print(\"(buy) train_edge_index_buy.shape\", train_edge_index_buy.shape)\n",
        "print(\"(add) test_edge_index.shape\", test_edge_index.shape)\n",
        "\n",
        "# Create one-hot encoded vectors for each edge type\n",
        "train_edge_attr_add_to_cart = torch.tensor([[1, 0, 0]], dtype=torch.float).repeat(train_edge_index.size(1), 1).to(device)\n",
        "edge_attr_remove_from_cart = torch.tensor([[0, 1, 0]], dtype=torch.float).repeat(train_edge_index_remove.size(1), 1).to(device)\n",
        "edge_attr_product_buy = torch.tensor([[0, 0, 1]], dtype=torch.float).repeat(train_edge_index_buy.size(1), 1).to(device)"
      ]
    },
    {
      "cell_type": "code",
      "execution_count": null,
      "metadata": {
        "id": "86ARo5Mfv4xF"
      },
      "outputs": [],
      "source": [
        "# TODO: take negatives from batch items, not from all\n",
        "neg_samples = 15\n",
        "batch_size = 16\n",
        "### these are edges used for loss calculation\n",
        "### and they define the graph (maybe together with product_buy, remove_from_cart)\n",
        "train_loader = BprLossLoader(\n",
        "    edge_index=train_edge_index,\n",
        "    trg_index_range=(node_id_map.n_users, node_id_map.N), # node index range for all items (used to sample negative items)\n",
        "    batch_size=batch_size,\n",
        "    neg_samples=neg_samples,\n",
        "    random_state=42,\n",
        "    device=device\n",
        ")\n",
        "\n",
        "test_loader = BprLossLoader(\n",
        "  edge_index=test_edge_index,\n",
        "  trg_index_range=(node_id_map.n_users, node_id_map.N),  # node index range for all items (used to sample negative items)\n",
        "  batch_size=batch_size,\n",
        "  neg_samples=neg_samples,\n",
        "  random_state=42,\n",
        "  device=device\n",
        ")\n"
      ]
    },
    {
      "cell_type": "code",
      "execution_count": null,
      "metadata": {
        "colab": {
          "base_uri": "https://localhost:8080/"
        },
        "id": "W6a_HZXlHUOF",
        "outputId": "48a2c41a-a774-4008-d43b-d9088199eb67"
      },
      "outputs": [
        {
          "name": "stdout",
          "output_type": "stream",
          "text": [
            "Full test target shape: torch.Size([26656, 300])\n",
            "Full test target 1s: tensor(300, device='cuda:0')\n"
          ]
        }
      ],
      "source": [
        "### Making a set of 300 items to test auroc on. (Why not use propensity_items? Because many of them may not be in our data. Sth todo)\n",
        "\n",
        "# Get 300 random items that added to cart at least one item in test set (so that target is not all 0s)\n",
        "\n",
        "n_sample_items = min(300, len(items))\n",
        "items_with_edge = np.array(list(set( (node_id_map.item_of_id[i.item()] for i in set(train_edge_index[1, :]) ))), dtype=np.long)\n",
        "sampled_items = np.random.choice(items_with_edge, n_sample_items, replace=False)\n",
        "# create target for AUROC calculation\n",
        "full_test_target = create_target_from_edge_index(\n",
        "    node_id_map,\n",
        "    node_id_map.n_users,\n",
        "    sampled_items,\n",
        "    test_edge_index\n",
        ").to(device=device)\n",
        "print(\"Full test target shape:\", full_test_target.shape)\n",
        "print(\"Full test target 1s:\", full_test_target.sum())"
      ]
    },
    {
      "cell_type": "code",
      "execution_count": 19,
      "metadata": {
        "id": "JTOiXFHix9LR"
      },
      "outputs": [],
      "source": [
        "def remake_model_if_loss_nan(new_model):\n",
        "  model = new_model()\n",
        "  # model.reinit_weights(type='uniform', a=0.001)\n",
        "  # Take 4096 random user and item indices for testing\n",
        "  n_test = min(4096, model.recgat.node_id_map.n_users, model.recgat.node_id_map.n_items)\n",
        "  user_indices = np.random.choice(model.recgat.node_id_map.n_users, size=n_test)\n",
        "  item_indices = np.random.choice(model.recgat.node_id_map.n_items, size=n_test)\n",
        "  test_user_emb = model.recgat.node_embeddings.weight[user_indices]\n",
        "  test_item_emb = model.recgat.node_embeddings.weight[model.recgat.node_id_map.n_users + item_indices]\n",
        "\n",
        "  loss = loss_f(model.recgat, model.edge_predictor, test_user_emb, test_item_emb)\n",
        "  while torch.isnan(loss) or torch.isneginf(loss) or torch.isinf(loss) or (loss.abs().item() > 10000.0):\n",
        "    print(f\"loss nan, trying out parameter reinitialization: {loss}\")\n",
        "    # model.reinit_weights(type='uniform', a=0.000001)\n",
        "    model = new_model()\n",
        "    loss = loss_f(model.recgat, model.edge_predictor, test_user_emb, test_item_emb)\n",
        "  return model"
      ]
    },
    {
      "cell_type": "code",
      "execution_count": null,
      "metadata": {
        "id": "cw3lmjuSHhbC"
      },
      "outputs": [],
      "source": [
        "\n",
        "embedding_dim = 64\n",
        "edge_dim = 3\n",
        "num_layers=3\n",
        "dropout_gat=0.5\n",
        "init_type='normal'\n",
        "init_a=1.0\n",
        "dropout_edge=0.5\n",
        "lr=0.001\n",
        "l2_reg=0.0001\n",
        "accumulate_grad_batches=10\n",
        "patience=5\n",
        "lr_reduce_factor=0.5\n",
        "lr_scheduler_monitor=\"train_loss\"\n",
        "max_epochs=50\n",
        "\n",
        "def make_model():\n",
        "  ### define graph\n",
        "  # new_recgat = lambda: RecGAT(users, items, embedding_dim=embedding_dim, edge_dim=edge_dim, num_layers=2, device=device, dropout=0.3, type='uniform', a=0.0000001)\n",
        "  new_recgat = lambda: RecGAT(users, items, embedding_dim=embedding_dim, edge_dim=edge_dim, num_layers=num_layers, device=device, dropout=dropout_gat, type=init_type, a=init_a)\n",
        "  recgat = new_recgat()\n",
        "  recgat.add_edge_index(train_edge_index, edge_attr=train_edge_attr_add_to_cart)\n",
        "  recgat.add_edge_index(train_edge_index_remove, edge_attr=edge_attr_remove_from_cart)\n",
        "  recgat.add_edge_index(train_edge_index_buy, edge_attr=edge_attr_product_buy)\n",
        "\n",
        "  ### edge predictor (here: only for add_to_cart edges. todo: predict more stuff (like next purchased category in next 14days from propensity categories) with more varied predictors and combine losses)\n",
        "  edge_predictor = LinearEdgePredictor(embedding_dim=embedding_dim, dropout=dropout_edge).to(device=device)\n",
        "\n",
        "  model = BprTraining(\n",
        "      recgat=recgat,\n",
        "      edge_predictor=edge_predictor,\n",
        "      lr=lr,\n",
        "      l2_reg=l2_reg,\n",
        "      propensity_sku=sampled_items, # for auroc calc\n",
        "      full_test_target=full_test_target, # for auroc calc\n",
        "      patience=patience,\n",
        "      factor=lr_reduce_factor,\n",
        "      lr_scheduler_monitor=lr_scheduler_monitor,\n",
        "      # forward_gat_every_n = 20, ### tradeoff : speed vs training stability\n",
        "      # this has to be fixed and work with n>1, this is slow, use big batch to make up for it:\n",
        "      # forward_gat_every_n = accumulate_grad_batches,\n",
        "    )\n",
        "\n",
        "  ### sillynes\n",
        "  # model = remake_model_if_loss_nan(model)\n",
        "  return model\n"
      ]
    },
    {
      "cell_type": "code",
      "execution_count": null,
      "metadata": {
        "colab": {
          "base_uri": "https://localhost:8080/",
          "height": 486,
          "referenced_widgets": [
            "a8c9ce42791d4b5987461a041e2bbe8f",
            "e9baab30898a43dfa5f7e1486380ce86",
            "6bb02c617c184dccb403a3d0c331ecf0",
            "fd157c654b14415d9d072c47e21f8aee",
            "ecfe1d988e804034a2c21e4f18db9ff3",
            "566eeeff35ab47588c26a3a004b738fa",
            "61399beef2d94528abbea684cf01bdf8",
            "5154532d70bd476aa1341be67594dbd0",
            "82337d7bbc0544aa9b24647f8d968759",
            "69cbf864067e454bade59f83f9abd40a",
            "1f007a8f5ab24c42a54a93a0661b4dcd",
            "a097008c3d3b4c4e86c202f4c601407b",
            "f48d03f2ef28430b97f0ca753aba4016",
            "a6efb6e08e32412f935f01a39cceaccf",
            "1d522ac99d274711adf161dd3a8656ba",
            "07c4ea5a7aae471292fea775d018e9cb",
            "fd7e0ae572a04ce4a54214c440ab9109",
            "0ee97288c743490ea979eb7d3f637f3f",
            "2187f7008dfc4891b6e3611fde62611a",
            "d320b2f06ed448558180ccde7beec62d",
            "a798af21c1f24e749fc4068e1a850099",
            "245fbb4c252742e6825f23fb98de3d99",
            "9a5febf960e2484886462e838d149420",
            "bb2219b91646476796ae86fa69278348",
            "a6ccb7ce64284b6babd8a134cc26d251",
            "9ee455b5a24d4488a4583375f1e9d294",
            "e9f6e25511874167b85c8ff805c66b69",
            "215fc85a672d4fcbbe11508d6a6989db",
            "f1583ea6dd2a4237b929cd33945714ae",
            "fc24f08173c74e7d8371ddd90dd9b0b3",
            "2c364e7d22a64c7cb06b34e7eb7e98b6",
            "8378ec42e246473c8119aa21d26cc5ef",
            "bb9f17f544324f1e9f2e2914b9297e02",
            "003bde14f0974e6bb1b6ea168121ec99",
            "2c05b653569743efa180eff9ece3cdcc",
            "075b618f710c4960ad430ed4958b5d3b",
            "2a2be321797c4e318df91812f8e31cce",
            "29f6a146be3f49299bcafbba34f007f8",
            "2335291520664caba4959b763c6f3676",
            "1ca6e29a807e45c0be31312985a402b5",
            "a64997db4c274ed49de66c2fc4fd1c09",
            "82f22b1c8dde4e12b420f9be7d520e99",
            "87bb4b97e6d8426a97c633f74ac87176",
            "41a76aab7d644fba9266e4fbbda1c970"
          ]
        },
        "id": "vjhV1nEf0NKi",
        "outputId": "ad265e0a-b431-4c1f-ba14-235d62ece8c3"
      },
      "outputs": [
        {
          "name": "stderr",
          "output_type": "stream",
          "text": [
            "INFO:pytorch_lightning.utilities.rank_zero:Using default `ModelCheckpoint`. Consider installing `litmodels` package to enable `LitModelCheckpoint` for automatic upload to the Lightning model registry.\n",
            "INFO:pytorch_lightning.utilities.rank_zero:GPU available: True (cuda), used: True\n",
            "INFO:pytorch_lightning.utilities.rank_zero:TPU available: False, using: 0 TPU cores\n",
            "INFO:pytorch_lightning.utilities.rank_zero:HPU available: False, using: 0 HPUs\n",
            "\u001b[34m\u001b[1mwandb\u001b[0m: Currently logged in as: \u001b[33mzmrocze\u001b[0m (\u001b[33mzmrocze-uniwroc\u001b[0m) to \u001b[32mhttps://api.wandb.ai\u001b[0m. Use \u001b[1m`wandb login --relogin`\u001b[0m to force relogin\n"
          ]
        },
        {
          "data": {
            "text/html": [
              "Tracking run with wandb version 0.19.11"
            ],
            "text/plain": [
              "<IPython.core.display.HTML object>"
            ]
          },
          "metadata": {},
          "output_type": "display_data"
        },
        {
          "data": {
            "text/html": [
              "Run data is saved locally in <code>./wandb/run-20250612_133516-sqrnr67i</code>"
            ],
            "text/plain": [
              "<IPython.core.display.HTML object>"
            ]
          },
          "metadata": {},
          "output_type": "display_data"
        },
        {
          "data": {
            "text/html": [
              "Syncing run <strong><a href='https://wandb.ai/zmrocze-uniwroc/recsys2025/runs/sqrnr67i' target=\"_blank\">recgat_bpr_5per_relevant_3layer_l2_Z</a></strong> to <a href='https://wandb.ai/zmrocze-uniwroc/recsys2025' target=\"_blank\">Weights & Biases</a> (<a href='https://wandb.me/developer-guide' target=\"_blank\">docs</a>)<br>"
            ],
            "text/plain": [
              "<IPython.core.display.HTML object>"
            ]
          },
          "metadata": {},
          "output_type": "display_data"
        },
        {
          "data": {
            "text/html": [
              " View project at <a href='https://wandb.ai/zmrocze-uniwroc/recsys2025' target=\"_blank\">https://wandb.ai/zmrocze-uniwroc/recsys2025</a>"
            ],
            "text/plain": [
              "<IPython.core.display.HTML object>"
            ]
          },
          "metadata": {},
          "output_type": "display_data"
        },
        {
          "data": {
            "text/html": [
              " View run at <a href='https://wandb.ai/zmrocze-uniwroc/recsys2025/runs/sqrnr67i' target=\"_blank\">https://wandb.ai/zmrocze-uniwroc/recsys2025/runs/sqrnr67i</a>"
            ],
            "text/plain": [
              "<IPython.core.display.HTML object>"
            ]
          },
          "metadata": {},
          "output_type": "display_data"
        },
        {
          "name": "stderr",
          "output_type": "stream",
          "text": [
            "\u001b[34m\u001b[1mwandb\u001b[0m: logging graph, to disable use `wandb.watch(log_graph=False)`\n",
            "INFO:pytorch_lightning.accelerators.cuda:LOCAL_RANK: 0 - CUDA_VISIBLE_DEVICES: [0]\n",
            "INFO:pytorch_lightning.callbacks.model_summary:\n",
            "  | Name           | Type                | Params | Mode \n",
            "---------------------------------------------------------------\n",
            "0 | recgat         | RecGAT              | 50.4 M | train\n",
            "1 | edge_predictor | LinearEdgePredictor | 32.9 K | train\n",
            "---------------------------------------------------------------\n",
            "50.4 M    Trainable params\n",
            "0         Non-trainable params\n",
            "50.4 M    Total params\n",
            "201.717   Total estimated model params size (MB)\n",
            "32        Modules in train mode\n",
            "0         Modules in eval mode\n"
          ]
        },
        {
          "data": {
            "application/vnd.jupyter.widget-view+json": {
              "model_id": "a8c9ce42791d4b5987461a041e2bbe8f",
              "version_major": 2,
              "version_minor": 0
            },
            "text/plain": [
              "Sanity Checking: |          | 0/? [00:00<?, ?it/s]"
            ]
          },
          "metadata": {},
          "output_type": "display_data"
        },
        {
          "data": {
            "application/vnd.jupyter.widget-view+json": {
              "model_id": "a097008c3d3b4c4e86c202f4c601407b",
              "version_major": 2,
              "version_minor": 0
            },
            "text/plain": [
              "Training: |          | 0/? [00:00<?, ?it/s]"
            ]
          },
          "metadata": {},
          "output_type": "display_data"
        },
        {
          "data": {
            "application/vnd.jupyter.widget-view+json": {
              "model_id": "9a5febf960e2484886462e838d149420",
              "version_major": 2,
              "version_minor": 0
            },
            "text/plain": [
              "Validation: |          | 0/? [00:00<?, ?it/s]"
            ]
          },
          "metadata": {},
          "output_type": "display_data"
        },
        {
          "data": {
            "application/vnd.jupyter.widget-view+json": {
              "model_id": "003bde14f0974e6bb1b6ea168121ec99",
              "version_major": 2,
              "version_minor": 0
            },
            "text/plain": [
              "Validation: |          | 0/? [00:00<?, ?it/s]"
            ]
          },
          "metadata": {},
          "output_type": "display_data"
        }
      ],
      "source": [
        "from pytorch_lightning.callbacks import ModelCheckpoint, EarlyStopping\n",
        "from pytorch_lightning.loggers import WandbLogger\n",
        "\n",
        "model_checkpoint_val = ModelCheckpoint(\n",
        "    monitor='val_bpr_loss',\n",
        "    auto_insert_metric_name=True,\n",
        "    # dirpath='checkpoints/',\n",
        "    # filename='recgat-{epoch:02d}-{val_loss:.2f}',\n",
        "    save_top_k=2,\n",
        "    mode='min',\n",
        ")\n",
        "model_checkpoint_auroc = ModelCheckpoint(\n",
        "  monitor='val_propensity_auroc',\n",
        "  auto_insert_metric_name=True,\n",
        "  mode = 'max',\n",
        "  save_top_k=2,\n",
        ")\n",
        "\n",
        "# lr_scheduler = torch.optim.lr_scheduler.ReduceLROnPlateau()\n",
        "\n",
        "# sillyunes with nans\n",
        "# model = remake_model_if_loss_nan(make_model)\n",
        "model = make_model()\n",
        "\n",
        "log_model = True\n",
        "wandb_logger = WandbLogger(\n",
        "  project=\"recsys2025\",\n",
        "  name=\"recgat_bpr_relevant_curious\",\n",
        "  log_model=True\n",
        "  )\n",
        "wandb_logger.experiment.config.update({\n",
        "  \"embedding_dim\": embedding_dim,\n",
        "  \"edge_dim\": edge_dim,\n",
        "  \"num_layers\": num_layers,\n",
        "  \"dropout_gat\": dropout_gat,\n",
        "  \"init_type\": init_type,\n",
        "  \"init_a\": init_a,\n",
        "  \"dropout_edge\": dropout_edge,\n",
        "  \"lr\": lr,\n",
        "  \"l2_reg\": l2_reg,\n",
        "  \"batch_size\": batch_size,\n",
        "  \"neg_samples\": neg_samples,\n",
        "  \"log_model\": log_model,\n",
        "  \"graph_items\": model.recgat.node_id_map.n_items,\n",
        "  \"graph_users\": model.recgat.node_id_map.n_users,\n",
        "  \"graph_edges_n\": model.recgat.edge_index.size(1)\n",
        "})\n",
        "\n",
        "trainer = pl.Trainer(  max_epochs=max_epochs\n",
        "                     , check_val_every_n_epoch=accumulate_grad_batches\n",
        "                     , logger=wandb_logger\n",
        "                     , callbacks=[model_checkpoint_auroc, model_checkpoint_val, ]\n",
        "                     , accumulate_grad_batches=accumulate_grad_batches\n",
        "                    #  , terminate_on_nan=True\n",
        "                     )\n",
        "\n",
        "# print(\"test_loader\", test_loader)\n",
        "# print(\"test_edges.shape\", test_edges.shape)\n",
        "wandb_logger.watch(model, log=\"all\")\n",
        "\n",
        "trainer.fit(model, train_loader, val_dataloaders=test_loader)"
      ]
    },
    {
      "cell_type": "code",
      "execution_count": null,
      "metadata": {
        "id": "f1hErzEfJUxx"
      },
      "outputs": [],
      "source": [
        "# model.lr = 0.0001"
      ]
    }
  ],
  "metadata": {
    "accelerator": "GPU",
    "colab": {
      "gpuType": "T4",
      "provenance": []
    },
    "kernelspec": {
      "display_name": "my-mamba-environment",
      "language": "python",
      "name": "python3"
    },
    "language_info": {
      "codemirror_mode": {
        "name": "ipython",
        "version": 3
      },
      "file_extension": ".py",
      "mimetype": "text/x-python",
      "name": "python",
      "nbconvert_exporter": "python",
      "pygments_lexer": "ipython3",
      "version": "3.12.11"
    },
    "widgets": {
      "application/vnd.jupyter.widget-state+json": {
        "003bde14f0974e6bb1b6ea168121ec99": {
          "model_module": "@jupyter-widgets/controls",
          "model_module_version": "1.5.0",
          "model_name": "HBoxModel",
          "state": {
            "_dom_classes": [],
            "_model_module": "@jupyter-widgets/controls",
            "_model_module_version": "1.5.0",
            "_model_name": "HBoxModel",
            "_view_count": null,
            "_view_module": "@jupyter-widgets/controls",
            "_view_module_version": "1.5.0",
            "_view_name": "HBoxView",
            "box_style": "",
            "children": [
              "IPY_MODEL_2c05b653569743efa180eff9ece3cdcc",
              "IPY_MODEL_075b618f710c4960ad430ed4958b5d3b",
              "IPY_MODEL_2a2be321797c4e318df91812f8e31cce"
            ],
            "layout": "IPY_MODEL_29f6a146be3f49299bcafbba34f007f8"
          }
        },
        "075b618f710c4960ad430ed4958b5d3b": {
          "model_module": "@jupyter-widgets/controls",
          "model_module_version": "1.5.0",
          "model_name": "FloatProgressModel",
          "state": {
            "_dom_classes": [],
            "_model_module": "@jupyter-widgets/controls",
            "_model_module_version": "1.5.0",
            "_model_name": "FloatProgressModel",
            "_view_count": null,
            "_view_module": "@jupyter-widgets/controls",
            "_view_module_version": "1.5.0",
            "_view_name": "ProgressView",
            "bar_style": "",
            "description": "",
            "description_tooltip": null,
            "layout": "IPY_MODEL_a64997db4c274ed49de66c2fc4fd1c09",
            "max": 45,
            "min": 0,
            "orientation": "horizontal",
            "style": "IPY_MODEL_82f22b1c8dde4e12b420f9be7d520e99",
            "value": 45
          }
        },
        "07c4ea5a7aae471292fea775d018e9cb": {
          "model_module": "@jupyter-widgets/base",
          "model_module_version": "1.2.0",
          "model_name": "LayoutModel",
          "state": {
            "_model_module": "@jupyter-widgets/base",
            "_model_module_version": "1.2.0",
            "_model_name": "LayoutModel",
            "_view_count": null,
            "_view_module": "@jupyter-widgets/base",
            "_view_module_version": "1.2.0",
            "_view_name": "LayoutView",
            "align_content": null,
            "align_items": null,
            "align_self": null,
            "border": null,
            "bottom": null,
            "display": "inline-flex",
            "flex": null,
            "flex_flow": "row wrap",
            "grid_area": null,
            "grid_auto_columns": null,
            "grid_auto_flow": null,
            "grid_auto_rows": null,
            "grid_column": null,
            "grid_gap": null,
            "grid_row": null,
            "grid_template_areas": null,
            "grid_template_columns": null,
            "grid_template_rows": null,
            "height": null,
            "justify_content": null,
            "justify_items": null,
            "left": null,
            "margin": null,
            "max_height": null,
            "max_width": null,
            "min_height": null,
            "min_width": null,
            "object_fit": null,
            "object_position": null,
            "order": null,
            "overflow": null,
            "overflow_x": null,
            "overflow_y": null,
            "padding": null,
            "right": null,
            "top": null,
            "visibility": null,
            "width": "100%"
          }
        },
        "0ee97288c743490ea979eb7d3f637f3f": {
          "model_module": "@jupyter-widgets/controls",
          "model_module_version": "1.5.0",
          "model_name": "DescriptionStyleModel",
          "state": {
            "_model_module": "@jupyter-widgets/controls",
            "_model_module_version": "1.5.0",
            "_model_name": "DescriptionStyleModel",
            "_view_count": null,
            "_view_module": "@jupyter-widgets/base",
            "_view_module_version": "1.2.0",
            "_view_name": "StyleView",
            "description_width": ""
          }
        },
        "1ca6e29a807e45c0be31312985a402b5": {
          "model_module": "@jupyter-widgets/controls",
          "model_module_version": "1.5.0",
          "model_name": "DescriptionStyleModel",
          "state": {
            "_model_module": "@jupyter-widgets/controls",
            "_model_module_version": "1.5.0",
            "_model_name": "DescriptionStyleModel",
            "_view_count": null,
            "_view_module": "@jupyter-widgets/base",
            "_view_module_version": "1.2.0",
            "_view_name": "StyleView",
            "description_width": ""
          }
        },
        "1d522ac99d274711adf161dd3a8656ba": {
          "model_module": "@jupyter-widgets/controls",
          "model_module_version": "1.5.0",
          "model_name": "HTMLModel",
          "state": {
            "_dom_classes": [],
            "_model_module": "@jupyter-widgets/controls",
            "_model_module_version": "1.5.0",
            "_model_name": "HTMLModel",
            "_view_count": null,
            "_view_module": "@jupyter-widgets/controls",
            "_view_module_version": "1.5.0",
            "_view_name": "HTMLView",
            "description": "",
            "description_tooltip": null,
            "layout": "IPY_MODEL_a798af21c1f24e749fc4068e1a850099",
            "placeholder": "​",
            "style": "IPY_MODEL_245fbb4c252742e6825f23fb98de3d99",
            "value": " 80/104 [00:37&lt;00:11,  2.13it/s, v_num=r67i]"
          }
        },
        "1f007a8f5ab24c42a54a93a0661b4dcd": {
          "model_module": "@jupyter-widgets/controls",
          "model_module_version": "1.5.0",
          "model_name": "DescriptionStyleModel",
          "state": {
            "_model_module": "@jupyter-widgets/controls",
            "_model_module_version": "1.5.0",
            "_model_name": "DescriptionStyleModel",
            "_view_count": null,
            "_view_module": "@jupyter-widgets/base",
            "_view_module_version": "1.2.0",
            "_view_name": "StyleView",
            "description_width": ""
          }
        },
        "215fc85a672d4fcbbe11508d6a6989db": {
          "model_module": "@jupyter-widgets/base",
          "model_module_version": "1.2.0",
          "model_name": "LayoutModel",
          "state": {
            "_model_module": "@jupyter-widgets/base",
            "_model_module_version": "1.2.0",
            "_model_name": "LayoutModel",
            "_view_count": null,
            "_view_module": "@jupyter-widgets/base",
            "_view_module_version": "1.2.0",
            "_view_name": "LayoutView",
            "align_content": null,
            "align_items": null,
            "align_self": null,
            "border": null,
            "bottom": null,
            "display": null,
            "flex": null,
            "flex_flow": null,
            "grid_area": null,
            "grid_auto_columns": null,
            "grid_auto_flow": null,
            "grid_auto_rows": null,
            "grid_column": null,
            "grid_gap": null,
            "grid_row": null,
            "grid_template_areas": null,
            "grid_template_columns": null,
            "grid_template_rows": null,
            "height": null,
            "justify_content": null,
            "justify_items": null,
            "left": null,
            "margin": null,
            "max_height": null,
            "max_width": null,
            "min_height": null,
            "min_width": null,
            "object_fit": null,
            "object_position": null,
            "order": null,
            "overflow": null,
            "overflow_x": null,
            "overflow_y": null,
            "padding": null,
            "right": null,
            "top": null,
            "visibility": null,
            "width": null
          }
        },
        "2187f7008dfc4891b6e3611fde62611a": {
          "model_module": "@jupyter-widgets/base",
          "model_module_version": "1.2.0",
          "model_name": "LayoutModel",
          "state": {
            "_model_module": "@jupyter-widgets/base",
            "_model_module_version": "1.2.0",
            "_model_name": "LayoutModel",
            "_view_count": null,
            "_view_module": "@jupyter-widgets/base",
            "_view_module_version": "1.2.0",
            "_view_name": "LayoutView",
            "align_content": null,
            "align_items": null,
            "align_self": null,
            "border": null,
            "bottom": null,
            "display": null,
            "flex": "2",
            "flex_flow": null,
            "grid_area": null,
            "grid_auto_columns": null,
            "grid_auto_flow": null,
            "grid_auto_rows": null,
            "grid_column": null,
            "grid_gap": null,
            "grid_row": null,
            "grid_template_areas": null,
            "grid_template_columns": null,
            "grid_template_rows": null,
            "height": null,
            "justify_content": null,
            "justify_items": null,
            "left": null,
            "margin": null,
            "max_height": null,
            "max_width": null,
            "min_height": null,
            "min_width": null,
            "object_fit": null,
            "object_position": null,
            "order": null,
            "overflow": null,
            "overflow_x": null,
            "overflow_y": null,
            "padding": null,
            "right": null,
            "top": null,
            "visibility": null,
            "width": null
          }
        },
        "2335291520664caba4959b763c6f3676": {
          "model_module": "@jupyter-widgets/base",
          "model_module_version": "1.2.0",
          "model_name": "LayoutModel",
          "state": {
            "_model_module": "@jupyter-widgets/base",
            "_model_module_version": "1.2.0",
            "_model_name": "LayoutModel",
            "_view_count": null,
            "_view_module": "@jupyter-widgets/base",
            "_view_module_version": "1.2.0",
            "_view_name": "LayoutView",
            "align_content": null,
            "align_items": null,
            "align_self": null,
            "border": null,
            "bottom": null,
            "display": null,
            "flex": null,
            "flex_flow": null,
            "grid_area": null,
            "grid_auto_columns": null,
            "grid_auto_flow": null,
            "grid_auto_rows": null,
            "grid_column": null,
            "grid_gap": null,
            "grid_row": null,
            "grid_template_areas": null,
            "grid_template_columns": null,
            "grid_template_rows": null,
            "height": null,
            "justify_content": null,
            "justify_items": null,
            "left": null,
            "margin": null,
            "max_height": null,
            "max_width": null,
            "min_height": null,
            "min_width": null,
            "object_fit": null,
            "object_position": null,
            "order": null,
            "overflow": null,
            "overflow_x": null,
            "overflow_y": null,
            "padding": null,
            "right": null,
            "top": null,
            "visibility": null,
            "width": null
          }
        },
        "245fbb4c252742e6825f23fb98de3d99": {
          "model_module": "@jupyter-widgets/controls",
          "model_module_version": "1.5.0",
          "model_name": "DescriptionStyleModel",
          "state": {
            "_model_module": "@jupyter-widgets/controls",
            "_model_module_version": "1.5.0",
            "_model_name": "DescriptionStyleModel",
            "_view_count": null,
            "_view_module": "@jupyter-widgets/base",
            "_view_module_version": "1.2.0",
            "_view_name": "StyleView",
            "description_width": ""
          }
        },
        "29f6a146be3f49299bcafbba34f007f8": {
          "model_module": "@jupyter-widgets/base",
          "model_module_version": "1.2.0",
          "model_name": "LayoutModel",
          "state": {
            "_model_module": "@jupyter-widgets/base",
            "_model_module_version": "1.2.0",
            "_model_name": "LayoutModel",
            "_view_count": null,
            "_view_module": "@jupyter-widgets/base",
            "_view_module_version": "1.2.0",
            "_view_name": "LayoutView",
            "align_content": null,
            "align_items": null,
            "align_self": null,
            "border": null,
            "bottom": null,
            "display": "inline-flex",
            "flex": null,
            "flex_flow": "row wrap",
            "grid_area": null,
            "grid_auto_columns": null,
            "grid_auto_flow": null,
            "grid_auto_rows": null,
            "grid_column": null,
            "grid_gap": null,
            "grid_row": null,
            "grid_template_areas": null,
            "grid_template_columns": null,
            "grid_template_rows": null,
            "height": null,
            "justify_content": null,
            "justify_items": null,
            "left": null,
            "margin": null,
            "max_height": null,
            "max_width": null,
            "min_height": null,
            "min_width": null,
            "object_fit": null,
            "object_position": null,
            "order": null,
            "overflow": null,
            "overflow_x": null,
            "overflow_y": null,
            "padding": null,
            "right": null,
            "top": null,
            "visibility": "hidden",
            "width": "100%"
          }
        },
        "2a2be321797c4e318df91812f8e31cce": {
          "model_module": "@jupyter-widgets/controls",
          "model_module_version": "1.5.0",
          "model_name": "HTMLModel",
          "state": {
            "_dom_classes": [],
            "_model_module": "@jupyter-widgets/controls",
            "_model_module_version": "1.5.0",
            "_model_name": "HTMLModel",
            "_view_count": null,
            "_view_module": "@jupyter-widgets/controls",
            "_view_module_version": "1.5.0",
            "_view_name": "HTMLView",
            "description": "",
            "description_tooltip": null,
            "layout": "IPY_MODEL_87bb4b97e6d8426a97c633f74ac87176",
            "placeholder": "​",
            "style": "IPY_MODEL_41a76aab7d644fba9266e4fbbda1c970",
            "value": " 45/45 [00:05&lt;00:00,  8.29it/s]"
          }
        },
        "2c05b653569743efa180eff9ece3cdcc": {
          "model_module": "@jupyter-widgets/controls",
          "model_module_version": "1.5.0",
          "model_name": "HTMLModel",
          "state": {
            "_dom_classes": [],
            "_model_module": "@jupyter-widgets/controls",
            "_model_module_version": "1.5.0",
            "_model_name": "HTMLModel",
            "_view_count": null,
            "_view_module": "@jupyter-widgets/controls",
            "_view_module_version": "1.5.0",
            "_view_name": "HTMLView",
            "description": "",
            "description_tooltip": null,
            "layout": "IPY_MODEL_2335291520664caba4959b763c6f3676",
            "placeholder": "​",
            "style": "IPY_MODEL_1ca6e29a807e45c0be31312985a402b5",
            "value": "Validation DataLoader 0: 100%"
          }
        },
        "2c364e7d22a64c7cb06b34e7eb7e98b6": {
          "model_module": "@jupyter-widgets/controls",
          "model_module_version": "1.5.0",
          "model_name": "ProgressStyleModel",
          "state": {
            "_model_module": "@jupyter-widgets/controls",
            "_model_module_version": "1.5.0",
            "_model_name": "ProgressStyleModel",
            "_view_count": null,
            "_view_module": "@jupyter-widgets/base",
            "_view_module_version": "1.2.0",
            "_view_name": "StyleView",
            "bar_color": null,
            "description_width": ""
          }
        },
        "41a76aab7d644fba9266e4fbbda1c970": {
          "model_module": "@jupyter-widgets/controls",
          "model_module_version": "1.5.0",
          "model_name": "DescriptionStyleModel",
          "state": {
            "_model_module": "@jupyter-widgets/controls",
            "_model_module_version": "1.5.0",
            "_model_name": "DescriptionStyleModel",
            "_view_count": null,
            "_view_module": "@jupyter-widgets/base",
            "_view_module_version": "1.2.0",
            "_view_name": "StyleView",
            "description_width": ""
          }
        },
        "5154532d70bd476aa1341be67594dbd0": {
          "model_module": "@jupyter-widgets/base",
          "model_module_version": "1.2.0",
          "model_name": "LayoutModel",
          "state": {
            "_model_module": "@jupyter-widgets/base",
            "_model_module_version": "1.2.0",
            "_model_name": "LayoutModel",
            "_view_count": null,
            "_view_module": "@jupyter-widgets/base",
            "_view_module_version": "1.2.0",
            "_view_name": "LayoutView",
            "align_content": null,
            "align_items": null,
            "align_self": null,
            "border": null,
            "bottom": null,
            "display": null,
            "flex": "2",
            "flex_flow": null,
            "grid_area": null,
            "grid_auto_columns": null,
            "grid_auto_flow": null,
            "grid_auto_rows": null,
            "grid_column": null,
            "grid_gap": null,
            "grid_row": null,
            "grid_template_areas": null,
            "grid_template_columns": null,
            "grid_template_rows": null,
            "height": null,
            "justify_content": null,
            "justify_items": null,
            "left": null,
            "margin": null,
            "max_height": null,
            "max_width": null,
            "min_height": null,
            "min_width": null,
            "object_fit": null,
            "object_position": null,
            "order": null,
            "overflow": null,
            "overflow_x": null,
            "overflow_y": null,
            "padding": null,
            "right": null,
            "top": null,
            "visibility": null,
            "width": null
          }
        },
        "566eeeff35ab47588c26a3a004b738fa": {
          "model_module": "@jupyter-widgets/base",
          "model_module_version": "1.2.0",
          "model_name": "LayoutModel",
          "state": {
            "_model_module": "@jupyter-widgets/base",
            "_model_module_version": "1.2.0",
            "_model_name": "LayoutModel",
            "_view_count": null,
            "_view_module": "@jupyter-widgets/base",
            "_view_module_version": "1.2.0",
            "_view_name": "LayoutView",
            "align_content": null,
            "align_items": null,
            "align_self": null,
            "border": null,
            "bottom": null,
            "display": null,
            "flex": null,
            "flex_flow": null,
            "grid_area": null,
            "grid_auto_columns": null,
            "grid_auto_flow": null,
            "grid_auto_rows": null,
            "grid_column": null,
            "grid_gap": null,
            "grid_row": null,
            "grid_template_areas": null,
            "grid_template_columns": null,
            "grid_template_rows": null,
            "height": null,
            "justify_content": null,
            "justify_items": null,
            "left": null,
            "margin": null,
            "max_height": null,
            "max_width": null,
            "min_height": null,
            "min_width": null,
            "object_fit": null,
            "object_position": null,
            "order": null,
            "overflow": null,
            "overflow_x": null,
            "overflow_y": null,
            "padding": null,
            "right": null,
            "top": null,
            "visibility": null,
            "width": null
          }
        },
        "61399beef2d94528abbea684cf01bdf8": {
          "model_module": "@jupyter-widgets/controls",
          "model_module_version": "1.5.0",
          "model_name": "DescriptionStyleModel",
          "state": {
            "_model_module": "@jupyter-widgets/controls",
            "_model_module_version": "1.5.0",
            "_model_name": "DescriptionStyleModel",
            "_view_count": null,
            "_view_module": "@jupyter-widgets/base",
            "_view_module_version": "1.2.0",
            "_view_name": "StyleView",
            "description_width": ""
          }
        },
        "69cbf864067e454bade59f83f9abd40a": {
          "model_module": "@jupyter-widgets/base",
          "model_module_version": "1.2.0",
          "model_name": "LayoutModel",
          "state": {
            "_model_module": "@jupyter-widgets/base",
            "_model_module_version": "1.2.0",
            "_model_name": "LayoutModel",
            "_view_count": null,
            "_view_module": "@jupyter-widgets/base",
            "_view_module_version": "1.2.0",
            "_view_name": "LayoutView",
            "align_content": null,
            "align_items": null,
            "align_self": null,
            "border": null,
            "bottom": null,
            "display": null,
            "flex": null,
            "flex_flow": null,
            "grid_area": null,
            "grid_auto_columns": null,
            "grid_auto_flow": null,
            "grid_auto_rows": null,
            "grid_column": null,
            "grid_gap": null,
            "grid_row": null,
            "grid_template_areas": null,
            "grid_template_columns": null,
            "grid_template_rows": null,
            "height": null,
            "justify_content": null,
            "justify_items": null,
            "left": null,
            "margin": null,
            "max_height": null,
            "max_width": null,
            "min_height": null,
            "min_width": null,
            "object_fit": null,
            "object_position": null,
            "order": null,
            "overflow": null,
            "overflow_x": null,
            "overflow_y": null,
            "padding": null,
            "right": null,
            "top": null,
            "visibility": null,
            "width": null
          }
        },
        "6bb02c617c184dccb403a3d0c331ecf0": {
          "model_module": "@jupyter-widgets/controls",
          "model_module_version": "1.5.0",
          "model_name": "FloatProgressModel",
          "state": {
            "_dom_classes": [],
            "_model_module": "@jupyter-widgets/controls",
            "_model_module_version": "1.5.0",
            "_model_name": "FloatProgressModel",
            "_view_count": null,
            "_view_module": "@jupyter-widgets/controls",
            "_view_module_version": "1.5.0",
            "_view_name": "ProgressView",
            "bar_style": "",
            "description": "",
            "description_tooltip": null,
            "layout": "IPY_MODEL_5154532d70bd476aa1341be67594dbd0",
            "max": 2,
            "min": 0,
            "orientation": "horizontal",
            "style": "IPY_MODEL_82337d7bbc0544aa9b24647f8d968759",
            "value": 2
          }
        },
        "82337d7bbc0544aa9b24647f8d968759": {
          "model_module": "@jupyter-widgets/controls",
          "model_module_version": "1.5.0",
          "model_name": "ProgressStyleModel",
          "state": {
            "_model_module": "@jupyter-widgets/controls",
            "_model_module_version": "1.5.0",
            "_model_name": "ProgressStyleModel",
            "_view_count": null,
            "_view_module": "@jupyter-widgets/base",
            "_view_module_version": "1.2.0",
            "_view_name": "StyleView",
            "bar_color": null,
            "description_width": ""
          }
        },
        "82f22b1c8dde4e12b420f9be7d520e99": {
          "model_module": "@jupyter-widgets/controls",
          "model_module_version": "1.5.0",
          "model_name": "ProgressStyleModel",
          "state": {
            "_model_module": "@jupyter-widgets/controls",
            "_model_module_version": "1.5.0",
            "_model_name": "ProgressStyleModel",
            "_view_count": null,
            "_view_module": "@jupyter-widgets/base",
            "_view_module_version": "1.2.0",
            "_view_name": "StyleView",
            "bar_color": null,
            "description_width": ""
          }
        },
        "8378ec42e246473c8119aa21d26cc5ef": {
          "model_module": "@jupyter-widgets/base",
          "model_module_version": "1.2.0",
          "model_name": "LayoutModel",
          "state": {
            "_model_module": "@jupyter-widgets/base",
            "_model_module_version": "1.2.0",
            "_model_name": "LayoutModel",
            "_view_count": null,
            "_view_module": "@jupyter-widgets/base",
            "_view_module_version": "1.2.0",
            "_view_name": "LayoutView",
            "align_content": null,
            "align_items": null,
            "align_self": null,
            "border": null,
            "bottom": null,
            "display": null,
            "flex": null,
            "flex_flow": null,
            "grid_area": null,
            "grid_auto_columns": null,
            "grid_auto_flow": null,
            "grid_auto_rows": null,
            "grid_column": null,
            "grid_gap": null,
            "grid_row": null,
            "grid_template_areas": null,
            "grid_template_columns": null,
            "grid_template_rows": null,
            "height": null,
            "justify_content": null,
            "justify_items": null,
            "left": null,
            "margin": null,
            "max_height": null,
            "max_width": null,
            "min_height": null,
            "min_width": null,
            "object_fit": null,
            "object_position": null,
            "order": null,
            "overflow": null,
            "overflow_x": null,
            "overflow_y": null,
            "padding": null,
            "right": null,
            "top": null,
            "visibility": null,
            "width": null
          }
        },
        "87bb4b97e6d8426a97c633f74ac87176": {
          "model_module": "@jupyter-widgets/base",
          "model_module_version": "1.2.0",
          "model_name": "LayoutModel",
          "state": {
            "_model_module": "@jupyter-widgets/base",
            "_model_module_version": "1.2.0",
            "_model_name": "LayoutModel",
            "_view_count": null,
            "_view_module": "@jupyter-widgets/base",
            "_view_module_version": "1.2.0",
            "_view_name": "LayoutView",
            "align_content": null,
            "align_items": null,
            "align_self": null,
            "border": null,
            "bottom": null,
            "display": null,
            "flex": null,
            "flex_flow": null,
            "grid_area": null,
            "grid_auto_columns": null,
            "grid_auto_flow": null,
            "grid_auto_rows": null,
            "grid_column": null,
            "grid_gap": null,
            "grid_row": null,
            "grid_template_areas": null,
            "grid_template_columns": null,
            "grid_template_rows": null,
            "height": null,
            "justify_content": null,
            "justify_items": null,
            "left": null,
            "margin": null,
            "max_height": null,
            "max_width": null,
            "min_height": null,
            "min_width": null,
            "object_fit": null,
            "object_position": null,
            "order": null,
            "overflow": null,
            "overflow_x": null,
            "overflow_y": null,
            "padding": null,
            "right": null,
            "top": null,
            "visibility": null,
            "width": null
          }
        },
        "9a5febf960e2484886462e838d149420": {
          "model_module": "@jupyter-widgets/controls",
          "model_module_version": "1.5.0",
          "model_name": "HBoxModel",
          "state": {
            "_dom_classes": [],
            "_model_module": "@jupyter-widgets/controls",
            "_model_module_version": "1.5.0",
            "_model_name": "HBoxModel",
            "_view_count": null,
            "_view_module": "@jupyter-widgets/controls",
            "_view_module_version": "1.5.0",
            "_view_name": "HBoxView",
            "box_style": "",
            "children": [
              "IPY_MODEL_bb2219b91646476796ae86fa69278348",
              "IPY_MODEL_a6ccb7ce64284b6babd8a134cc26d251",
              "IPY_MODEL_9ee455b5a24d4488a4583375f1e9d294"
            ],
            "layout": "IPY_MODEL_e9f6e25511874167b85c8ff805c66b69"
          }
        },
        "9ee455b5a24d4488a4583375f1e9d294": {
          "model_module": "@jupyter-widgets/controls",
          "model_module_version": "1.5.0",
          "model_name": "HTMLModel",
          "state": {
            "_dom_classes": [],
            "_model_module": "@jupyter-widgets/controls",
            "_model_module_version": "1.5.0",
            "_model_name": "HTMLModel",
            "_view_count": null,
            "_view_module": "@jupyter-widgets/controls",
            "_view_module_version": "1.5.0",
            "_view_name": "HTMLView",
            "description": "",
            "description_tooltip": null,
            "layout": "IPY_MODEL_8378ec42e246473c8119aa21d26cc5ef",
            "placeholder": "​",
            "style": "IPY_MODEL_bb9f17f544324f1e9f2e2914b9297e02",
            "value": " 45/45 [00:05&lt;00:00,  8.31it/s]"
          }
        },
        "a097008c3d3b4c4e86c202f4c601407b": {
          "model_module": "@jupyter-widgets/controls",
          "model_module_version": "1.5.0",
          "model_name": "HBoxModel",
          "state": {
            "_dom_classes": [],
            "_model_module": "@jupyter-widgets/controls",
            "_model_module_version": "1.5.0",
            "_model_name": "HBoxModel",
            "_view_count": null,
            "_view_module": "@jupyter-widgets/controls",
            "_view_module_version": "1.5.0",
            "_view_name": "HBoxView",
            "box_style": "",
            "children": [
              "IPY_MODEL_f48d03f2ef28430b97f0ca753aba4016",
              "IPY_MODEL_a6efb6e08e32412f935f01a39cceaccf",
              "IPY_MODEL_1d522ac99d274711adf161dd3a8656ba"
            ],
            "layout": "IPY_MODEL_07c4ea5a7aae471292fea775d018e9cb"
          }
        },
        "a64997db4c274ed49de66c2fc4fd1c09": {
          "model_module": "@jupyter-widgets/base",
          "model_module_version": "1.2.0",
          "model_name": "LayoutModel",
          "state": {
            "_model_module": "@jupyter-widgets/base",
            "_model_module_version": "1.2.0",
            "_model_name": "LayoutModel",
            "_view_count": null,
            "_view_module": "@jupyter-widgets/base",
            "_view_module_version": "1.2.0",
            "_view_name": "LayoutView",
            "align_content": null,
            "align_items": null,
            "align_self": null,
            "border": null,
            "bottom": null,
            "display": null,
            "flex": "2",
            "flex_flow": null,
            "grid_area": null,
            "grid_auto_columns": null,
            "grid_auto_flow": null,
            "grid_auto_rows": null,
            "grid_column": null,
            "grid_gap": null,
            "grid_row": null,
            "grid_template_areas": null,
            "grid_template_columns": null,
            "grid_template_rows": null,
            "height": null,
            "justify_content": null,
            "justify_items": null,
            "left": null,
            "margin": null,
            "max_height": null,
            "max_width": null,
            "min_height": null,
            "min_width": null,
            "object_fit": null,
            "object_position": null,
            "order": null,
            "overflow": null,
            "overflow_x": null,
            "overflow_y": null,
            "padding": null,
            "right": null,
            "top": null,
            "visibility": null,
            "width": null
          }
        },
        "a6ccb7ce64284b6babd8a134cc26d251": {
          "model_module": "@jupyter-widgets/controls",
          "model_module_version": "1.5.0",
          "model_name": "FloatProgressModel",
          "state": {
            "_dom_classes": [],
            "_model_module": "@jupyter-widgets/controls",
            "_model_module_version": "1.5.0",
            "_model_name": "FloatProgressModel",
            "_view_count": null,
            "_view_module": "@jupyter-widgets/controls",
            "_view_module_version": "1.5.0",
            "_view_name": "ProgressView",
            "bar_style": "",
            "description": "",
            "description_tooltip": null,
            "layout": "IPY_MODEL_fc24f08173c74e7d8371ddd90dd9b0b3",
            "max": 45,
            "min": 0,
            "orientation": "horizontal",
            "style": "IPY_MODEL_2c364e7d22a64c7cb06b34e7eb7e98b6",
            "value": 45
          }
        },
        "a6efb6e08e32412f935f01a39cceaccf": {
          "model_module": "@jupyter-widgets/controls",
          "model_module_version": "1.5.0",
          "model_name": "FloatProgressModel",
          "state": {
            "_dom_classes": [],
            "_model_module": "@jupyter-widgets/controls",
            "_model_module_version": "1.5.0",
            "_model_name": "FloatProgressModel",
            "_view_count": null,
            "_view_module": "@jupyter-widgets/controls",
            "_view_module_version": "1.5.0",
            "_view_name": "ProgressView",
            "bar_style": "",
            "description": "",
            "description_tooltip": null,
            "layout": "IPY_MODEL_2187f7008dfc4891b6e3611fde62611a",
            "max": 104,
            "min": 0,
            "orientation": "horizontal",
            "style": "IPY_MODEL_d320b2f06ed448558180ccde7beec62d",
            "value": 80
          }
        },
        "a798af21c1f24e749fc4068e1a850099": {
          "model_module": "@jupyter-widgets/base",
          "model_module_version": "1.2.0",
          "model_name": "LayoutModel",
          "state": {
            "_model_module": "@jupyter-widgets/base",
            "_model_module_version": "1.2.0",
            "_model_name": "LayoutModel",
            "_view_count": null,
            "_view_module": "@jupyter-widgets/base",
            "_view_module_version": "1.2.0",
            "_view_name": "LayoutView",
            "align_content": null,
            "align_items": null,
            "align_self": null,
            "border": null,
            "bottom": null,
            "display": null,
            "flex": null,
            "flex_flow": null,
            "grid_area": null,
            "grid_auto_columns": null,
            "grid_auto_flow": null,
            "grid_auto_rows": null,
            "grid_column": null,
            "grid_gap": null,
            "grid_row": null,
            "grid_template_areas": null,
            "grid_template_columns": null,
            "grid_template_rows": null,
            "height": null,
            "justify_content": null,
            "justify_items": null,
            "left": null,
            "margin": null,
            "max_height": null,
            "max_width": null,
            "min_height": null,
            "min_width": null,
            "object_fit": null,
            "object_position": null,
            "order": null,
            "overflow": null,
            "overflow_x": null,
            "overflow_y": null,
            "padding": null,
            "right": null,
            "top": null,
            "visibility": null,
            "width": null
          }
        },
        "a8c9ce42791d4b5987461a041e2bbe8f": {
          "model_module": "@jupyter-widgets/controls",
          "model_module_version": "1.5.0",
          "model_name": "HBoxModel",
          "state": {
            "_dom_classes": [],
            "_model_module": "@jupyter-widgets/controls",
            "_model_module_version": "1.5.0",
            "_model_name": "HBoxModel",
            "_view_count": null,
            "_view_module": "@jupyter-widgets/controls",
            "_view_module_version": "1.5.0",
            "_view_name": "HBoxView",
            "box_style": "",
            "children": [
              "IPY_MODEL_e9baab30898a43dfa5f7e1486380ce86",
              "IPY_MODEL_6bb02c617c184dccb403a3d0c331ecf0",
              "IPY_MODEL_fd157c654b14415d9d072c47e21f8aee"
            ],
            "layout": "IPY_MODEL_ecfe1d988e804034a2c21e4f18db9ff3"
          }
        },
        "bb2219b91646476796ae86fa69278348": {
          "model_module": "@jupyter-widgets/controls",
          "model_module_version": "1.5.0",
          "model_name": "HTMLModel",
          "state": {
            "_dom_classes": [],
            "_model_module": "@jupyter-widgets/controls",
            "_model_module_version": "1.5.0",
            "_model_name": "HTMLModel",
            "_view_count": null,
            "_view_module": "@jupyter-widgets/controls",
            "_view_module_version": "1.5.0",
            "_view_name": "HTMLView",
            "description": "",
            "description_tooltip": null,
            "layout": "IPY_MODEL_215fc85a672d4fcbbe11508d6a6989db",
            "placeholder": "​",
            "style": "IPY_MODEL_f1583ea6dd2a4237b929cd33945714ae",
            "value": "Validation DataLoader 0: 100%"
          }
        },
        "bb9f17f544324f1e9f2e2914b9297e02": {
          "model_module": "@jupyter-widgets/controls",
          "model_module_version": "1.5.0",
          "model_name": "DescriptionStyleModel",
          "state": {
            "_model_module": "@jupyter-widgets/controls",
            "_model_module_version": "1.5.0",
            "_model_name": "DescriptionStyleModel",
            "_view_count": null,
            "_view_module": "@jupyter-widgets/base",
            "_view_module_version": "1.2.0",
            "_view_name": "StyleView",
            "description_width": ""
          }
        },
        "d320b2f06ed448558180ccde7beec62d": {
          "model_module": "@jupyter-widgets/controls",
          "model_module_version": "1.5.0",
          "model_name": "ProgressStyleModel",
          "state": {
            "_model_module": "@jupyter-widgets/controls",
            "_model_module_version": "1.5.0",
            "_model_name": "ProgressStyleModel",
            "_view_count": null,
            "_view_module": "@jupyter-widgets/base",
            "_view_module_version": "1.2.0",
            "_view_name": "StyleView",
            "bar_color": null,
            "description_width": ""
          }
        },
        "e9baab30898a43dfa5f7e1486380ce86": {
          "model_module": "@jupyter-widgets/controls",
          "model_module_version": "1.5.0",
          "model_name": "HTMLModel",
          "state": {
            "_dom_classes": [],
            "_model_module": "@jupyter-widgets/controls",
            "_model_module_version": "1.5.0",
            "_model_name": "HTMLModel",
            "_view_count": null,
            "_view_module": "@jupyter-widgets/controls",
            "_view_module_version": "1.5.0",
            "_view_name": "HTMLView",
            "description": "",
            "description_tooltip": null,
            "layout": "IPY_MODEL_566eeeff35ab47588c26a3a004b738fa",
            "placeholder": "​",
            "style": "IPY_MODEL_61399beef2d94528abbea684cf01bdf8",
            "value": "Sanity Checking DataLoader 0: 100%"
          }
        },
        "e9f6e25511874167b85c8ff805c66b69": {
          "model_module": "@jupyter-widgets/base",
          "model_module_version": "1.2.0",
          "model_name": "LayoutModel",
          "state": {
            "_model_module": "@jupyter-widgets/base",
            "_model_module_version": "1.2.0",
            "_model_name": "LayoutModel",
            "_view_count": null,
            "_view_module": "@jupyter-widgets/base",
            "_view_module_version": "1.2.0",
            "_view_name": "LayoutView",
            "align_content": null,
            "align_items": null,
            "align_self": null,
            "border": null,
            "bottom": null,
            "display": "inline-flex",
            "flex": null,
            "flex_flow": "row wrap",
            "grid_area": null,
            "grid_auto_columns": null,
            "grid_auto_flow": null,
            "grid_auto_rows": null,
            "grid_column": null,
            "grid_gap": null,
            "grid_row": null,
            "grid_template_areas": null,
            "grid_template_columns": null,
            "grid_template_rows": null,
            "height": null,
            "justify_content": null,
            "justify_items": null,
            "left": null,
            "margin": null,
            "max_height": null,
            "max_width": null,
            "min_height": null,
            "min_width": null,
            "object_fit": null,
            "object_position": null,
            "order": null,
            "overflow": null,
            "overflow_x": null,
            "overflow_y": null,
            "padding": null,
            "right": null,
            "top": null,
            "visibility": "hidden",
            "width": "100%"
          }
        },
        "ecfe1d988e804034a2c21e4f18db9ff3": {
          "model_module": "@jupyter-widgets/base",
          "model_module_version": "1.2.0",
          "model_name": "LayoutModel",
          "state": {
            "_model_module": "@jupyter-widgets/base",
            "_model_module_version": "1.2.0",
            "_model_name": "LayoutModel",
            "_view_count": null,
            "_view_module": "@jupyter-widgets/base",
            "_view_module_version": "1.2.0",
            "_view_name": "LayoutView",
            "align_content": null,
            "align_items": null,
            "align_self": null,
            "border": null,
            "bottom": null,
            "display": "inline-flex",
            "flex": null,
            "flex_flow": "row wrap",
            "grid_area": null,
            "grid_auto_columns": null,
            "grid_auto_flow": null,
            "grid_auto_rows": null,
            "grid_column": null,
            "grid_gap": null,
            "grid_row": null,
            "grid_template_areas": null,
            "grid_template_columns": null,
            "grid_template_rows": null,
            "height": null,
            "justify_content": null,
            "justify_items": null,
            "left": null,
            "margin": null,
            "max_height": null,
            "max_width": null,
            "min_height": null,
            "min_width": null,
            "object_fit": null,
            "object_position": null,
            "order": null,
            "overflow": null,
            "overflow_x": null,
            "overflow_y": null,
            "padding": null,
            "right": null,
            "top": null,
            "visibility": "hidden",
            "width": "100%"
          }
        },
        "f1583ea6dd2a4237b929cd33945714ae": {
          "model_module": "@jupyter-widgets/controls",
          "model_module_version": "1.5.0",
          "model_name": "DescriptionStyleModel",
          "state": {
            "_model_module": "@jupyter-widgets/controls",
            "_model_module_version": "1.5.0",
            "_model_name": "DescriptionStyleModel",
            "_view_count": null,
            "_view_module": "@jupyter-widgets/base",
            "_view_module_version": "1.2.0",
            "_view_name": "StyleView",
            "description_width": ""
          }
        },
        "f48d03f2ef28430b97f0ca753aba4016": {
          "model_module": "@jupyter-widgets/controls",
          "model_module_version": "1.5.0",
          "model_name": "HTMLModel",
          "state": {
            "_dom_classes": [],
            "_model_module": "@jupyter-widgets/controls",
            "_model_module_version": "1.5.0",
            "_model_name": "HTMLModel",
            "_view_count": null,
            "_view_module": "@jupyter-widgets/controls",
            "_view_module_version": "1.5.0",
            "_view_name": "HTMLView",
            "description": "",
            "description_tooltip": null,
            "layout": "IPY_MODEL_fd7e0ae572a04ce4a54214c440ab9109",
            "placeholder": "​",
            "style": "IPY_MODEL_0ee97288c743490ea979eb7d3f637f3f",
            "value": "Epoch 2:  77%"
          }
        },
        "fc24f08173c74e7d8371ddd90dd9b0b3": {
          "model_module": "@jupyter-widgets/base",
          "model_module_version": "1.2.0",
          "model_name": "LayoutModel",
          "state": {
            "_model_module": "@jupyter-widgets/base",
            "_model_module_version": "1.2.0",
            "_model_name": "LayoutModel",
            "_view_count": null,
            "_view_module": "@jupyter-widgets/base",
            "_view_module_version": "1.2.0",
            "_view_name": "LayoutView",
            "align_content": null,
            "align_items": null,
            "align_self": null,
            "border": null,
            "bottom": null,
            "display": null,
            "flex": "2",
            "flex_flow": null,
            "grid_area": null,
            "grid_auto_columns": null,
            "grid_auto_flow": null,
            "grid_auto_rows": null,
            "grid_column": null,
            "grid_gap": null,
            "grid_row": null,
            "grid_template_areas": null,
            "grid_template_columns": null,
            "grid_template_rows": null,
            "height": null,
            "justify_content": null,
            "justify_items": null,
            "left": null,
            "margin": null,
            "max_height": null,
            "max_width": null,
            "min_height": null,
            "min_width": null,
            "object_fit": null,
            "object_position": null,
            "order": null,
            "overflow": null,
            "overflow_x": null,
            "overflow_y": null,
            "padding": null,
            "right": null,
            "top": null,
            "visibility": null,
            "width": null
          }
        },
        "fd157c654b14415d9d072c47e21f8aee": {
          "model_module": "@jupyter-widgets/controls",
          "model_module_version": "1.5.0",
          "model_name": "HTMLModel",
          "state": {
            "_dom_classes": [],
            "_model_module": "@jupyter-widgets/controls",
            "_model_module_version": "1.5.0",
            "_model_name": "HTMLModel",
            "_view_count": null,
            "_view_module": "@jupyter-widgets/controls",
            "_view_module_version": "1.5.0",
            "_view_name": "HTMLView",
            "description": "",
            "description_tooltip": null,
            "layout": "IPY_MODEL_69cbf864067e454bade59f83f9abd40a",
            "placeholder": "​",
            "style": "IPY_MODEL_1f007a8f5ab24c42a54a93a0661b4dcd",
            "value": " 2/2 [00:01&lt;00:00,  1.65it/s]"
          }
        },
        "fd7e0ae572a04ce4a54214c440ab9109": {
          "model_module": "@jupyter-widgets/base",
          "model_module_version": "1.2.0",
          "model_name": "LayoutModel",
          "state": {
            "_model_module": "@jupyter-widgets/base",
            "_model_module_version": "1.2.0",
            "_model_name": "LayoutModel",
            "_view_count": null,
            "_view_module": "@jupyter-widgets/base",
            "_view_module_version": "1.2.0",
            "_view_name": "LayoutView",
            "align_content": null,
            "align_items": null,
            "align_self": null,
            "border": null,
            "bottom": null,
            "display": null,
            "flex": null,
            "flex_flow": null,
            "grid_area": null,
            "grid_auto_columns": null,
            "grid_auto_flow": null,
            "grid_auto_rows": null,
            "grid_column": null,
            "grid_gap": null,
            "grid_row": null,
            "grid_template_areas": null,
            "grid_template_columns": null,
            "grid_template_rows": null,
            "height": null,
            "justify_content": null,
            "justify_items": null,
            "left": null,
            "margin": null,
            "max_height": null,
            "max_width": null,
            "min_height": null,
            "min_width": null,
            "object_fit": null,
            "object_position": null,
            "order": null,
            "overflow": null,
            "overflow_x": null,
            "overflow_y": null,
            "padding": null,
            "right": null,
            "top": null,
            "visibility": null,
            "width": null
          }
        }
      }
    }
  },
  "nbformat": 4,
  "nbformat_minor": 0
}
