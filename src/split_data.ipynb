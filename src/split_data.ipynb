{
 "cells": [
  {
   "cell_type": "code",
   "execution_count": null,
   "id": "8e571b5d",
   "metadata": {},
   "outputs": [
    {
     "name": "stdout",
     "output_type": "stream",
     "text": [
      "/Users/sonor/Documents/Projekty/recsys2025_challenge/src/our_lib\n"
     ]
    }
   ],
   "source": [
    "%load_ext autoreload\n",
    "%autoreload 2\n",
    "%reload_ext autoreload\n",
    "\n",
    "import os\n",
    "import sys\n",
    "\n",
    "\n",
    "module_path = os.path.abspath(os.path.join('../.')) # or the path to your source code\n",
    "sys.path.append(module_path)\n",
    "module_path = os.path.abspath(os.path.join('../recsys2025')) # or the path to your source code\n",
    "sys.path.append(module_path)\n",
    "\n",
    "from recsys2025.data_utils import split_data"
   ]
  },
  {
   "cell_type": "code",
   "execution_count": null,
   "id": "578f5229",
   "metadata": {},
   "outputs": [
    {
     "name": "stderr",
     "output_type": "stream",
     "text": [
      "INFO:recsys2025.data_utils.split_data:Creating splits for product_buy event type\n",
      "INFO:recsys2025.data_utils.split_data:Creating splits for add_to_cart event type\n",
      "INFO:recsys2025.data_utils.split_data:Creating splits for remove_from_cart event type\n",
      "INFO:recsys2025.data_utils.split_data:Creating splits for page_visit event type\n",
      "INFO:recsys2025.data_utils.split_data:Creating splits for search_query event type\n",
      "INFO:recsys2025.data_utils.split_data:Saving product_buy train input\n",
      "INFO:recsys2025.data_utils.split_data:Saving add_to_cart train input\n",
      "INFO:recsys2025.data_utils.split_data:Saving remove_from_cart train input\n",
      "INFO:recsys2025.data_utils.split_data:Saving page_visit train input\n",
      "INFO:recsys2025.data_utils.split_data:Saving search_query train input\n",
      "INFO:recsys2025.data_utils.split_data:Saving train_target\n",
      "INFO:recsys2025.data_utils.split_data:Saving validation_target\n"
     ]
    }
   ],
   "source": [
    "\n",
    "sys.argv = [\n",
    "    \"split_data.py\",\n",
    "    \"--challenge-data-dir\", \"../ubc_data\"  # Directory containing the challenge data\n",
    "]\n",
    "\n",
    "split_data.main()"
   ]
  }
 ],
 "metadata": {
  "kernelspec": {
   "display_name": ".venv",
   "language": "python",
   "name": "python3"
  },
  "language_info": {
   "codemirror_mode": {
    "name": "ipython",
    "version": 3
   },
   "file_extension": ".py",
   "mimetype": "text/x-python",
   "name": "python",
   "nbconvert_exporter": "python",
   "pygments_lexer": "ipython3",
   "version": "3.11.9"
  }
 },
 "nbformat": 4,
 "nbformat_minor": 5
}
