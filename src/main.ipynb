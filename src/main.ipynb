{
 "cells": [
  {
   "cell_type": "code",
   "execution_count": null,
   "metadata": {},
   "outputs": [
    {
     "name": "stdout",
     "output_type": "stream",
     "text": [
      "/home/zmrocze/studia/uwr/sem2/adm/projekt/src\n"
     ]
    }
   ],
   "source": [
    "%load_ext autoreload\n",
    "%autoreload 2\n",
    "%reload_ext autoreload\n",
    "\n",
    "import os\n",
    "import sys\n",
    "module_path = os.path.abspath(os.path.join('./.')) # or the path to your source code\n",
    "print(module_path)\n",
    "sys.path.append(module_path)\n",
    "\n",
    "from our_lib import *"
   ]
  },
  {
   "cell_type": "code",
   "execution_count": 19,
   "metadata": {},
   "outputs": [
    {
     "name": "stdout",
     "output_type": "stream",
     "text": [
      "INFO:__main__:Creating splits for product_buy event type\n",
      "INFO:__main__:Creating splits for add_to_cart event type\n",
      "INFO:__main__:Creating splits for remove_from_cart event type\n",
      "INFO:__main__:Creating splits for page_visit event type\n",
      "INFO:__main__:Creating splits for search_query event type\n",
      "INFO:__main__:Saving product_buy train input\n",
      "INFO:__main__:Saving add_to_cart train input\n",
      "INFO:__main__:Saving remove_from_cart train input\n",
      "INFO:__main__:Saving page_visit train input\n",
      "INFO:__main__:Saving search_query train input\n",
      "INFO:__main__:Saving train_target\n",
      "INFO:__main__:Saving validation_target\n"
     ]
    }
   ],
   "source": [
    "# recsys2025\n",
    "! PYTHONPATH=$PYTHONPATH:../recsys2025 python -m data_utils.split_data --challenge-data-dir ../ubc_data_dirty"
   ]
  },
  {
   "cell_type": "code",
   "execution_count": 2,
   "metadata": {},
   "outputs": [
    {
     "name": "stdout",
     "output_type": "stream",
     "text": [
      "foo called\n"
     ]
    }
   ],
   "source": [
    "foo()"
   ]
  }
 ],
 "metadata": {
  "kernelspec": {
   "display_name": "Python 3",
   "language": "python",
   "name": "python3"
  },
  "language_info": {
   "codemirror_mode": {
    "name": "ipython",
    "version": 3
   },
   "file_extension": ".py",
   "mimetype": "text/x-python",
   "name": "python",
   "nbconvert_exporter": "python",
   "pygments_lexer": "ipython3",
   "version": "3.12.8"
  }
 },
 "nbformat": 4,
 "nbformat_minor": 2
}
