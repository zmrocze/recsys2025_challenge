{
 "cells": [
  {
   "cell_type": "code",
   "execution_count": null,
   "id": "eff496f0",
   "metadata": {},
   "outputs": [
    {
     "name": "stdout",
     "output_type": "stream",
     "text": [
      "/Users/sonor/Documents/Projekty/recsys2025_challenge/src/our_lib\n"
     ]
    }
   ],
   "source": [
    "%load_ext autoreload\n",
    "%autoreload 2\n",
    "%reload_ext autoreload\n",
    "\n",
    "import os\n",
    "import sys\n",
    "from argparse import Namespace\n",
    "\n",
    "# for recsys2025\n",
    "module_path = os.path.abspath(os.path.join('../.')) # or the path to your source code\n",
    "sys.path.append(module_path)\n",
    "module_path = os.path.abspath(os.path.join('../recsys2025')) # or the path to your source code\n",
    "sys.path.append(module_path)\n",
    "\n",
    "from recsys2025.baseline.aggregated_features_baseline import create_embeddings\n"
   ]
  },
  {
   "cell_type": "code",
   "execution_count": 3,
   "id": "1f6abac4",
   "metadata": {},
   "outputs": [
    {
     "name": "stderr",
     "output_type": "stream",
     "text": [
      "INFO:recsys2025.baseline.aggregated_features_baseline.create_embeddings:Generating features for product_buy event type\n",
      "INFO:recsys2025.baseline.aggregated_features_baseline.create_embeddings:Loading data...\n",
      "INFO:recsys2025.baseline.aggregated_features_baseline.create_embeddings:Generating features...\n",
      "100%|██████████| 510971/510971 [01:04<00:00, 7898.31it/s]\n",
      "INFO:recsys2025.baseline.aggregated_features_baseline.create_embeddings:Generating features for add_to_cart event type\n",
      "INFO:recsys2025.baseline.aggregated_features_baseline.create_embeddings:Loading data...\n",
      "INFO:recsys2025.baseline.aggregated_features_baseline.create_embeddings:Generating features...\n",
      "100%|██████████| 557093/557093 [01:17<00:00, 7165.05it/s]\n",
      "INFO:recsys2025.baseline.aggregated_features_baseline.create_embeddings:Generating features for remove_from_cart event type\n",
      "INFO:recsys2025.baseline.aggregated_features_baseline.create_embeddings:Loading data...\n",
      "INFO:recsys2025.baseline.aggregated_features_baseline.create_embeddings:Generating features...\n",
      "100%|██████████| 289432/289432 [00:39<00:00, 7246.43it/s]\n",
      "INFO:recsys2025.baseline.aggregated_features_baseline.create_embeddings:Generating features for page_visit event type\n",
      "INFO:recsys2025.baseline.aggregated_features_baseline.create_embeddings:Loading data...\n",
      "INFO:recsys2025.baseline.aggregated_features_baseline.create_embeddings:Generating features...\n",
      "100%|██████████| 854349/854349 [01:33<00:00, 9168.26it/s]\n",
      "INFO:recsys2025.baseline.aggregated_features_baseline.create_embeddings:Generating features for search_query event type\n",
      "INFO:recsys2025.baseline.aggregated_features_baseline.create_embeddings:Loading data...\n",
      "INFO:recsys2025.baseline.aggregated_features_baseline.create_embeddings:Generating features...\n",
      "100%|██████████| 343440/343440 [00:22<00:00, 15253.10it/s]\n",
      "INFO:recsys2025.baseline.aggregated_features_baseline.create_embeddings:Merging features into embeddings\n",
      "100%|██████████| 1000000/1000000 [00:02<00:00, 483904.37it/s]\n",
      "INFO:recsys2025.baseline.aggregated_features_baseline.create_embeddings:Saving embeddings\n"
     ]
    }
   ],
   "source": [
    "\n",
    "params = Namespace(\n",
    "    data_dir=\"../ubc_data_submission\",     \n",
    "    embeddings_dir=\"../output_emb\",       \n",
    "    num_days=[1, 7, 30],                       \n",
    "    top_n=10                                   \n",
    ")\n",
    "\n",
    "create_embeddings.main(params)\n",
    "\n"
   ]
  }
 ],
 "metadata": {
  "kernelspec": {
   "display_name": ".venv",
   "language": "python",
   "name": "python3"
  },
  "language_info": {
   "codemirror_mode": {
    "name": "ipython",
    "version": 3
   },
   "file_extension": ".py",
   "mimetype": "text/x-python",
   "name": "python",
   "nbconvert_exporter": "python",
   "pygments_lexer": "ipython3",
   "version": "3.11.9"
  }
 },
 "nbformat": 4,
 "nbformat_minor": 5
}
