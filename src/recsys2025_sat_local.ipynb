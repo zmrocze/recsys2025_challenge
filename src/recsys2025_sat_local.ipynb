{
  "cells": [
    {
      "cell_type": "code",
      "execution_count": 16,
      "metadata": {
        "colab": {
          "base_uri": "https://localhost:8080/"
        },
        "id": "SUJGnQYv8Wr5",
        "outputId": "e5980a3b-5356-45a2-df34-b6589abf1107"
      },
      "outputs": [],
      "source": [
        "ubc_data_path = '../ubc_data_relevant_splitted'\n",
        "ubc_input_path = f'{ubc_data_path}/input'\n",
        "target_path = f'{ubc_data_path}/target'"
      ]
    },
    {
      "cell_type": "code",
      "execution_count": 17,
      "metadata": {
        "id": "Du7ocVU-uL3j"
      },
      "outputs": [
        {
          "name": "stdout",
          "output_type": "stream",
          "text": [
            "The autoreload extension is already loaded. To reload it, use:\n",
            "  %reload_ext autoreload\n",
            "/home/zmrocze/studia/uwr/sem2/adm/projekt/src/our_lib\n"
          ]
        }
      ],
      "source": [
        "%load_ext autoreload\n",
        "%autoreload 2\n",
        "%reload_ext autoreload\n",
        "\n",
        "import os\n",
        "import sys\n",
        "\n",
        "# Below paths: bad but managable\n",
        "\n",
        "# for our_lib\n",
        "module_path = os.path.abspath(os.path.join('./our_lib')) # or the path to your source code\n",
        "print(module_path)\n",
        "sys.path.append(module_path)\n",
        "\n",
        "# for recsys2025\n",
        "# module_path = os.path.abspath(os.path.dirname(os.path.abspath(__file__)).join('../../.'))\n",
        "module_path = os.path.abspath(os.path.join('../.')) # or the path to your source code\n",
        "sys.path.append(module_path)\n",
        "module_path = os.path.abspath(os.path.join('../recsys2025')) # or the path to your source code\n",
        "sys.path.append(module_path)\n",
        "\n",
        "\n",
        "# from our_lib import *\n",
        "from our_lib import RecSysData\n",
        "# from our_lib import split_data, create_baseline_embeddings, contest_training\n",
        "# from our_lib import validate_and_load_embeddings  \n",
        "%reload_ext autoreload"
      ]
    },
    {
      "cell_type": "markdown",
      "metadata": {
        "id": "IYsFgsl6Ft79"
      },
      "source": [
        "# load data"
      ]
    },
    {
      "cell_type": "code",
      "execution_count": 18,
      "metadata": {
        "colab": {
          "base_uri": "https://localhost:8080/"
        },
        "id": "yzXLt7j89eiv",
        "outputId": "1cb50132-8a64-4548-bf0f-8749c57bd5fc"
      },
      "outputs": [
        {
          "data": {
            "text/plain": [
              "device(type='cpu')"
            ]
          },
          "execution_count": 18,
          "metadata": {},
          "output_type": "execute_result"
        }
      ],
      "source": [
        "import torch\n",
        "device = torch.device('cuda' if torch.cuda.is_available() else 'cpu')\n",
        "device"
      ]
    },
    {
      "cell_type": "code",
      "execution_count": 19,
      "metadata": {
        "colab": {
          "base_uri": "https://localhost:8080/"
        },
        "id": "A9MoeCcF_vmD",
        "outputId": "22b79d78-67cc-4a6f-ab7d-c77d8e008b5d"
      },
      "outputs": [],
      "source": [
        "# load everything\n",
        "import pandas as pd\n",
        "import numpy as np\n",
        "import matplotlib.pyplot as plt\n",
        "import pytorch_lightning as pl\n",
        "from pytorch_lightning.loggers import WandbLogger\n",
        "import torchmetrics as tm"
      ]
    },
    {
      "cell_type": "code",
      "execution_count": 20,
      "metadata": {
        "colab": {
          "base_uri": "https://localhost:8080/"
        },
        "id": "w-Wd8WTzAAUn",
        "outputId": "bcff0b87-05b2-4dbd-f70b-fc775ee3bff7"
      },
      "outputs": [
        {
          "data": {
            "text/plain": [
              "RecSysData(\n",
              "  add_to_cart=1922253,\n",
              "  page_visit=32941261,\n",
              "  product_buy=939835,\n",
              "  product_properties=1197634,\n",
              "  remove_from_cart=800359,\n",
              "  search_query=3204721,\n",
              "  all users: 858489,\n",
              "  all products: 674374\n",
              "  all urls: 5185400,\n",
              ")"
            ]
          },
          "execution_count": 20,
          "metadata": {},
          "output_type": "execute_result"
        }
      ],
      "source": [
        "from src.our_lib import RecSysData, unique_edges, load_target, drop_duplicates, all_categories_in_df_numpy, all_users_in_df_numpy, all_items_in_df_numpy, join_item_with_category\n",
        "\n",
        "input_data = RecSysData.read_parquet(ubc_input_path)\n",
        "product_properties = pd.read_parquet(f'{ubc_data_path}/product_properties.parquet')\n",
        "all_input_users = input_data.all_users_set()\n",
        "all_categories = all_categories_in_df_numpy(product_properties)\n",
        "input_data"
      ]
    },
    {
      "cell_type": "code",
      "execution_count": 21,
      "metadata": {},
      "outputs": [
        {
          "name": "stdout",
          "output_type": "stream",
          "text": [
            "\u001b[0m\u001b[01;34martifacts\u001b[0m/          main.ipynb        recsys2025_local.ipynb\n",
            "baseline_emb.ipynb  more_stats.ipynb  recsys2025_sat.ipynb\n",
            "basic_stats.ipynb   notes.md          recsys2025_sat_local.ipynb\n",
            "\u001b[01;34membeds\u001b[0m/             \u001b[01;34mour_lib\u001b[0m/          recsys2025_wyniki.ipynb\n",
            "gat.ipynb           \u001b[01;34mrecsys2025\u001b[0m/       train_test_split_stats.ipynb\n",
            "\u001b[01;34mlightning_logs\u001b[0m/     recsys2025.ipynb  \u001b[01;34mwandb\u001b[0m/\n"
          ]
        }
      ],
      "source": [
        "ls"
      ]
    },
    {
      "cell_type": "code",
      "execution_count": 22,
      "metadata": {},
      "outputs": [],
      "source": [
        "client_ids = np.load('./embeds/client_ids.npy')\n",
        "embeddings = np.load('./embeds/embeddings.npy')"
      ]
    },
    {
      "cell_type": "code",
      "execution_count": 28,
      "metadata": {},
      "outputs": [
        {
          "data": {
            "text/plain": [
              "(21233,)"
            ]
          },
          "execution_count": 28,
          "metadata": {},
          "output_type": "execute_result"
        }
      ],
      "source": [
        "client_ids.shape"
      ]
    },
    {
      "cell_type": "code",
      "execution_count": 29,
      "metadata": {},
      "outputs": [
        {
          "name": "stdout",
          "output_type": "stream",
          "text": [
            "(858489,) (858489, 320) True\n"
          ]
        }
      ],
      "source": [
        "baseline_client_ids = np.load(\"../baseline_embeddings_relevant/client_ids.npy\")\n",
        "baseline_embeddings = np.load(\"../baseline_embeddings_relevant/embeddings.npy\") \n",
        "print(baseline_client_ids.shape, baseline_embeddings.shape, len(set(client_ids).intersection(set(baseline_client_ids))) == 21233)"
      ]
    },
    {
      "cell_type": "code",
      "execution_count": 40,
      "metadata": {},
      "outputs": [],
      "source": [
        "baseline_embeddings_dict = dict(zip([int(id) for id in baseline_client_ids], baseline_embeddings))\n",
        "# baseline_embeddings_dict"
      ]
    },
    {
      "cell_type": "code",
      "execution_count": 38,
      "metadata": {},
      "outputs": [
        {
          "data": {
            "text/plain": [
              "14"
            ]
          },
          "execution_count": 38,
          "metadata": {},
          "output_type": "execute_result"
        }
      ],
      "source": [
        "int(baseline_client_ids[0])"
      ]
    },
    {
      "cell_type": "code",
      "execution_count": null,
      "metadata": {},
      "outputs": [],
      "source": [
        "# baseline_embeddings_dict = dict(zip([int(id) for id in baseline_client_ids], baseline_embeddings))\n",
        "\n",
        "joint_embeddings = []\n",
        "for client, embed in zip(client_ids, embeddings):\n",
        "  joint_embed = np.concat((baseline_embeddings_dict[client], embed), axis=0)\n",
        "  joint_embeddings.append(joint_embed)\n",
        "\n",
        "# joint_embeddings = np.array(joint_embeddings, dtype=np.float16)\n",
        "\n",
        "# np.save('./joint_embeds/client_ids.npy', client_ids)\n",
        "# np.save('./joint_embeds/embeddings.npy', joint_embeddings)"
      ]
    },
    {
      "cell_type": "code",
      "execution_count": 45,
      "metadata": {},
      "outputs": [],
      "source": [
        "joint_embeddings = np.array(joint_embeddings, dtype=np.float16)"
      ]
    },
    {
      "cell_type": "code",
      "execution_count": 47,
      "metadata": {},
      "outputs": [
        {
          "data": {
            "text/plain": [
              "(21233, 384)"
            ]
          },
          "execution_count": 47,
          "metadata": {},
          "output_type": "execute_result"
        }
      ],
      "source": [
        "joint_embeddings.shape"
      ]
    },
    {
      "cell_type": "code",
      "execution_count": 48,
      "metadata": {},
      "outputs": [],
      "source": [
        "! mkdir joint_embeds"
      ]
    },
    {
      "cell_type": "code",
      "execution_count": 49,
      "metadata": {},
      "outputs": [],
      "source": [
        "np.save('./joint_embeds/client_ids.npy', client_ids)\n",
        "np.save('./joint_embeds/embeddings.npy', joint_embeddings)"
      ]
    },
    {
      "cell_type": "code",
      "execution_count": 8,
      "metadata": {},
      "outputs": [],
      "source": [
        "delattr(input_data, 'page_visit')\n",
        "delattr(input_data, 'search_query')"
      ]
    },
    {
      "cell_type": "code",
      "execution_count": 9,
      "metadata": {},
      "outputs": [],
      "source": [
        "target_path = \"../ubc_data_relevant_splitted/target\"\n",
        "target_data = load_target(target_path)\n",
        "train_target = target_data['train_target']\n",
        "valid_target = target_data['validation_target']"
      ]
    },
    {
      "cell_type": "code",
      "execution_count": 10,
      "metadata": {},
      "outputs": [],
      "source": [
        "input_data.add_to_cart = join_item_with_category(input_data.add_to_cart, product_properties)\n",
        "input_data.remove_from_cart = join_item_with_category(input_data.remove_from_cart, product_properties)\n",
        "input_data.product_buy = join_item_with_category(input_data.product_buy, product_properties)"
      ]
    },
    {
      "cell_type": "code",
      "execution_count": 9,
      "metadata": {},
      "outputs": [
        {
          "name": "stdout",
          "output_type": "stream",
          "text": [
            "First timestamp in train_target: 2022-09-13 00:03:35\n",
            "First timestamp in valid_target: 2022-09-27 00:00:15\n"
          ]
        }
      ],
      "source": [
        "first_train_timestamp = train_target['timestamp'].min()\n",
        "first_valid_timestamp = valid_target['timestamp'].min()\n",
        "\n",
        "print(f\"First timestamp in train_target: {first_train_timestamp}\")\n",
        "print(f\"First timestamp in valid_target: {first_valid_timestamp}\")"
      ]
    },
    {
      "cell_type": "code",
      "execution_count": 10,
      "metadata": {},
      "outputs": [
        {
          "name": "stdout",
          "output_type": "stream",
          "text": [
            "2022-05-23 00:10:15\n",
            "2022-05-23 00:12:20\n",
            "2022-05-23 00:10:40\n",
            "2022-09-12 23:59:45\n",
            "2022-09-12 23:58:10\n",
            "2022-09-12 23:58:35\n"
          ]
        }
      ],
      "source": [
        "print(input_data.add_to_cart['timestamp'].min())\n",
        "print(input_data.remove_from_cart['timestamp'].min())\n",
        "print(input_data.product_buy['timestamp'].min())\n",
        "print(input_data.add_to_cart['timestamp'].max())\n",
        "print(input_data.remove_from_cart['timestamp'].max())\n",
        "print(input_data.product_buy['timestamp'].max())"
      ]
    },
    {
      "cell_type": "code",
      "execution_count": 11,
      "metadata": {},
      "outputs": [
        {
          "name": "stdout",
          "output_type": "stream",
          "text": [
            "add_to_cart: 1922253\n",
            "remove_from_cart: 800359\n",
            "product_buy: 939835\n",
            "train_target: 130109\n",
            "valid_target: 148479\n",
            "len(users) x len(categories): 5480593776\n"
          ]
        }
      ],
      "source": [
        "# drop duplicates\n",
        "aaxxrta = 'category' # 'sku'\n",
        "drop_duplicates(input_data.add_to_cart, subset=['client_id', aaxxrta])\n",
        "drop_duplicates(input_data.remove_from_cart, subset=['client_id', aaxxrta])\n",
        "drop_duplicates(input_data.product_buy, subset=['client_id', aaxxrta])\n",
        "\n",
        "drop_duplicates(train_target, subset=['client_id', aaxxrta])\n",
        "drop_duplicates(valid_target, subset=['client_id', aaxxrta])\n",
        "\n",
        "# print all the lengths\n",
        "print(f\"add_to_cart: {len(input_data.add_to_cart)}\")\n",
        "print(f\"remove_from_cart: {len(input_data.remove_from_cart)}\")\n",
        "print(f\"product_buy: {len(input_data.product_buy)}\")\n",
        "print(f\"train_target: {len(train_target)}\")\n",
        "print(f\"valid_target: {len(valid_target)}\")\n",
        "\n",
        "print(f\"len(users) x len(categories): {len(all_input_users) * len(all_categories)}\")"
      ]
    },
    {
      "cell_type": "code",
      "execution_count": 12,
      "metadata": {},
      "outputs": [],
      "source": [
        "# input_data.print_datasets_stats_nicely(\"input data\")"
      ]
    },
    {
      "cell_type": "code",
      "execution_count": 12,
      "metadata": {},
      "outputs": [],
      "source": [
        "train_users_set = set(train_target['client_id'].unique())\n",
        "valid_users_set = set(valid_target['client_id'].unique())"
      ]
    },
    {
      "cell_type": "code",
      "execution_count": 14,
      "metadata": {},
      "outputs": [
        {
          "name": "stdout",
          "output_type": "stream",
          "text": [
            "Users with single interaction in input_data: 190183\n",
            "Users with single interaction and no interaction in test set: 181914\n"
          ]
        }
      ],
      "source": [
        "# Get users who have only one interaction across all input data types\n",
        "all_interactions = pd.concat([\n",
        "  input_data.add_to_cart[['client_id']],\n",
        "  input_data.remove_from_cart[['client_id']],\n",
        "  input_data.product_buy[['client_id']]\n",
        "])\n",
        "\n",
        "user_interaction_counts = all_interactions['client_id'].value_counts()\n",
        "single_interaction_users = set(user_interaction_counts[user_interaction_counts == 1].index)\n",
        "users_not_in_test = single_interaction_users.difference(valid_users_set).difference(train_users_set)\n",
        "\n",
        "print(f\"Users with single interaction in input_data: {len(single_interaction_users)}\")\n",
        "print(f\"Users with single interaction and no interaction in test set: {len(users_not_in_test)}\")"
      ]
    },
    {
      "cell_type": "code",
      "execution_count": 15,
      "metadata": {},
      "outputs": [],
      "source": [
        "# removing these, no information gained\n",
        "input_data.add_to_cart = input_data.add_to_cart[~input_data.add_to_cart['client_id'].isin(users_not_in_test)]\n",
        "input_data.remove_from_cart = input_data.remove_from_cart[~input_data.remove_from_cart['client_id'].isin(users_not_in_test)]\n",
        "input_data.product_buy = input_data.product_buy[~input_data.product_buy['client_id'].isin(users_not_in_test)]"
      ]
    },
    {
      "cell_type": "code",
      "execution_count": 16,
      "metadata": {},
      "outputs": [
        {
          "data": {
            "text/plain": [
              "(6130, 485297, 6384)"
            ]
          },
          "execution_count": 16,
          "metadata": {},
          "output_type": "execute_result"
        }
      ],
      "source": [
        "# sanity check\n",
        "_known_categories = set(input_data.add_to_cart['category'].unique()).union(\n",
        "    set(input_data.remove_from_cart['category'].unique())).union(\n",
        "    set(input_data.product_buy['category'].unique()))\n",
        "known_users = set(input_data.add_to_cart['client_id'].unique()).union(\n",
        "    set(input_data.remove_from_cart['client_id'].unique())).union(\n",
        "    set(input_data.product_buy['client_id'].unique()))\n",
        "\n",
        "len(_known_categories), len(known_users), len(all_categories)"
      ]
    },
    {
      "cell_type": "code",
      "execution_count": 17,
      "metadata": {},
      "outputs": [
        {
          "name": "stdout",
          "output_type": "stream",
          "text": [
            "train_target_known: 60108\n",
            "valid_target_known: 63112\n"
          ]
        }
      ],
      "source": [
        "train_target_known = train_target[train_target['client_id'].isin(known_users)]\n",
        "valid_target_known = valid_target[valid_target['client_id'].isin(known_users)]\n",
        "print(f\"train_target_known: {len(train_target_known)}\")\n",
        "print(f\"valid_target_known: {len(valid_target_known)}\")"
      ]
    },
    {
      "cell_type": "markdown",
      "metadata": {
        "id": "b_0sKCwlFmsq"
      },
      "source": [
        "# training gat"
      ]
    },
    {
      "cell_type": "code",
      "execution_count": 11,
      "metadata": {
        "id": "-B5kdv-hGBez"
      },
      "outputs": [],
      "source": [
        "# imports\n",
        "# from src.our_lib import NodeIdMap, JustGAT, RecGAT, DotproductEdgePredictor, LinearEdgePredictor, BprLossLoader\n",
        "# from src.our_lib import test_out, l2_reg, train_test_split_pos_edges, int_tensor, unique_edges\n",
        "from src.our_lib import NodeIdMap, JustGAT, RecGAT, DotproductEdgePredictor, LinearEdgePredictor, BprLossLoader, test_out, l2_reg, train_test_split_pos_edges, int_tensor, unique_edges, loss_f, BprTraining\n",
        "import random"
      ]
    },
    {
      "cell_type": "code",
      "execution_count": 12,
      "metadata": {},
      "outputs": [],
      "source": [
        "chk_path = '/home/zmrocze/studia/uwr/sem2/adm/projekt/src/artifacts/model-cxmw40yd:v1'\n",
        "checkpoint = torch.load(f\"{chk_path}/model.ckpt\", map_location=torch.device('cpu'), weights_only=False)"
      ]
    },
    {
      "cell_type": "code",
      "execution_count": 13,
      "metadata": {},
      "outputs": [
        {
          "name": "stdout",
          "output_type": "stream",
          "text": [
            "my_node_id_map: <gat.NodeIdMap object at 0x7fdc3d8e9a30>\n",
            "my_user_emb: tensor([[ 0.0611,  0.0621,  0.0112,  ...,  0.1038, -0.0331,  0.0427],\n",
            "        [ 0.0611,  0.0621,  0.0112,  ...,  0.1038, -0.0331,  0.0427],\n",
            "        [ 0.0611,  0.0621,  0.0112,  ...,  0.1038, -0.0331,  0.0427],\n",
            "        ...,\n",
            "        [ 0.0611,  0.0621,  0.0112,  ...,  0.1038, -0.0331,  0.0427],\n",
            "        [ 0.0611,  0.0621,  0.0112,  ...,  0.1038, -0.0331,  0.0427],\n",
            "        [ 0.0611,  0.0621,  0.0112,  ...,  0.1038, -0.0331,  0.0427]])\n"
          ]
        }
      ],
      "source": [
        "# print(checkpoint['my_node_id_map'])\n",
        "my_node_id_map = checkpoint['my_node_id_map']\n",
        "my_user_emb = checkpoint['my_user_emb']\n",
        "print(\"my_node_id_map:\", my_node_id_map)\n",
        "print(\"my_user_emb:\", my_user_emb)"
      ]
    },
    {
      "cell_type": "code",
      "execution_count": 50,
      "metadata": {},
      "outputs": [],
      "source": [
        "chkpt_path = \"zmrocze-uniwroc/recsys2025_lightgcn/model-4f6vvgpe:v0\""
      ]
    },
    {
      "cell_type": "code",
      "execution_count": 51,
      "metadata": {},
      "outputs": [
        {
          "name": "stderr",
          "output_type": "stream",
          "text": [
            "\u001b[34m\u001b[1mwandb\u001b[0m: Currently logged in as: \u001b[33mzmrocze\u001b[0m (\u001b[33mzmrocze-uniwroc\u001b[0m) to \u001b[32mhttps://api.wandb.ai\u001b[0m. Use \u001b[1m`wandb login --relogin`\u001b[0m to force relogin\n"
          ]
        },
        {
          "data": {
            "text/html": [
              "Tracking run with wandb version 0.20.1"
            ],
            "text/plain": [
              "<IPython.core.display.HTML object>"
            ]
          },
          "metadata": {},
          "output_type": "display_data"
        },
        {
          "data": {
            "text/html": [
              "Run data is saved locally in <code>/home/zmrocze/studia/uwr/sem2/adm/projekt/src/wandb/run-20250629_141505-dfhyp3ea</code>"
            ],
            "text/plain": [
              "<IPython.core.display.HTML object>"
            ]
          },
          "metadata": {},
          "output_type": "display_data"
        },
        {
          "data": {
            "text/html": [
              "Syncing run <strong><a href='https://wandb.ai/zmrocze-uniwroc/projekt-src/runs/dfhyp3ea' target=\"_blank\">comfy-armadillo-2</a></strong> to <a href='https://wandb.ai/zmrocze-uniwroc/projekt-src' target=\"_blank\">Weights & Biases</a> (<a href='https://wandb.me/developer-guide' target=\"_blank\">docs</a>)<br>"
            ],
            "text/plain": [
              "<IPython.core.display.HTML object>"
            ]
          },
          "metadata": {},
          "output_type": "display_data"
        },
        {
          "data": {
            "text/html": [
              " View project at <a href='https://wandb.ai/zmrocze-uniwroc/projekt-src' target=\"_blank\">https://wandb.ai/zmrocze-uniwroc/projekt-src</a>"
            ],
            "text/plain": [
              "<IPython.core.display.HTML object>"
            ]
          },
          "metadata": {},
          "output_type": "display_data"
        },
        {
          "data": {
            "text/html": [
              " View run at <a href='https://wandb.ai/zmrocze-uniwroc/projekt-src/runs/dfhyp3ea' target=\"_blank\">https://wandb.ai/zmrocze-uniwroc/projekt-src/runs/dfhyp3ea</a>"
            ],
            "text/plain": [
              "<IPython.core.display.HTML object>"
            ]
          },
          "metadata": {},
          "output_type": "display_data"
        }
      ],
      "source": [
        "import wandb\n",
        "run = wandb.init()"
      ]
    },
    {
      "cell_type": "code",
      "execution_count": 85,
      "metadata": {},
      "outputs": [],
      "source": [
        "# chkpt_path = \"zmrocze-uniwroc/recsys2025_lightgcn/model-4f6vvgpe:v0\"\n",
        "chkpt_path = \"zmrocze-uniwroc/recsys2025_lightgcn/model-8h3rba3z:v0\""
      ]
    },
    {
      "cell_type": "code",
      "execution_count": 86,
      "metadata": {},
      "outputs": [
        {
          "name": "stderr",
          "output_type": "stream",
          "text": [
            "\u001b[34m\u001b[1mwandb\u001b[0m:   1 of 1 files downloaded.  \n"
          ]
        },
        {
          "name": "stdout",
          "output_type": "stream",
          "text": [
            "{'epoch': 8, 'global_step': 315, 'pytorch-lightning_version': '2.5.2', 'state_dict': OrderedDict({'recgat.gat.alpha': tensor([0.1667, 0.1667, 0.1667, 0.1667, 0.1667, 0.1667]), 'recgat.gat.embedding.weight': tensor([[ 1.1719e-03,  1.7234e-04, -5.2348e-05,  ...,  2.9890e-04,\n",
            "          2.2884e-04, -5.6187e-04],\n",
            "        [ 5.0503e-05,  1.1805e-04, -1.1455e-05,  ...,  6.5362e-05,\n",
            "          1.9911e-05, -2.7159e-05],\n",
            "        [-1.1954e-03, -2.0915e-03, -7.4376e-04,  ..., -1.8389e-03,\n",
            "         -7.1728e-04,  1.9671e-04],\n",
            "        ...,\n",
            "        [-2.3420e-07, -3.7207e-06, -6.0852e-05,  ..., -3.3381e-10,\n",
            "          2.5765e-10,  1.5149e-08],\n",
            "        [-5.5120e-05, -2.1299e-04, -1.0227e-04,  ...,  2.6402e-04,\n",
            "          2.9742e-05,  3.9000e-05],\n",
            "        [ 6.9639e-05,  2.8581e-09,  1.0170e-07,  ...,  6.5765e-05,\n",
            "         -5.3626e-11,  7.2398e-10]])}), 'loops': {'fit_loop': {'state_dict': {}, 'epoch_loop.state_dict': {'_batches_that_stepped': 314}, 'epoch_loop.batch_progress': {'total': {'ready': 315, 'completed': 315, 'started': 315, 'processed': 315}, 'current': {'ready': 35, 'completed': 35, 'started': 35, 'processed': 35}, 'is_last_batch': True}, 'epoch_loop.scheduler_progress': {'total': {'ready': 8, 'completed': 8}, 'current': {'ready': 0, 'completed': 0}}, 'epoch_loop.automatic_optimization.state_dict': {}, 'epoch_loop.automatic_optimization.optim_progress': {'optimizer': {'step': {'total': {'ready': 315, 'completed': 315}, 'current': {'ready': 35, 'completed': 35}}, 'zero_grad': {'total': {'ready': 315, 'completed': 315, 'started': 315}, 'current': {'ready': 35, 'completed': 35, 'started': 35}}}}, 'epoch_loop.manual_optimization.state_dict': {}, 'epoch_loop.manual_optimization.optim_step_progress': {'total': {'ready': 0, 'completed': 0}, 'current': {'ready': 0, 'completed': 0}}, 'epoch_loop.val_loop.state_dict': {}, 'epoch_loop.val_loop.batch_progress': {'total': {'ready': 35, 'completed': 35, 'started': 35, 'processed': 35}, 'current': {'ready': 35, 'completed': 35, 'started': 35, 'processed': 35}, 'is_last_batch': True}, 'epoch_progress': {'total': {'ready': 9, 'completed': 8, 'started': 9, 'processed': 8}, 'current': {'ready': 9, 'completed': 8, 'started': 9, 'processed': 8}}}, 'validate_loop': {'state_dict': {}, 'batch_progress': {'total': {'ready': 0, 'completed': 0, 'started': 0, 'processed': 0}, 'current': {'ready': 0, 'completed': 0, 'started': 0, 'processed': 0}, 'is_last_batch': False}}, 'test_loop': {'state_dict': {}, 'batch_progress': {'total': {'ready': 0, 'completed': 0, 'started': 0, 'processed': 0}, 'current': {'ready': 0, 'completed': 0, 'started': 0, 'processed': 0}, 'is_last_batch': False}}, 'predict_loop': {'state_dict': {}, 'batch_progress': {'total': {'ready': 0, 'completed': 0, 'started': 0, 'processed': 0}, 'current': {'ready': 0, 'completed': 0, 'started': 0, 'processed': 0}}}}, 'callbacks': {\"ModelCheckpoint{'monitor': 'val_auroc', 'mode': 'max', 'every_n_train_steps': 0, 'every_n_epochs': 1, 'train_time_interval': None}\": {'monitor': 'val_auroc', 'best_model_score': tensor(0.5576), 'best_model_path': './recsys2025_lightgcn/8h3rba3z/checkpoints/epoch=8-step=315.ckpt', 'current_score': tensor(0.5576), 'dirpath': './recsys2025_lightgcn/8h3rba3z/checkpoints', 'best_k_models': {'./recsys2025_lightgcn/8h3rba3z/checkpoints/epoch=8-step=315.ckpt': tensor(0.5576)}, 'kth_best_model_path': './recsys2025_lightgcn/8h3rba3z/checkpoints/epoch=8-step=315.ckpt', 'kth_value': tensor(0.5576), 'last_model_path': ''}, \"ModelCheckpoint{'monitor': 'val_loss', 'mode': 'min', 'every_n_train_steps': 0, 'every_n_epochs': 1, 'train_time_interval': None}\": {'monitor': 'val_loss', 'best_model_score': tensor(0.6928), 'best_model_path': './recsys2025_lightgcn/8h3rba3z/checkpoints/epoch=5-step=210-v1.ckpt', 'current_score': tensor(0.6928), 'dirpath': './recsys2025_lightgcn/8h3rba3z/checkpoints', 'best_k_models': {'./recsys2025_lightgcn/8h3rba3z/checkpoints/epoch=5-step=210-v1.ckpt': tensor(0.6928)}, 'kth_best_model_path': './recsys2025_lightgcn/8h3rba3z/checkpoints/epoch=5-step=210-v1.ckpt', 'kth_value': tensor(0.6928), 'last_model_path': ''}}, 'optimizer_states': [{'state': {0: {'step': tensor(312.), 'exp_avg': tensor([[ 2.5326e-07, -5.0453e-07, -3.1790e-07,  ..., -6.0069e-07,\n",
            "          1.9303e-09, -2.3798e-07],\n",
            "        [-1.1909e-08,  1.3107e-07, -1.1977e-08,  ...,  2.5903e-08,\n",
            "          7.4429e-09, -1.2497e-08],\n",
            "        [-2.2173e-07, -2.1348e-07, -1.0484e-07,  ...,  2.0124e-07,\n",
            "         -1.6197e-07,  7.6060e-08],\n",
            "        ...,\n",
            "        [-7.8937e-10, -6.6190e-09, -8.2813e-08,  ...,  5.7679e-15,\n",
            "         -1.1852e-12,  1.0259e-11],\n",
            "        [-2.9200e-07,  5.7137e-07,  3.0705e-07,  ..., -2.2045e-07,\n",
            "         -1.8241e-07, -8.1504e-08],\n",
            "        [ 9.3861e-08,  4.7270e-12,  3.2967e-11,  ...,  8.9000e-08,\n",
            "         -7.7023e-14,  4.2079e-13]]), 'exp_avg_sq': tensor([[1.3302e-12, 1.5034e-12, 6.4248e-12,  ..., 2.3169e-12, 6.5446e-12,\n",
            "         1.6408e-12],\n",
            "        [4.9965e-12, 7.5156e-12, 9.6308e-14,  ..., 1.2518e-12, 9.9902e-13,\n",
            "         6.0244e-13],\n",
            "        [2.6955e-12, 1.1966e-11, 4.6366e-12,  ..., 1.9510e-11, 4.8975e-12,\n",
            "         7.4133e-12],\n",
            "        ...,\n",
            "        [2.6264e-12, 3.4682e-12, 6.2190e-12,  ..., 9.4655e-14, 4.4847e-13,\n",
            "         1.3191e-12],\n",
            "        [7.9225e-12, 3.5159e-13, 1.1514e-13,  ..., 8.7331e-12, 4.7997e-12,\n",
            "         9.0067e-14],\n",
            "        [6.4629e-12, 7.6440e-13, 2.1891e-12,  ..., 6.3574e-12, 1.5550e-14,\n",
            "         2.5692e-13]])}}, 'param_groups': [{'lr': 0.0001, 'betas': (0.9, 0.999), 'eps': 1e-08, 'weight_decay': 0.001, 'amsgrad': False, 'maximize': False, 'foreach': None, 'capturable': False, 'differentiable': False, 'fused': None, 'params': [0]}]}], 'lr_schedulers': [{'factor': 0.2, 'default_min_lr': 0, 'min_lrs': [0], 'patience': 30, 'verbose': True, 'cooldown': 20, 'cooldown_counter': 0, 'mode': 'min', 'threshold': 0.005, 'threshold_mode': 'rel', 'eps': 1e-08, 'last_epoch': 8, '_last_lr': [0.0001], 'mode_worse': inf, 'best': 0.6930993795394897, 'num_bad_epochs': 7}], 'my_node_id_map': <gat.NodeIdMap object at 0x7fdbd413ac00>, 'my_user_emb': tensor([[ 1.9531e-04,  2.8723e-05, -8.7247e-06,  ...,  4.9817e-05,\n",
            "          3.8139e-05, -9.3645e-05],\n",
            "        [ 8.4171e-06,  1.9675e-05, -1.9091e-06,  ...,  1.0894e-05,\n",
            "          3.3185e-06, -4.5266e-06],\n",
            "        [-1.9923e-04, -3.4859e-04, -1.2396e-04,  ..., -3.0648e-04,\n",
            "         -1.1955e-04,  3.2785e-05],\n",
            "        ...,\n",
            "        [ 9.4981e-09, -1.8391e-05, -2.8706e-05,  ..., -8.3657e-09,\n",
            "          2.8038e-05,  6.2518e-10],\n",
            "        [ 5.2132e-05,  4.4615e-05,  3.6725e-05,  ...,  5.8448e-05,\n",
            "          4.0062e-06, -2.1508e-06],\n",
            "        [ 3.1547e-05,  2.0606e-05,  7.5802e-06,  ...,  4.2278e-05,\n",
            "         -5.3545e-07,  1.4669e-05]]), 'my_item_emb': tensor([[-1.2517e-05,  2.8966e-05, -2.6252e-06,  ..., -1.3093e-07,\n",
            "          4.2431e-06,  1.0645e-06],\n",
            "        [ 4.6168e-05, -1.1525e-04, -3.6422e-05,  ...,  8.0344e-05,\n",
            "          4.7435e-05, -2.9464e-06],\n",
            "        [-6.0850e-12, -2.7196e-10,  5.0822e-11,  ..., -2.3356e-11,\n",
            "         -1.3494e-08,  6.1276e-10],\n",
            "        ...,\n",
            "        [-3.9034e-08, -6.2012e-07, -1.0142e-05,  ..., -5.5635e-11,\n",
            "          4.2942e-11,  2.5248e-09],\n",
            "        [-9.1866e-06, -3.5498e-05, -1.7045e-05,  ...,  4.4003e-05,\n",
            "          4.9570e-06,  6.5000e-06],\n",
            "        [ 1.1606e-05,  4.7634e-10,  1.6950e-08,  ...,  1.0961e-05,\n",
            "         -8.9377e-12,  1.2066e-10]])}\n"
          ]
        }
      ],
      "source": [
        "# prompt: load model from a weights&biases checkpoint\n",
        "# import wandb\n",
        "\n",
        "# Define the run ID from W&B\n",
        "wb_path = chkpt_path\n",
        "\n",
        "import torch\n",
        "\n",
        "artifact = run.use_artifact(wb_path, type='model')\n",
        "# artifact = wandb.use_artifact(wb_path, type='model')\n",
        "artifact_dir = artifact.download()\n",
        "\n",
        "# Load the model checkpoint\n",
        "checkpoint = torch.load(f\"{artifact_dir}/model.ckpt\", map_location=torch.device('cpu'), weights_only=False)\n",
        "\n",
        "print(checkpoint)"
      ]
    },
    {
      "cell_type": "code",
      "execution_count": 87,
      "metadata": {},
      "outputs": [
        {
          "name": "stdout",
          "output_type": "stream",
          "text": [
            "315\n"
          ]
        }
      ],
      "source": [
        "print(checkpoint['global_step'])"
      ]
    },
    {
      "cell_type": "code",
      "execution_count": 88,
      "metadata": {},
      "outputs": [],
      "source": [
        "my_user_emb = checkpoint['my_user_emb']\n",
        "my_node_id_map = checkpoint['my_node_id_map']"
      ]
    },
    {
      "cell_type": "code",
      "execution_count": 89,
      "metadata": {},
      "outputs": [
        {
          "data": {
            "text/plain": [
              "array([13500417, 15728644, 11141142, ..., 14942195, 16383990,  6029311])"
            ]
          },
          "execution_count": 89,
          "metadata": {},
          "output_type": "execute_result"
        }
      ],
      "source": [
        "client_ids = np.array([my_node_id_map.user_of_id[i] for i in range(len(my_node_id_map.user_of_id))])\n",
        "client_ids"
      ]
    },
    {
      "cell_type": "code",
      "execution_count": 90,
      "metadata": {},
      "outputs": [],
      "source": [
        "# dot_embeds = my_user_emb.numpy().astype(np.float16)\n",
        "light_embeds = my_user_emb.numpy().astype(np.float16)"
      ]
    },
    {
      "cell_type": "code",
      "execution_count": 94,
      "metadata": {},
      "outputs": [],
      "source": [
        "! mkdir -p ./light_joint_embeds"
      ]
    },
    {
      "cell_type": "code",
      "execution_count": 92,
      "metadata": {},
      "outputs": [
        {
          "data": {
            "text/plain": [
              "(21233, 64)"
            ]
          },
          "execution_count": 92,
          "metadata": {},
          "output_type": "execute_result"
        }
      ],
      "source": [
        "light_embeds.shape"
      ]
    },
    {
      "cell_type": "code",
      "execution_count": 93,
      "metadata": {},
      "outputs": [],
      "source": [
        "np.save('./light_embeds/client_ids.npy', client_ids)\n",
        "np.save('./light_embeds/embeddings.npy', light_embeds)"
      ]
    },
    {
      "cell_type": "code",
      "execution_count": 98,
      "metadata": {},
      "outputs": [],
      "source": [
        "! mkdir ./just_baseline_embeds"
      ]
    },
    {
      "cell_type": "code",
      "execution_count": 99,
      "metadata": {},
      "outputs": [
        {
          "name": "stdout",
          "output_type": "stream",
          "text": [
            "(21233, 320) (21233,)\n"
          ]
        }
      ],
      "source": [
        "baseline_embeddings_dict = dict(zip([int(id) for id in baseline_client_ids], baseline_embeddings))\n",
        "\n",
        "joint_embeddings = []\n",
        "for client, embed in zip(client_ids, light_embeds):\n",
        "  # joint_embed = np.concat((baseline_embeddings_dict[client], embed), axis=0)\n",
        "  joint_embed = np.concat((baseline_embeddings_dict[client], np.empty((0,))), axis=0)\n",
        "  joint_embeddings.append(joint_embed)\n",
        "\n",
        "joint_embeddings = np.array(joint_embeddings, dtype=np.float16)\n",
        "print(joint_embeddings.shape, client_ids.shape)\n",
        "np.save('./just_baseline_embeds/client_ids.npy', client_ids)\n",
        "np.save('./just_baseline_embeds/embeddings.npy', joint_embeddings)"
      ]
    },
    {
      "cell_type": "code",
      "execution_count": null,
      "metadata": {},
      "outputs": [],
      "source": []
    },
    {
      "cell_type": "code",
      "execution_count": 100,
      "metadata": {},
      "outputs": [],
      "source": [
        "user_emb_light = np.load('./light_embeds/embeddings.npy')"
      ]
    },
    {
      "cell_type": "code",
      "execution_count": 107,
      "metadata": {},
      "outputs": [
        {
          "name": "stdout",
          "output_type": "stream",
          "text": [
            "client_ids.npy  embeddings.npy\n"
          ]
        }
      ],
      "source": [
        "ls ../embeds-20250629T165347Z-1-001/embeds"
      ]
    },
    {
      "cell_type": "code",
      "execution_count": 108,
      "metadata": {},
      "outputs": [],
      "source": [
        "user_emb_dot = np.load('./dot_embeds/embeddings.npy')\n",
        "user_emb_que = np.load('./embeds/embeddings.npy')\n",
        "user_emb_lin = np.load('../embeds-20250629T165347Z-1-001/embeds/embeddings.npy')"
      ]
    },
    {
      "cell_type": "code",
      "execution_count": null,
      "metadata": {},
      "outputs": [],
      "source": [
        "from sklearn.manifold import TSNE\n",
        "from sklearn.decomposition import PCA\n",
        "import numpy as np\n",
        "import matplotlib.pyplot as plt\n",
        "\n",
        "# Convert tensor to numpy array\n",
        "# embeddings_np = my_user_emb.numpy().astype(np.float16)\n",
        "embeddings_np = user_emb_light\n",
        "embeddings_sample = embeddings_np\n",
        "\n",
        "def tsne_graph(embeddings_sample):\n",
        "  # t-SNE\n",
        "  tsne = TSNE(n_components=2, random_state=42, perplexity=30)\n",
        "  embeddings_tsne = tsne.fit_transform(embeddings_sample)\n",
        "\n",
        "  # PCA\n",
        "  pca = PCA(n_components=2, random_state=42)\n",
        "  embeddings_pca = pca.fit_transform(embeddings_sample)\n",
        "\n",
        "  # Function to remove outliers using IQR method\n",
        "  def remove_outliers(data):\n",
        "    q1 = np.percentile(data, 3, axis=0)\n",
        "    q3 = np.percentile(data, 97, axis=0)\n",
        "    iqr = q3 - q1\n",
        "    lower_bound = q1 - 1.5 * iqr\n",
        "    upper_bound = q3 + 1.5 * iqr\n",
        "    \n",
        "    mask = (data >= lower_bound).all(axis=1) & (data <= upper_bound).all(axis=1)\n",
        "    return data[mask]\n",
        "\n",
        "  # Remove outliers from t-SNE and PCA results\n",
        "  # embeddings_tsne_no_outliers = remove_outliers(embeddings_tsne)\n",
        "  embeddings_tsne_no_outliers = embeddings_tsne\n",
        "  # embeddings_pca_no_outliers = remove_outliers(embeddings_pca)\n",
        "\n",
        "  # Plotting\n",
        "  fig, (ax1, ax2) = plt.subplots(1, 2, figsize=(16, 7))\n",
        "\n",
        "  # t-SNE plot without outliers\n",
        "  ax1.scatter(embeddings_tsne_no_outliers[:, 0], embeddings_tsne_no_outliers[:, 1], alpha=0.5, s=10)\n",
        "  ax1.set_title('t-SNE of client embeddings  (outliers removed)')\n",
        "  ax1.set_xlabel('t-SNE dimension 1')\n",
        "  ax1.set_ylabel('t-SNE dimension 2')\n",
        "\n",
        "  # # PCA plot without outliers\n",
        "  # ax2.scatter(embeddings_pca_no_outliers[:, 0], embeddings_pca_no_outliers[:, 1], alpha=0.5, s=10)\n",
        "  # ax2.set_title('PCA of client embeddings (outliers removed)')\n",
        "  # ax2.set_xlabel('Principal Component 1')\n",
        "  # ax2.set_ylabel('Principal Component 2')\n",
        "\n",
        "  plt.tight_layout()\n",
        "  plt.show()\n",
        "\n",
        "# tsne_graph(user_emb_dot)\n",
        "tsne_graph(user_emb_que)\n",
        "tsne_graph(user_emb_lin)"
      ]
    },
    {
      "cell_type": "code",
      "execution_count": 110,
      "metadata": {},
      "outputs": [],
      "source": [
        "user_emb_baseline = np.load('./just_baseline_embeds/embeddings.npy')"
      ]
    },
    {
      "cell_type": "code",
      "execution_count": 111,
      "metadata": {},
      "outputs": [
        {
          "data": {
            "image/png": "[encoded data removed]",
            "text/plain": [
              "<Figure size 1600x700 with 2 Axes>"
            ]
          },
          "metadata": {},
          "output_type": "display_data"
        }
      ],
      "source": [
        "tsne_graph(user_emb_baseline)"
      ]
    },
    {
      "cell_type": "code",
      "execution_count": null,
      "metadata": {},
      "outputs": [],
      "source": [
        "# np.save(\"./embeds_a/embeddings.npy\", embeds_a.astype(np.float16))\n",
        "# np.save(\"./embeds_a/client_ids.npy\", baseline_client_ids)"
      ]
    },
    {
      "cell_type": "code",
      "execution_count": 14,
      "metadata": {},
      "outputs": [],
      "source": [
        "users_np = np.array([ my_node_id_map.user_of_id[i] for i in range(my_node_id_map.n_users)], dtype=np.int64)"
      ]
    },
    {
      "cell_type": "code",
      "execution_count": 15,
      "metadata": {},
      "outputs": [
        {
          "data": {
            "text/plain": [
              "(torch.Size([21233, 64]), (21233,))"
            ]
          },
          "execution_count": 15,
          "metadata": {},
          "output_type": "execute_result"
        }
      ],
      "source": [
        "my_user_emb.shape, users_np.shape"
      ]
    },
    {
      "cell_type": "code",
      "execution_count": 28,
      "metadata": {},
      "outputs": [],
      "source": [
        "! mkdir embeds_71"
      ]
    },
    {
      "cell_type": "code",
      "execution_count": null,
      "metadata": {},
      "outputs": [],
      "source": [
        "! PYTHONPATH=$PYTHONPATH:../recsys2025 python -m training_pipeline.train --data-dir /content/drive/MyDrive/ubc_data_relevant_splitted --embeddings-dir ./embeds_a --tasks churn propensity_category propensity_sku --log-name experiment-a --accelerator gpu --devices auto --disable-relevant-clients-check"
      ]
    },
    {
      "cell_type": "code",
      "execution_count": 30,
      "metadata": {},
      "outputs": [],
      "source": [
        "np.save(\"./embeds_71/client_ids.npy\", users_np)\n",
        "np.save(\"./embeds_71/embeddings.npy\", my_user_emb.numpy().astype(np.float16))"
      ]
    },
    {
      "cell_type": "code",
      "execution_count": 19,
      "metadata": {
        "colab": {
          "base_uri": "https://localhost:8080/"
        },
        "id": "PagNlPLgFlrw",
        "outputId": "df9cfc11-b67d-47a9-fcd6-4dc12308457e"
      },
      "outputs": [],
      "source": [
        "### NOTE!:\n",
        "### There are 2 types of ids: product has sku    and the id of a product node in graph (can exchange with node_id_map.item_of_id/id_of_item).\n",
        "#                             user has client_id and the id of a user    node in graph\n",
        "\n",
        "node_id_map = NodeIdMap(known_users, all_categories)\n",
        "train_edge_index = node_id_map.make_edges(train_target_known.client_id.values, train_target_known.category.values).to(device=device)\n",
        "val_edge_index = node_id_map.make_edges(valid_target_known.client_id.values, valid_target_known.category.values).to(device=device)\n",
        "\n",
        "N = node_id_map.N"
      ]
    },
    {
      "cell_type": "code",
      "execution_count": 20,
      "metadata": {
        "id": "86ARo5Mfv4xF"
      },
      "outputs": [],
      "source": [
        "# TODO: take negatives from batch items, not from all\n",
        "neg_samples = 5\n",
        "batch_size = 16\n",
        "### these are edges used for loss calculation\n",
        "### and they define the graph (maybe together with product_buy, remove_from_cart)\n",
        "train_loader = BprLossLoader(\n",
        "    edge_index=train_edge_index,\n",
        "    trg_index_range=(node_id_map.n_users, node_id_map.N), # node index range for all items (used to sample negative items)\n",
        "    batch_size=batch_size,\n",
        "    neg_samples=neg_samples,\n",
        "    random_state=42,\n",
        "    device=device\n",
        ")\n",
        "\n",
        "test_loader = BprLossLoader(\n",
        "  edge_index=val_edge_index,\n",
        "  trg_index_range=(node_id_map.n_users, node_id_map.N),  # node index range for all items (used to sample negative items)\n",
        "  batch_size=batch_size,\n",
        "  neg_samples=neg_samples,\n",
        "  random_state=42,\n",
        "  device=device\n",
        ")"
      ]
    },
    {
      "cell_type": "code",
      "execution_count": 21,
      "metadata": {
        "id": "cw3lmjuSHhbC"
      },
      "outputs": [],
      "source": [
        "embedding_dim = 16\n",
        "edge_dim = 3\n",
        "num_layers=3\n",
        "dropout_gat=0.5\n",
        "init_type='normal'\n",
        "init_a=0.001\n",
        "dropout_edge=0.5\n",
        "lr=0.001\n",
        "l2_reg=0.0001\n",
        "accumulate_grad_batches=10\n",
        "patience=5\n",
        "lr_reduce_factor=0.5\n",
        "lr_scheduler_monitor=\"train_loss\"\n",
        "auroc_batch_size=256\n",
        "max_epochs=50\n",
        "\n",
        "def make_model():\n",
        "  ### define graph\n",
        "  # new_recgat = lambda: RecGAT(users, items, embedding_dim=embedding_dim, edge_dim=edge_dim, num_layers=2, device=device, dropout=0.3, type='uniform', a=0.0000001)\n",
        "  new_recgat = lambda: RecGAT(known_users, all_categories, embedding_dim=embedding_dim, edge_dim=edge_dim, num_layers=num_layers, device=device, dropout=dropout_gat, type=init_type, a=init_a)\n",
        "  recgat = new_recgat()\n",
        "  \n",
        "  edge_attr_add_to_cart = torch.tensor([[1, 0, 0]], dtype=torch.float).repeat(len(input_data.add_to_cart), 1).to(device)\n",
        "  edge_attr_remove_from_cart = torch.tensor([[0, 1, 0]], dtype=torch.float).repeat(len(input_data.remove_from_cart), 1).to(device)\n",
        "  edge_attr_product_buy = torch.tensor([[0, 0, 1]], dtype=torch.float).repeat(len(input_data.product_buy), 1).to(device)\n",
        "\n",
        "  recgat.add_edges_from_user_category_df(input_data.add_to_cart, edge_attr=edge_attr_add_to_cart)\n",
        "  recgat.add_edges_from_user_category_df(input_data.remove_from_cart, edge_attr=edge_attr_remove_from_cart)\n",
        "  recgat.add_edges_from_user_category_df(input_data.product_buy, edge_attr=edge_attr_product_buy)\n",
        "  \n",
        "  ### edge predictor (here: only for add_to_cart edges. todo: predict more stuff (like next purchased category in next 14days from propensity categories) with more varied predictors and combine losses)\n",
        "  edge_predictor = LinearEdgePredictor(embedding_dim=embedding_dim, dropout=dropout_edge).to(device=device)\n",
        "\n",
        "  model = BprTraining(\n",
        "      recgat=recgat,\n",
        "      edge_predictor=edge_predictor,\n",
        "      lr=lr,\n",
        "      l2_reg=l2_reg,\n",
        "      # propensity_sku=sampled_items, # for auroc calc\n",
        "      auroc_batch_size=auroc_batch_size,\n",
        "      val_edge_index=val_edge_index,\n",
        "      patience=patience,\n",
        "      factor=lr_reduce_factor,\n",
        "      lr_scheduler_monitor=lr_scheduler_monitor,\n",
        "      # forward_gat_every_n = 20, ### tradeoff : speed vs training stability\n",
        "      # this has to be fixed and work with n>1, this is slow, use big batch to make up for it:\n",
        "      # forward_gat_every_n = accumulate_grad_batches,\n",
        "    )\n",
        "\n",
        "  ### sillynes\n",
        "  # model = remake_model_if_loss_nan(model)\n",
        "  return model\n"
      ]
    },
    {
      "cell_type": "code",
      "execution_count": null,
      "metadata": {},
      "outputs": [
        {
          "name": "stderr",
          "output_type": "stream",
          "text": [
            "Exception ignored in: <bound method IPythonKernel._clean_thread_parent_frames of <ipykernel.ipkernel.IPythonKernel object at 0x7fd062f8ac60>>\n",
            "Traceback (most recent call last):\n",
            "  File \"/home/zmrocze/studia/uwr/sem2/adm/projekt/.mamba/envs/my-mamba-environment/lib/python3.12/site-packages/ipykernel/ipkernel.py\", line 775, in _clean_thread_parent_frames\n",
            "    def _clean_thread_parent_frames(\n",
            "\n",
            "KeyboardInterrupt: \n"
          ]
        }
      ],
      "source": [
        "# md = make_model()\n",
        "# md.auroc()"
      ]
    },
    {
      "cell_type": "code",
      "execution_count": null,
      "metadata": {
        "colab": {
          "base_uri": "https://localhost:8080/",
          "height": 486,
          "referenced_widgets": [
            "a8c9ce42791d4b5987461a041e2bbe8f",
            "e9baab30898a43dfa5f7e1486380ce86",
            "6bb02c617c184dccb403a3d0c331ecf0",
            "fd157c654b14415d9d072c47e21f8aee",
            "ecfe1d988e804034a2c21e4f18db9ff3",
            "566eeeff35ab47588c26a3a004b738fa",
            "61399beef2d94528abbea684cf01bdf8",
            "5154532d70bd476aa1341be67594dbd0",
            "82337d7bbc0544aa9b24647f8d968759",
            "69cbf864067e454bade59f83f9abd40a",
            "1f007a8f5ab24c42a54a93a0661b4dcd",
            "a097008c3d3b4c4e86c202f4c601407b",
            "f48d03f2ef28430b97f0ca753aba4016",
            "a6efb6e08e32412f935f01a39cceaccf",
            "1d522ac99d274711adf161dd3a8656ba",
            "07c4ea5a7aae471292fea775d018e9cb",
            "fd7e0ae572a04ce4a54214c440ab9109",
            "0ee97288c743490ea979eb7d3f637f3f",
            "2187f7008dfc4891b6e3611fde62611a",
            "d320b2f06ed448558180ccde7beec62d",
            "a798af21c1f24e749fc4068e1a850099",
            "245fbb4c252742e6825f23fb98de3d99",
            "9a5febf960e2484886462e838d149420",
            "bb2219b91646476796ae86fa69278348",
            "a6ccb7ce64284b6babd8a134cc26d251",
            "9ee455b5a24d4488a4583375f1e9d294",
            "e9f6e25511874167b85c8ff805c66b69",
            "215fc85a672d4fcbbe11508d6a6989db",
            "f1583ea6dd2a4237b929cd33945714ae",
            "fc24f08173c74e7d8371ddd90dd9b0b3",
            "2c364e7d22a64c7cb06b34e7eb7e98b6",
            "8378ec42e246473c8119aa21d26cc5ef",
            "bb9f17f544324f1e9f2e2914b9297e02",
            "003bde14f0974e6bb1b6ea168121ec99",
            "2c05b653569743efa180eff9ece3cdcc",
            "075b618f710c4960ad430ed4958b5d3b",
            "2a2be321797c4e318df91812f8e31cce",
            "29f6a146be3f49299bcafbba34f007f8",
            "2335291520664caba4959b763c6f3676",
            "1ca6e29a807e45c0be31312985a402b5",
            "a64997db4c274ed49de66c2fc4fd1c09",
            "82f22b1c8dde4e12b420f9be7d520e99",
            "87bb4b97e6d8426a97c633f74ac87176",
            "41a76aab7d644fba9266e4fbbda1c970"
          ]
        },
        "id": "vjhV1nEf0NKi",
        "outputId": "ad265e0a-b431-4c1f-ba14-235d62ece8c3"
      },
      "outputs": [
        {
          "name": "stderr",
          "output_type": "stream",
          "text": [
            "INFO:pytorch_lightning.utilities.rank_zero:Using default `ModelCheckpoint`. Consider installing `litmodels` package to enable `LitModelCheckpoint` for automatic upload to the Lightning model registry.\n",
            "INFO:pytorch_lightning.utilities.rank_zero:GPU available: True (cuda), used: True\n",
            "INFO:pytorch_lightning.utilities.rank_zero:TPU available: False, using: 0 TPU cores\n",
            "INFO:pytorch_lightning.utilities.rank_zero:HPU available: False, using: 0 HPUs\n",
            "\u001b[34m\u001b[1mwandb\u001b[0m: Currently logged in as: \u001b[33mzmrocze\u001b[0m (\u001b[33mzmrocze-uniwroc\u001b[0m) to \u001b[32mhttps://api.wandb.ai\u001b[0m. Use \u001b[1m`wandb login --relogin`\u001b[0m to force relogin\n"
          ]
        },
        {
          "data": {
            "text/html": [
              "Tracking run with wandb version 0.19.11"
            ],
            "text/plain": [
              "<IPython.core.display.HTML object>"
            ]
          },
          "metadata": {},
          "output_type": "display_data"
        },
        {
          "data": {
            "text/html": [
              "Run data is saved locally in <code>./wandb/run-20250612_133516-sqrnr67i</code>"
            ],
            "text/plain": [
              "<IPython.core.display.HTML object>"
            ]
          },
          "metadata": {},
          "output_type": "display_data"
        },
        {
          "data": {
            "text/html": [
              "Syncing run <strong><a href='https://wandb.ai/zmrocze-uniwroc/recsys2025/runs/sqrnr67i' target=\"_blank\">recgat_bpr_5per_relevant_3layer_l2_Z</a></strong> to <a href='https://wandb.ai/zmrocze-uniwroc/recsys2025' target=\"_blank\">Weights & Biases</a> (<a href='https://wandb.me/developer-guide' target=\"_blank\">docs</a>)<br>"
            ],
            "text/plain": [
              "<IPython.core.display.HTML object>"
            ]
          },
          "metadata": {},
          "output_type": "display_data"
        },
        {
          "data": {
            "text/html": [
              " View project at <a href='https://wandb.ai/zmrocze-uniwroc/recsys2025' target=\"_blank\">https://wandb.ai/zmrocze-uniwroc/recsys2025</a>"
            ],
            "text/plain": [
              "<IPython.core.display.HTML object>"
            ]
          },
          "metadata": {},
          "output_type": "display_data"
        },
        {
          "data": {
            "text/html": [
              " View run at <a href='https://wandb.ai/zmrocze-uniwroc/recsys2025/runs/sqrnr67i' target=\"_blank\">https://wandb.ai/zmrocze-uniwroc/recsys2025/runs/sqrnr67i</a>"
            ],
            "text/plain": [
              "<IPython.core.display.HTML object>"
            ]
          },
          "metadata": {},
          "output_type": "display_data"
        },
        {
          "name": "stderr",
          "output_type": "stream",
          "text": [
            "\u001b[34m\u001b[1mwandb\u001b[0m: logging graph, to disable use `wandb.watch(log_graph=False)`\n",
            "INFO:pytorch_lightning.accelerators.cuda:LOCAL_RANK: 0 - CUDA_VISIBLE_DEVICES: [0]\n",
            "INFO:pytorch_lightning.callbacks.model_summary:\n",
            "  | Name           | Type                | Params | Mode \n",
            "---------------------------------------------------------------\n",
            "0 | recgat         | RecGAT              | 50.4 M | train\n",
            "1 | edge_predictor | LinearEdgePredictor | 32.9 K | train\n",
            "---------------------------------------------------------------\n",
            "50.4 M    Trainable params\n",
            "0         Non-trainable params\n",
            "50.4 M    Total params\n",
            "201.717   Total estimated model params size (MB)\n",
            "32        Modules in train mode\n",
            "0         Modules in eval mode\n"
          ]
        },
        {
          "data": {
            "application/vnd.jupyter.widget-view+json": {
              "model_id": "a8c9ce42791d4b5987461a041e2bbe8f",
              "version_major": 2,
              "version_minor": 0
            },
            "text/plain": [
              "Sanity Checking: |          | 0/? [00:00<?, ?it/s]"
            ]
          },
          "metadata": {},
          "output_type": "display_data"
        },
        {
          "data": {
            "application/vnd.jupyter.widget-view+json": {
              "model_id": "a097008c3d3b4c4e86c202f4c601407b",
              "version_major": 2,
              "version_minor": 0
            },
            "text/plain": [
              "Training: |          | 0/? [00:00<?, ?it/s]"
            ]
          },
          "metadata": {},
          "output_type": "display_data"
        },
        {
          "data": {
            "application/vnd.jupyter.widget-view+json": {
              "model_id": "9a5febf960e2484886462e838d149420",
              "version_major": 2,
              "version_minor": 0
            },
            "text/plain": [
              "Validation: |          | 0/? [00:00<?, ?it/s]"
            ]
          },
          "metadata": {},
          "output_type": "display_data"
        },
        {
          "data": {
            "application/vnd.jupyter.widget-view+json": {
              "model_id": "003bde14f0974e6bb1b6ea168121ec99",
              "version_major": 2,
              "version_minor": 0
            },
            "text/plain": [
              "Validation: |          | 0/? [00:00<?, ?it/s]"
            ]
          },
          "metadata": {},
          "output_type": "display_data"
        }
      ],
      "source": [
        "from pytorch_lightning.callbacks import ModelCheckpoint, EarlyStopping\n",
        "from pytorch_lightning.loggers import WandbLogger\n",
        "\n",
        "model_checkpoint_val = ModelCheckpoint(\n",
        "    monitor='val_loss',\n",
        "    auto_insert_metric_name=True,\n",
        "    save_top_k=2,\n",
        "    mode='min',\n",
        ")\n",
        "model_checkpoint_auroc = ModelCheckpoint(\n",
        "  monitor='val_auroc',\n",
        "  auto_insert_metric_name=True,\n",
        "  mode = 'max',\n",
        "  save_top_k=2,\n",
        ")\n",
        "\n",
        "# lr_scheduler = torch.optim.lr_scheduler.ReduceLROnPlateau()\n",
        "\n",
        "# model = remake_model_if_loss_nan(make_model)\n",
        "model = make_model()\n",
        "\n",
        "log_model = True\n",
        "trial_k = random.randint(0, 100000)\n",
        "wandb_logger = WandbLogger(\n",
        "  # project=\"recsys_categories\",\n",
        "  project=\"recsys2025\",\n",
        "  name=f\"recgat_bpr_{trial_k}\",\n",
        "  log_model=True\n",
        "  )\n",
        "wandb_logger.experiment.config.update({\n",
        "  \"embedding_dim\": embedding_dim,\n",
        "  \"edge_dim\": edge_dim,\n",
        "  \"num_layers\": num_layers,\n",
        "  \"dropout_gat\": dropout_gat,\n",
        "  \"init_type\": init_type,\n",
        "  \"init_a\": init_a,\n",
        "  \"dropout_edge\": dropout_edge,\n",
        "  \"lr\": lr,\n",
        "  \"l2_reg\": l2_reg,\n",
        "  \"batch_size\": batch_size,\n",
        "  \"auroc_batch_size\": auroc_batch_size,\n",
        "  \"accumulate_grad_batches\": accumulate_grad_batches,\n",
        "  \"neg_samples\": neg_samples,\n",
        "  \"log_model\": log_model,\n",
        "  \"graph_items\": model.recgat.node_id_map.n_items,\n",
        "  \"graph_users\": model.recgat.node_id_map.n_users,\n",
        "  \"graph_edges_n\": model.recgat.edge_index.size(1)\n",
        "})\n",
        "\n",
        "trainer = pl.Trainer(  max_epochs=max_epochs\n",
        "                     , check_val_every_n_epoch=accumulate_grad_batches\n",
        "                     , logger=wandb_logger\n",
        "                     , callbacks=[model_checkpoint_auroc, model_checkpoint_val, ]\n",
        "                     , accumulate_grad_batches=accumulate_grad_batches\n",
        "                    #  , terminate_on_nan=True\n",
        "                     )\n",
        "\n",
        "# print(\"test_loader\", test_loader)\n",
        "# print(\"test_edges.shape\", test_edges.shape)\n",
        "wandb_logger.watch(model, log=\"all\")\n",
        "\n",
        "trainer.fit(model, train_loader, val_dataloaders=test_loader)"
      ]
    },
    {
      "cell_type": "code",
      "execution_count": null,
      "metadata": {
        "id": "f1hErzEfJUxx"
      },
      "outputs": [],
      "source": [
        "# model.lr = 0.0001"
      ]
    }
  ],
  "metadata": {
    "accelerator": "GPU",
    "colab": {
      "gpuType": "T4",
      "provenance": []
    },
    "kernelspec": {
      "display_name": "my-mamba-environment",
      "language": "python",
      "name": "python3"
    },
    "language_info": {
      "codemirror_mode": {
        "name": "ipython",
        "version": 3
      },
      "file_extension": ".py",
      "mimetype": "text/x-python",
      "name": "python",
      "nbconvert_exporter": "python",
      "pygments_lexer": "ipython3",
      "version": "3.12.11"
    },
    "widgets": {
      "application/vnd.jupyter.widget-state+json": {
        "003bde14f0974e6bb1b6ea168121ec99": {
          "model_module": "@jupyter-widgets/controls",
          "model_module_version": "1.5.0",
          "model_name": "HBoxModel",
          "state": {
            "_dom_classes": [],
            "_model_module": "@jupyter-widgets/controls",
            "_model_module_version": "1.5.0",
            "_model_name": "HBoxModel",
            "_view_count": null,
            "_view_module": "@jupyter-widgets/controls",
            "_view_module_version": "1.5.0",
            "_view_name": "HBoxView",
            "box_style": "",
            "children": [
              "IPY_MODEL_2c05b653569743efa180eff9ece3cdcc",
              "IPY_MODEL_075b618f710c4960ad430ed4958b5d3b",
              "IPY_MODEL_2a2be321797c4e318df91812f8e31cce"
            ],
            "layout": "IPY_MODEL_29f6a146be3f49299bcafbba34f007f8"
          }
        },
        "075b618f710c4960ad430ed4958b5d3b": {
          "model_module": "@jupyter-widgets/controls",
          "model_module_version": "1.5.0",
          "model_name": "FloatProgressModel",
          "state": {
            "_dom_classes": [],
            "_model_module": "@jupyter-widgets/controls",
            "_model_module_version": "1.5.0",
            "_model_name": "FloatProgressModel",
            "_view_count": null,
            "_view_module": "@jupyter-widgets/controls",
            "_view_module_version": "1.5.0",
            "_view_name": "ProgressView",
            "bar_style": "",
            "description": "",
            "description_tooltip": null,
            "layout": "IPY_MODEL_a64997db4c274ed49de66c2fc4fd1c09",
            "max": 45,
            "min": 0,
            "orientation": "horizontal",
            "style": "IPY_MODEL_82f22b1c8dde4e12b420f9be7d520e99",
            "value": 45
          }
        },
        "07c4ea5a7aae471292fea775d018e9cb": {
          "model_module": "@jupyter-widgets/base",
          "model_module_version": "1.2.0",
          "model_name": "LayoutModel",
          "state": {
            "_model_module": "@jupyter-widgets/base",
            "_model_module_version": "1.2.0",
            "_model_name": "LayoutModel",
            "_view_count": null,
            "_view_module": "@jupyter-widgets/base",
            "_view_module_version": "1.2.0",
            "_view_name": "LayoutView",
            "align_content": null,
            "align_items": null,
            "align_self": null,
            "border": null,
            "bottom": null,
            "display": "inline-flex",
            "flex": null,
            "flex_flow": "row wrap",
            "grid_area": null,
            "grid_auto_columns": null,
            "grid_auto_flow": null,
            "grid_auto_rows": null,
            "grid_column": null,
            "grid_gap": null,
            "grid_row": null,
            "grid_template_areas": null,
            "grid_template_columns": null,
            "grid_template_rows": null,
            "height": null,
            "justify_content": null,
            "justify_items": null,
            "left": null,
            "margin": null,
            "max_height": null,
            "max_width": null,
            "min_height": null,
            "min_width": null,
            "object_fit": null,
            "object_position": null,
            "order": null,
            "overflow": null,
            "overflow_x": null,
            "overflow_y": null,
            "padding": null,
            "right": null,
            "top": null,
            "visibility": null,
            "width": "100%"
          }
        },
        "0ee97288c743490ea979eb7d3f637f3f": {
          "model_module": "@jupyter-widgets/controls",
          "model_module_version": "1.5.0",
          "model_name": "DescriptionStyleModel",
          "state": {
            "_model_module": "@jupyter-widgets/controls",
            "_model_module_version": "1.5.0",
            "_model_name": "DescriptionStyleModel",
            "_view_count": null,
            "_view_module": "@jupyter-widgets/base",
            "_view_module_version": "1.2.0",
            "_view_name": "StyleView",
            "description_width": ""
          }
        },
        "1ca6e29a807e45c0be31312985a402b5": {
          "model_module": "@jupyter-widgets/controls",
          "model_module_version": "1.5.0",
          "model_name": "DescriptionStyleModel",
          "state": {
            "_model_module": "@jupyter-widgets/controls",
            "_model_module_version": "1.5.0",
            "_model_name": "DescriptionStyleModel",
            "_view_count": null,
            "_view_module": "@jupyter-widgets/base",
            "_view_module_version": "1.2.0",
            "_view_name": "StyleView",
            "description_width": ""
          }
        },
        "1d522ac99d274711adf161dd3a8656ba": {
          "model_module": "@jupyter-widgets/controls",
          "model_module_version": "1.5.0",
          "model_name": "HTMLModel",
          "state": {
            "_dom_classes": [],
            "_model_module": "@jupyter-widgets/controls",
            "_model_module_version": "1.5.0",
            "_model_name": "HTMLModel",
            "_view_count": null,
            "_view_module": "@jupyter-widgets/controls",
            "_view_module_version": "1.5.0",
            "_view_name": "HTMLView",
            "description": "",
            "description_tooltip": null,
            "layout": "IPY_MODEL_a798af21c1f24e749fc4068e1a850099",
            "placeholder": "​",
            "style": "IPY_MODEL_245fbb4c252742e6825f23fb98de3d99",
            "value": " 80/104 [00:37&lt;00:11,  2.13it/s, v_num=r67i]"
          }
        },
        "1f007a8f5ab24c42a54a93a0661b4dcd": {
          "model_module": "@jupyter-widgets/controls",
          "model_module_version": "1.5.0",
          "model_name": "DescriptionStyleModel",
          "state": {
            "_model_module": "@jupyter-widgets/controls",
            "_model_module_version": "1.5.0",
            "_model_name": "DescriptionStyleModel",
            "_view_count": null,
            "_view_module": "@jupyter-widgets/base",
            "_view_module_version": "1.2.0",
            "_view_name": "StyleView",
            "description_width": ""
          }
        },
        "215fc85a672d4fcbbe11508d6a6989db": {
          "model_module": "@jupyter-widgets/base",
          "model_module_version": "1.2.0",
          "model_name": "LayoutModel",
          "state": {
            "_model_module": "@jupyter-widgets/base",
            "_model_module_version": "1.2.0",
            "_model_name": "LayoutModel",
            "_view_count": null,
            "_view_module": "@jupyter-widgets/base",
            "_view_module_version": "1.2.0",
            "_view_name": "LayoutView",
            "align_content": null,
            "align_items": null,
            "align_self": null,
            "border": null,
            "bottom": null,
            "display": null,
            "flex": null,
            "flex_flow": null,
            "grid_area": null,
            "grid_auto_columns": null,
            "grid_auto_flow": null,
            "grid_auto_rows": null,
            "grid_column": null,
            "grid_gap": null,
            "grid_row": null,
            "grid_template_areas": null,
            "grid_template_columns": null,
            "grid_template_rows": null,
            "height": null,
            "justify_content": null,
            "justify_items": null,
            "left": null,
            "margin": null,
            "max_height": null,
            "max_width": null,
            "min_height": null,
            "min_width": null,
            "object_fit": null,
            "object_position": null,
            "order": null,
            "overflow": null,
            "overflow_x": null,
            "overflow_y": null,
            "padding": null,
            "right": null,
            "top": null,
            "visibility": null,
            "width": null
          }
        },
        "2187f7008dfc4891b6e3611fde62611a": {
          "model_module": "@jupyter-widgets/base",
          "model_module_version": "1.2.0",
          "model_name": "LayoutModel",
          "state": {
            "_model_module": "@jupyter-widgets/base",
            "_model_module_version": "1.2.0",
            "_model_name": "LayoutModel",
            "_view_count": null,
            "_view_module": "@jupyter-widgets/base",
            "_view_module_version": "1.2.0",
            "_view_name": "LayoutView",
            "align_content": null,
            "align_items": null,
            "align_self": null,
            "border": null,
            "bottom": null,
            "display": null,
            "flex": "2",
            "flex_flow": null,
            "grid_area": null,
            "grid_auto_columns": null,
            "grid_auto_flow": null,
            "grid_auto_rows": null,
            "grid_column": null,
            "grid_gap": null,
            "grid_row": null,
            "grid_template_areas": null,
            "grid_template_columns": null,
            "grid_template_rows": null,
            "height": null,
            "justify_content": null,
            "justify_items": null,
            "left": null,
            "margin": null,
            "max_height": null,
            "max_width": null,
            "min_height": null,
            "min_width": null,
            "object_fit": null,
            "object_position": null,
            "order": null,
            "overflow": null,
            "overflow_x": null,
            "overflow_y": null,
            "padding": null,
            "right": null,
            "top": null,
            "visibility": null,
            "width": null
          }
        },
        "2335291520664caba4959b763c6f3676": {
          "model_module": "@jupyter-widgets/base",
          "model_module_version": "1.2.0",
          "model_name": "LayoutModel",
          "state": {
            "_model_module": "@jupyter-widgets/base",
            "_model_module_version": "1.2.0",
            "_model_name": "LayoutModel",
            "_view_count": null,
            "_view_module": "@jupyter-widgets/base",
            "_view_module_version": "1.2.0",
            "_view_name": "LayoutView",
            "align_content": null,
            "align_items": null,
            "align_self": null,
            "border": null,
            "bottom": null,
            "display": null,
            "flex": null,
            "flex_flow": null,
            "grid_area": null,
            "grid_auto_columns": null,
            "grid_auto_flow": null,
            "grid_auto_rows": null,
            "grid_column": null,
            "grid_gap": null,
            "grid_row": null,
            "grid_template_areas": null,
            "grid_template_columns": null,
            "grid_template_rows": null,
            "height": null,
            "justify_content": null,
            "justify_items": null,
            "left": null,
            "margin": null,
            "max_height": null,
            "max_width": null,
            "min_height": null,
            "min_width": null,
            "object_fit": null,
            "object_position": null,
            "order": null,
            "overflow": null,
            "overflow_x": null,
            "overflow_y": null,
            "padding": null,
            "right": null,
            "top": null,
            "visibility": null,
            "width": null
          }
        },
        "245fbb4c252742e6825f23fb98de3d99": {
          "model_module": "@jupyter-widgets/controls",
          "model_module_version": "1.5.0",
          "model_name": "DescriptionStyleModel",
          "state": {
            "_model_module": "@jupyter-widgets/controls",
            "_model_module_version": "1.5.0",
            "_model_name": "DescriptionStyleModel",
            "_view_count": null,
            "_view_module": "@jupyter-widgets/base",
            "_view_module_version": "1.2.0",
            "_view_name": "StyleView",
            "description_width": ""
          }
        },
        "29f6a146be3f49299bcafbba34f007f8": {
          "model_module": "@jupyter-widgets/base",
          "model_module_version": "1.2.0",
          "model_name": "LayoutModel",
          "state": {
            "_model_module": "@jupyter-widgets/base",
            "_model_module_version": "1.2.0",
            "_model_name": "LayoutModel",
            "_view_count": null,
            "_view_module": "@jupyter-widgets/base",
            "_view_module_version": "1.2.0",
            "_view_name": "LayoutView",
            "align_content": null,
            "align_items": null,
            "align_self": null,
            "border": null,
            "bottom": null,
            "display": "inline-flex",
            "flex": null,
            "flex_flow": "row wrap",
            "grid_area": null,
            "grid_auto_columns": null,
            "grid_auto_flow": null,
            "grid_auto_rows": null,
            "grid_column": null,
            "grid_gap": null,
            "grid_row": null,
            "grid_template_areas": null,
            "grid_template_columns": null,
            "grid_template_rows": null,
            "height": null,
            "justify_content": null,
            "justify_items": null,
            "left": null,
            "margin": null,
            "max_height": null,
            "max_width": null,
            "min_height": null,
            "min_width": null,
            "object_fit": null,
            "object_position": null,
            "order": null,
            "overflow": null,
            "overflow_x": null,
            "overflow_y": null,
            "padding": null,
            "right": null,
            "top": null,
            "visibility": "hidden",
            "width": "100%"
          }
        },
        "2a2be321797c4e318df91812f8e31cce": {
          "model_module": "@jupyter-widgets/controls",
          "model_module_version": "1.5.0",
          "model_name": "HTMLModel",
          "state": {
            "_dom_classes": [],
            "_model_module": "@jupyter-widgets/controls",
            "_model_module_version": "1.5.0",
            "_model_name": "HTMLModel",
            "_view_count": null,
            "_view_module": "@jupyter-widgets/controls",
            "_view_module_version": "1.5.0",
            "_view_name": "HTMLView",
            "description": "",
            "description_tooltip": null,
            "layout": "IPY_MODEL_87bb4b97e6d8426a97c633f74ac87176",
            "placeholder": "​",
            "style": "IPY_MODEL_41a76aab7d644fba9266e4fbbda1c970",
            "value": " 45/45 [00:05&lt;00:00,  8.29it/s]"
          }
        },
        "2c05b653569743efa180eff9ece3cdcc": {
          "model_module": "@jupyter-widgets/controls",
          "model_module_version": "1.5.0",
          "model_name": "HTMLModel",
          "state": {
            "_dom_classes": [],
            "_model_module": "@jupyter-widgets/controls",
            "_model_module_version": "1.5.0",
            "_model_name": "HTMLModel",
            "_view_count": null,
            "_view_module": "@jupyter-widgets/controls",
            "_view_module_version": "1.5.0",
            "_view_name": "HTMLView",
            "description": "",
            "description_tooltip": null,
            "layout": "IPY_MODEL_2335291520664caba4959b763c6f3676",
            "placeholder": "​",
            "style": "IPY_MODEL_1ca6e29a807e45c0be31312985a402b5",
            "value": "Validation DataLoader 0: 100%"
          }
        },
        "2c364e7d22a64c7cb06b34e7eb7e98b6": {
          "model_module": "@jupyter-widgets/controls",
          "model_module_version": "1.5.0",
          "model_name": "ProgressStyleModel",
          "state": {
            "_model_module": "@jupyter-widgets/controls",
            "_model_module_version": "1.5.0",
            "_model_name": "ProgressStyleModel",
            "_view_count": null,
            "_view_module": "@jupyter-widgets/base",
            "_view_module_version": "1.2.0",
            "_view_name": "StyleView",
            "bar_color": null,
            "description_width": ""
          }
        },
        "41a76aab7d644fba9266e4fbbda1c970": {
          "model_module": "@jupyter-widgets/controls",
          "model_module_version": "1.5.0",
          "model_name": "DescriptionStyleModel",
          "state": {
            "_model_module": "@jupyter-widgets/controls",
            "_model_module_version": "1.5.0",
            "_model_name": "DescriptionStyleModel",
            "_view_count": null,
            "_view_module": "@jupyter-widgets/base",
            "_view_module_version": "1.2.0",
            "_view_name": "StyleView",
            "description_width": ""
          }
        },
        "5154532d70bd476aa1341be67594dbd0": {
          "model_module": "@jupyter-widgets/base",
          "model_module_version": "1.2.0",
          "model_name": "LayoutModel",
          "state": {
            "_model_module": "@jupyter-widgets/base",
            "_model_module_version": "1.2.0",
            "_model_name": "LayoutModel",
            "_view_count": null,
            "_view_module": "@jupyter-widgets/base",
            "_view_module_version": "1.2.0",
            "_view_name": "LayoutView",
            "align_content": null,
            "align_items": null,
            "align_self": null,
            "border": null,
            "bottom": null,
            "display": null,
            "flex": "2",
            "flex_flow": null,
            "grid_area": null,
            "grid_auto_columns": null,
            "grid_auto_flow": null,
            "grid_auto_rows": null,
            "grid_column": null,
            "grid_gap": null,
            "grid_row": null,
            "grid_template_areas": null,
            "grid_template_columns": null,
            "grid_template_rows": null,
            "height": null,
            "justify_content": null,
            "justify_items": null,
            "left": null,
            "margin": null,
            "max_height": null,
            "max_width": null,
            "min_height": null,
            "min_width": null,
            "object_fit": null,
            "object_position": null,
            "order": null,
            "overflow": null,
            "overflow_x": null,
            "overflow_y": null,
            "padding": null,
            "right": null,
            "top": null,
            "visibility": null,
            "width": null
          }
        },
        "566eeeff35ab47588c26a3a004b738fa": {
          "model_module": "@jupyter-widgets/base",
          "model_module_version": "1.2.0",
          "model_name": "LayoutModel",
          "state": {
            "_model_module": "@jupyter-widgets/base",
            "_model_module_version": "1.2.0",
            "_model_name": "LayoutModel",
            "_view_count": null,
            "_view_module": "@jupyter-widgets/base",
            "_view_module_version": "1.2.0",
            "_view_name": "LayoutView",
            "align_content": null,
            "align_items": null,
            "align_self": null,
            "border": null,
            "bottom": null,
            "display": null,
            "flex": null,
            "flex_flow": null,
            "grid_area": null,
            "grid_auto_columns": null,
            "grid_auto_flow": null,
            "grid_auto_rows": null,
            "grid_column": null,
            "grid_gap": null,
            "grid_row": null,
            "grid_template_areas": null,
            "grid_template_columns": null,
            "grid_template_rows": null,
            "height": null,
            "justify_content": null,
            "justify_items": null,
            "left": null,
            "margin": null,
            "max_height": null,
            "max_width": null,
            "min_height": null,
            "min_width": null,
            "object_fit": null,
            "object_position": null,
            "order": null,
            "overflow": null,
            "overflow_x": null,
            "overflow_y": null,
            "padding": null,
            "right": null,
            "top": null,
            "visibility": null,
            "width": null
          }
        },
        "61399beef2d94528abbea684cf01bdf8": {
          "model_module": "@jupyter-widgets/controls",
          "model_module_version": "1.5.0",
          "model_name": "DescriptionStyleModel",
          "state": {
            "_model_module": "@jupyter-widgets/controls",
            "_model_module_version": "1.5.0",
            "_model_name": "DescriptionStyleModel",
            "_view_count": null,
            "_view_module": "@jupyter-widgets/base",
            "_view_module_version": "1.2.0",
            "_view_name": "StyleView",
            "description_width": ""
          }
        },
        "69cbf864067e454bade59f83f9abd40a": {
          "model_module": "@jupyter-widgets/base",
          "model_module_version": "1.2.0",
          "model_name": "LayoutModel",
          "state": {
            "_model_module": "@jupyter-widgets/base",
            "_model_module_version": "1.2.0",
            "_model_name": "LayoutModel",
            "_view_count": null,
            "_view_module": "@jupyter-widgets/base",
            "_view_module_version": "1.2.0",
            "_view_name": "LayoutView",
            "align_content": null,
            "align_items": null,
            "align_self": null,
            "border": null,
            "bottom": null,
            "display": null,
            "flex": null,
            "flex_flow": null,
            "grid_area": null,
            "grid_auto_columns": null,
            "grid_auto_flow": null,
            "grid_auto_rows": null,
            "grid_column": null,
            "grid_gap": null,
            "grid_row": null,
            "grid_template_areas": null,
            "grid_template_columns": null,
            "grid_template_rows": null,
            "height": null,
            "justify_content": null,
            "justify_items": null,
            "left": null,
            "margin": null,
            "max_height": null,
            "max_width": null,
            "min_height": null,
            "min_width": null,
            "object_fit": null,
            "object_position": null,
            "order": null,
            "overflow": null,
            "overflow_x": null,
            "overflow_y": null,
            "padding": null,
            "right": null,
            "top": null,
            "visibility": null,
            "width": null
          }
        },
        "6bb02c617c184dccb403a3d0c331ecf0": {
          "model_module": "@jupyter-widgets/controls",
          "model_module_version": "1.5.0",
          "model_name": "FloatProgressModel",
          "state": {
            "_dom_classes": [],
            "_model_module": "@jupyter-widgets/controls",
            "_model_module_version": "1.5.0",
            "_model_name": "FloatProgressModel",
            "_view_count": null,
            "_view_module": "@jupyter-widgets/controls",
            "_view_module_version": "1.5.0",
            "_view_name": "ProgressView",
            "bar_style": "",
            "description": "",
            "description_tooltip": null,
            "layout": "IPY_MODEL_5154532d70bd476aa1341be67594dbd0",
            "max": 2,
            "min": 0,
            "orientation": "horizontal",
            "style": "IPY_MODEL_82337d7bbc0544aa9b24647f8d968759",
            "value": 2
          }
        },
        "82337d7bbc0544aa9b24647f8d968759": {
          "model_module": "@jupyter-widgets/controls",
          "model_module_version": "1.5.0",
          "model_name": "ProgressStyleModel",
          "state": {
            "_model_module": "@jupyter-widgets/controls",
            "_model_module_version": "1.5.0",
            "_model_name": "ProgressStyleModel",
            "_view_count": null,
            "_view_module": "@jupyter-widgets/base",
            "_view_module_version": "1.2.0",
            "_view_name": "StyleView",
            "bar_color": null,
            "description_width": ""
          }
        },
        "82f22b1c8dde4e12b420f9be7d520e99": {
          "model_module": "@jupyter-widgets/controls",
          "model_module_version": "1.5.0",
          "model_name": "ProgressStyleModel",
          "state": {
            "_model_module": "@jupyter-widgets/controls",
            "_model_module_version": "1.5.0",
            "_model_name": "ProgressStyleModel",
            "_view_count": null,
            "_view_module": "@jupyter-widgets/base",
            "_view_module_version": "1.2.0",
            "_view_name": "StyleView",
            "bar_color": null,
            "description_width": ""
          }
        },
        "8378ec42e246473c8119aa21d26cc5ef": {
          "model_module": "@jupyter-widgets/base",
          "model_module_version": "1.2.0",
          "model_name": "LayoutModel",
          "state": {
            "_model_module": "@jupyter-widgets/base",
            "_model_module_version": "1.2.0",
            "_model_name": "LayoutModel",
            "_view_count": null,
            "_view_module": "@jupyter-widgets/base",
            "_view_module_version": "1.2.0",
            "_view_name": "LayoutView",
            "align_content": null,
            "align_items": null,
            "align_self": null,
            "border": null,
            "bottom": null,
            "display": null,
            "flex": null,
            "flex_flow": null,
            "grid_area": null,
            "grid_auto_columns": null,
            "grid_auto_flow": null,
            "grid_auto_rows": null,
            "grid_column": null,
            "grid_gap": null,
            "grid_row": null,
            "grid_template_areas": null,
            "grid_template_columns": null,
            "grid_template_rows": null,
            "height": null,
            "justify_content": null,
            "justify_items": null,
            "left": null,
            "margin": null,
            "max_height": null,
            "max_width": null,
            "min_height": null,
            "min_width": null,
            "object_fit": null,
            "object_position": null,
            "order": null,
            "overflow": null,
            "overflow_x": null,
            "overflow_y": null,
            "padding": null,
            "right": null,
            "top": null,
            "visibility": null,
            "width": null
          }
        },
        "87bb4b97e6d8426a97c633f74ac87176": {
          "model_module": "@jupyter-widgets/base",
          "model_module_version": "1.2.0",
          "model_name": "LayoutModel",
          "state": {
            "_model_module": "@jupyter-widgets/base",
            "_model_module_version": "1.2.0",
            "_model_name": "LayoutModel",
            "_view_count": null,
            "_view_module": "@jupyter-widgets/base",
            "_view_module_version": "1.2.0",
            "_view_name": "LayoutView",
            "align_content": null,
            "align_items": null,
            "align_self": null,
            "border": null,
            "bottom": null,
            "display": null,
            "flex": null,
            "flex_flow": null,
            "grid_area": null,
            "grid_auto_columns": null,
            "grid_auto_flow": null,
            "grid_auto_rows": null,
            "grid_column": null,
            "grid_gap": null,
            "grid_row": null,
            "grid_template_areas": null,
            "grid_template_columns": null,
            "grid_template_rows": null,
            "height": null,
            "justify_content": null,
            "justify_items": null,
            "left": null,
            "margin": null,
            "max_height": null,
            "max_width": null,
            "min_height": null,
            "min_width": null,
            "object_fit": null,
            "object_position": null,
            "order": null,
            "overflow": null,
            "overflow_x": null,
            "overflow_y": null,
            "padding": null,
            "right": null,
            "top": null,
            "visibility": null,
            "width": null
          }
        },
        "9a5febf960e2484886462e838d149420": {
          "model_module": "@jupyter-widgets/controls",
          "model_module_version": "1.5.0",
          "model_name": "HBoxModel",
          "state": {
            "_dom_classes": [],
            "_model_module": "@jupyter-widgets/controls",
            "_model_module_version": "1.5.0",
            "_model_name": "HBoxModel",
            "_view_count": null,
            "_view_module": "@jupyter-widgets/controls",
            "_view_module_version": "1.5.0",
            "_view_name": "HBoxView",
            "box_style": "",
            "children": [
              "IPY_MODEL_bb2219b91646476796ae86fa69278348",
              "IPY_MODEL_a6ccb7ce64284b6babd8a134cc26d251",
              "IPY_MODEL_9ee455b5a24d4488a4583375f1e9d294"
            ],
            "layout": "IPY_MODEL_e9f6e25511874167b85c8ff805c66b69"
          }
        },
        "9ee455b5a24d4488a4583375f1e9d294": {
          "model_module": "@jupyter-widgets/controls",
          "model_module_version": "1.5.0",
          "model_name": "HTMLModel",
          "state": {
            "_dom_classes": [],
            "_model_module": "@jupyter-widgets/controls",
            "_model_module_version": "1.5.0",
            "_model_name": "HTMLModel",
            "_view_count": null,
            "_view_module": "@jupyter-widgets/controls",
            "_view_module_version": "1.5.0",
            "_view_name": "HTMLView",
            "description": "",
            "description_tooltip": null,
            "layout": "IPY_MODEL_8378ec42e246473c8119aa21d26cc5ef",
            "placeholder": "​",
            "style": "IPY_MODEL_bb9f17f544324f1e9f2e2914b9297e02",
            "value": " 45/45 [00:05&lt;00:00,  8.31it/s]"
          }
        },
        "a097008c3d3b4c4e86c202f4c601407b": {
          "model_module": "@jupyter-widgets/controls",
          "model_module_version": "1.5.0",
          "model_name": "HBoxModel",
          "state": {
            "_dom_classes": [],
            "_model_module": "@jupyter-widgets/controls",
            "_model_module_version": "1.5.0",
            "_model_name": "HBoxModel",
            "_view_count": null,
            "_view_module": "@jupyter-widgets/controls",
            "_view_module_version": "1.5.0",
            "_view_name": "HBoxView",
            "box_style": "",
            "children": [
              "IPY_MODEL_f48d03f2ef28430b97f0ca753aba4016",
              "IPY_MODEL_a6efb6e08e32412f935f01a39cceaccf",
              "IPY_MODEL_1d522ac99d274711adf161dd3a8656ba"
            ],
            "layout": "IPY_MODEL_07c4ea5a7aae471292fea775d018e9cb"
          }
        },
        "a64997db4c274ed49de66c2fc4fd1c09": {
          "model_module": "@jupyter-widgets/base",
          "model_module_version": "1.2.0",
          "model_name": "LayoutModel",
          "state": {
            "_model_module": "@jupyter-widgets/base",
            "_model_module_version": "1.2.0",
            "_model_name": "LayoutModel",
            "_view_count": null,
            "_view_module": "@jupyter-widgets/base",
            "_view_module_version": "1.2.0",
            "_view_name": "LayoutView",
            "align_content": null,
            "align_items": null,
            "align_self": null,
            "border": null,
            "bottom": null,
            "display": null,
            "flex": "2",
            "flex_flow": null,
            "grid_area": null,
            "grid_auto_columns": null,
            "grid_auto_flow": null,
            "grid_auto_rows": null,
            "grid_column": null,
            "grid_gap": null,
            "grid_row": null,
            "grid_template_areas": null,
            "grid_template_columns": null,
            "grid_template_rows": null,
            "height": null,
            "justify_content": null,
            "justify_items": null,
            "left": null,
            "margin": null,
            "max_height": null,
            "max_width": null,
            "min_height": null,
            "min_width": null,
            "object_fit": null,
            "object_position": null,
            "order": null,
            "overflow": null,
            "overflow_x": null,
            "overflow_y": null,
            "padding": null,
            "right": null,
            "top": null,
            "visibility": null,
            "width": null
          }
        },
        "a6ccb7ce64284b6babd8a134cc26d251": {
          "model_module": "@jupyter-widgets/controls",
          "model_module_version": "1.5.0",
          "model_name": "FloatProgressModel",
          "state": {
            "_dom_classes": [],
            "_model_module": "@jupyter-widgets/controls",
            "_model_module_version": "1.5.0",
            "_model_name": "FloatProgressModel",
            "_view_count": null,
            "_view_module": "@jupyter-widgets/controls",
            "_view_module_version": "1.5.0",
            "_view_name": "ProgressView",
            "bar_style": "",
            "description": "",
            "description_tooltip": null,
            "layout": "IPY_MODEL_fc24f08173c74e7d8371ddd90dd9b0b3",
            "max": 45,
            "min": 0,
            "orientation": "horizontal",
            "style": "IPY_MODEL_2c364e7d22a64c7cb06b34e7eb7e98b6",
            "value": 45
          }
        },
        "a6efb6e08e32412f935f01a39cceaccf": {
          "model_module": "@jupyter-widgets/controls",
          "model_module_version": "1.5.0",
          "model_name": "FloatProgressModel",
          "state": {
            "_dom_classes": [],
            "_model_module": "@jupyter-widgets/controls",
            "_model_module_version": "1.5.0",
            "_model_name": "FloatProgressModel",
            "_view_count": null,
            "_view_module": "@jupyter-widgets/controls",
            "_view_module_version": "1.5.0",
            "_view_name": "ProgressView",
            "bar_style": "",
            "description": "",
            "description_tooltip": null,
            "layout": "IPY_MODEL_2187f7008dfc4891b6e3611fde62611a",
            "max": 104,
            "min": 0,
            "orientation": "horizontal",
            "style": "IPY_MODEL_d320b2f06ed448558180ccde7beec62d",
            "value": 80
          }
        },
        "a798af21c1f24e749fc4068e1a850099": {
          "model_module": "@jupyter-widgets/base",
          "model_module_version": "1.2.0",
          "model_name": "LayoutModel",
          "state": {
            "_model_module": "@jupyter-widgets/base",
            "_model_module_version": "1.2.0",
            "_model_name": "LayoutModel",
            "_view_count": null,
            "_view_module": "@jupyter-widgets/base",
            "_view_module_version": "1.2.0",
            "_view_name": "LayoutView",
            "align_content": null,
            "align_items": null,
            "align_self": null,
            "border": null,
            "bottom": null,
            "display": null,
            "flex": null,
            "flex_flow": null,
            "grid_area": null,
            "grid_auto_columns": null,
            "grid_auto_flow": null,
            "grid_auto_rows": null,
            "grid_column": null,
            "grid_gap": null,
            "grid_row": null,
            "grid_template_areas": null,
            "grid_template_columns": null,
            "grid_template_rows": null,
            "height": null,
            "justify_content": null,
            "justify_items": null,
            "left": null,
            "margin": null,
            "max_height": null,
            "max_width": null,
            "min_height": null,
            "min_width": null,
            "object_fit": null,
            "object_position": null,
            "order": null,
            "overflow": null,
            "overflow_x": null,
            "overflow_y": null,
            "padding": null,
            "right": null,
            "top": null,
            "visibility": null,
            "width": null
          }
        },
        "a8c9ce42791d4b5987461a041e2bbe8f": {
          "model_module": "@jupyter-widgets/controls",
          "model_module_version": "1.5.0",
          "model_name": "HBoxModel",
          "state": {
            "_dom_classes": [],
            "_model_module": "@jupyter-widgets/controls",
            "_model_module_version": "1.5.0",
            "_model_name": "HBoxModel",
            "_view_count": null,
            "_view_module": "@jupyter-widgets/controls",
            "_view_module_version": "1.5.0",
            "_view_name": "HBoxView",
            "box_style": "",
            "children": [
              "IPY_MODEL_e9baab30898a43dfa5f7e1486380ce86",
              "IPY_MODEL_6bb02c617c184dccb403a3d0c331ecf0",
              "IPY_MODEL_fd157c654b14415d9d072c47e21f8aee"
            ],
            "layout": "IPY_MODEL_ecfe1d988e804034a2c21e4f18db9ff3"
          }
        },
        "bb2219b91646476796ae86fa69278348": {
          "model_module": "@jupyter-widgets/controls",
          "model_module_version": "1.5.0",
          "model_name": "HTMLModel",
          "state": {
            "_dom_classes": [],
            "_model_module": "@jupyter-widgets/controls",
            "_model_module_version": "1.5.0",
            "_model_name": "HTMLModel",
            "_view_count": null,
            "_view_module": "@jupyter-widgets/controls",
            "_view_module_version": "1.5.0",
            "_view_name": "HTMLView",
            "description": "",
            "description_tooltip": null,
            "layout": "IPY_MODEL_215fc85a672d4fcbbe11508d6a6989db",
            "placeholder": "​",
            "style": "IPY_MODEL_f1583ea6dd2a4237b929cd33945714ae",
            "value": "Validation DataLoader 0: 100%"
          }
        },
        "bb9f17f544324f1e9f2e2914b9297e02": {
          "model_module": "@jupyter-widgets/controls",
          "model_module_version": "1.5.0",
          "model_name": "DescriptionStyleModel",
          "state": {
            "_model_module": "@jupyter-widgets/controls",
            "_model_module_version": "1.5.0",
            "_model_name": "DescriptionStyleModel",
            "_view_count": null,
            "_view_module": "@jupyter-widgets/base",
            "_view_module_version": "1.2.0",
            "_view_name": "StyleView",
            "description_width": ""
          }
        },
        "d320b2f06ed448558180ccde7beec62d": {
          "model_module": "@jupyter-widgets/controls",
          "model_module_version": "1.5.0",
          "model_name": "ProgressStyleModel",
          "state": {
            "_model_module": "@jupyter-widgets/controls",
            "_model_module_version": "1.5.0",
            "_model_name": "ProgressStyleModel",
            "_view_count": null,
            "_view_module": "@jupyter-widgets/base",
            "_view_module_version": "1.2.0",
            "_view_name": "StyleView",
            "bar_color": null,
            "description_width": ""
          }
        },
        "e9baab30898a43dfa5f7e1486380ce86": {
          "model_module": "@jupyter-widgets/controls",
          "model_module_version": "1.5.0",
          "model_name": "HTMLModel",
          "state": {
            "_dom_classes": [],
            "_model_module": "@jupyter-widgets/controls",
            "_model_module_version": "1.5.0",
            "_model_name": "HTMLModel",
            "_view_count": null,
            "_view_module": "@jupyter-widgets/controls",
            "_view_module_version": "1.5.0",
            "_view_name": "HTMLView",
            "description": "",
            "description_tooltip": null,
            "layout": "IPY_MODEL_566eeeff35ab47588c26a3a004b738fa",
            "placeholder": "​",
            "style": "IPY_MODEL_61399beef2d94528abbea684cf01bdf8",
            "value": "Sanity Checking DataLoader 0: 100%"
          }
        },
        "e9f6e25511874167b85c8ff805c66b69": {
          "model_module": "@jupyter-widgets/base",
          "model_module_version": "1.2.0",
          "model_name": "LayoutModel",
          "state": {
            "_model_module": "@jupyter-widgets/base",
            "_model_module_version": "1.2.0",
            "_model_name": "LayoutModel",
            "_view_count": null,
            "_view_module": "@jupyter-widgets/base",
            "_view_module_version": "1.2.0",
            "_view_name": "LayoutView",
            "align_content": null,
            "align_items": null,
            "align_self": null,
            "border": null,
            "bottom": null,
            "display": "inline-flex",
            "flex": null,
            "flex_flow": "row wrap",
            "grid_area": null,
            "grid_auto_columns": null,
            "grid_auto_flow": null,
            "grid_auto_rows": null,
            "grid_column": null,
            "grid_gap": null,
            "grid_row": null,
            "grid_template_areas": null,
            "grid_template_columns": null,
            "grid_template_rows": null,
            "height": null,
            "justify_content": null,
            "justify_items": null,
            "left": null,
            "margin": null,
            "max_height": null,
            "max_width": null,
            "min_height": null,
            "min_width": null,
            "object_fit": null,
            "object_position": null,
            "order": null,
            "overflow": null,
            "overflow_x": null,
            "overflow_y": null,
            "padding": null,
            "right": null,
            "top": null,
            "visibility": "hidden",
            "width": "100%"
          }
        },
        "ecfe1d988e804034a2c21e4f18db9ff3": {
          "model_module": "@jupyter-widgets/base",
          "model_module_version": "1.2.0",
          "model_name": "LayoutModel",
          "state": {
            "_model_module": "@jupyter-widgets/base",
            "_model_module_version": "1.2.0",
            "_model_name": "LayoutModel",
            "_view_count": null,
            "_view_module": "@jupyter-widgets/base",
            "_view_module_version": "1.2.0",
            "_view_name": "LayoutView",
            "align_content": null,
            "align_items": null,
            "align_self": null,
            "border": null,
            "bottom": null,
            "display": "inline-flex",
            "flex": null,
            "flex_flow": "row wrap",
            "grid_area": null,
            "grid_auto_columns": null,
            "grid_auto_flow": null,
            "grid_auto_rows": null,
            "grid_column": null,
            "grid_gap": null,
            "grid_row": null,
            "grid_template_areas": null,
            "grid_template_columns": null,
            "grid_template_rows": null,
            "height": null,
            "justify_content": null,
            "justify_items": null,
            "left": null,
            "margin": null,
            "max_height": null,
            "max_width": null,
            "min_height": null,
            "min_width": null,
            "object_fit": null,
            "object_position": null,
            "order": null,
            "overflow": null,
            "overflow_x": null,
            "overflow_y": null,
            "padding": null,
            "right": null,
            "top": null,
            "visibility": "hidden",
            "width": "100%"
          }
        },
        "f1583ea6dd2a4237b929cd33945714ae": {
          "model_module": "@jupyter-widgets/controls",
          "model_module_version": "1.5.0",
          "model_name": "DescriptionStyleModel",
          "state": {
            "_model_module": "@jupyter-widgets/controls",
            "_model_module_version": "1.5.0",
            "_model_name": "DescriptionStyleModel",
            "_view_count": null,
            "_view_module": "@jupyter-widgets/base",
            "_view_module_version": "1.2.0",
            "_view_name": "StyleView",
            "description_width": ""
          }
        },
        "f48d03f2ef28430b97f0ca753aba4016": {
          "model_module": "@jupyter-widgets/controls",
          "model_module_version": "1.5.0",
          "model_name": "HTMLModel",
          "state": {
            "_dom_classes": [],
            "_model_module": "@jupyter-widgets/controls",
            "_model_module_version": "1.5.0",
            "_model_name": "HTMLModel",
            "_view_count": null,
            "_view_module": "@jupyter-widgets/controls",
            "_view_module_version": "1.5.0",
            "_view_name": "HTMLView",
            "description": "",
            "description_tooltip": null,
            "layout": "IPY_MODEL_fd7e0ae572a04ce4a54214c440ab9109",
            "placeholder": "​",
            "style": "IPY_MODEL_0ee97288c743490ea979eb7d3f637f3f",
            "value": "Epoch 2:  77%"
          }
        },
        "fc24f08173c74e7d8371ddd90dd9b0b3": {
          "model_module": "@jupyter-widgets/base",
          "model_module_version": "1.2.0",
          "model_name": "LayoutModel",
          "state": {
            "_model_module": "@jupyter-widgets/base",
            "_model_module_version": "1.2.0",
            "_model_name": "LayoutModel",
            "_view_count": null,
            "_view_module": "@jupyter-widgets/base",
            "_view_module_version": "1.2.0",
            "_view_name": "LayoutView",
            "align_content": null,
            "align_items": null,
            "align_self": null,
            "border": null,
            "bottom": null,
            "display": null,
            "flex": "2",
            "flex_flow": null,
            "grid_area": null,
            "grid_auto_columns": null,
            "grid_auto_flow": null,
            "grid_auto_rows": null,
            "grid_column": null,
            "grid_gap": null,
            "grid_row": null,
            "grid_template_areas": null,
            "grid_template_columns": null,
            "grid_template_rows": null,
            "height": null,
            "justify_content": null,
            "justify_items": null,
            "left": null,
            "margin": null,
            "max_height": null,
            "max_width": null,
            "min_height": null,
            "min_width": null,
            "object_fit": null,
            "object_position": null,
            "order": null,
            "overflow": null,
            "overflow_x": null,
            "overflow_y": null,
            "padding": null,
            "right": null,
            "top": null,
            "visibility": null,
            "width": null
          }
        },
        "fd157c654b14415d9d072c47e21f8aee": {
          "model_module": "@jupyter-widgets/controls",
          "model_module_version": "1.5.0",
          "model_name": "HTMLModel",
          "state": {
            "_dom_classes": [],
            "_model_module": "@jupyter-widgets/controls",
            "_model_module_version": "1.5.0",
            "_model_name": "HTMLModel",
            "_view_count": null,
            "_view_module": "@jupyter-widgets/controls",
            "_view_module_version": "1.5.0",
            "_view_name": "HTMLView",
            "description": "",
            "description_tooltip": null,
            "layout": "IPY_MODEL_69cbf864067e454bade59f83f9abd40a",
            "placeholder": "​",
            "style": "IPY_MODEL_1f007a8f5ab24c42a54a93a0661b4dcd",
            "value": " 2/2 [00:01&lt;00:00,  1.65it/s]"
          }
        },
        "fd7e0ae572a04ce4a54214c440ab9109": {
          "model_module": "@jupyter-widgets/base",
          "model_module_version": "1.2.0",
          "model_name": "LayoutModel",
          "state": {
            "_model_module": "@jupyter-widgets/base",
            "_model_module_version": "1.2.0",
            "_model_name": "LayoutModel",
            "_view_count": null,
            "_view_module": "@jupyter-widgets/base",
            "_view_module_version": "1.2.0",
            "_view_name": "LayoutView",
            "align_content": null,
            "align_items": null,
            "align_self": null,
            "border": null,
            "bottom": null,
            "display": null,
            "flex": null,
            "flex_flow": null,
            "grid_area": null,
            "grid_auto_columns": null,
            "grid_auto_flow": null,
            "grid_auto_rows": null,
            "grid_column": null,
            "grid_gap": null,
            "grid_row": null,
            "grid_template_areas": null,
            "grid_template_columns": null,
            "grid_template_rows": null,
            "height": null,
            "justify_content": null,
            "justify_items": null,
            "left": null,
            "margin": null,
            "max_height": null,
            "max_width": null,
            "min_height": null,
            "min_width": null,
            "object_fit": null,
            "object_position": null,
            "order": null,
            "overflow": null,
            "overflow_x": null,
            "overflow_y": null,
            "padding": null,
            "right": null,
            "top": null,
            "visibility": null,
            "width": null
          }
        }
      }
    }
  },
  "nbformat": 4,
  "nbformat_minor": 0
}
