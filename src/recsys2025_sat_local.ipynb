{
  "cells": [
    {
      "cell_type": "code",
      "execution_count": 1,
      "metadata": {
        "colab": {
          "base_uri": "https://localhost:8080/"
        },
        "id": "SUJGnQYv8Wr5",
        "outputId": "e5980a3b-5356-45a2-df34-b6589abf1107"
      },
      "outputs": [],
      "source": [
        "ubc_data_path = '../ubc_data_relevant_splitted'\n",
        "ubc_input_path = f'{ubc_data_path}/input'\n",
        "target_path = f'{ubc_data_path}/target'"
      ]
    },
    {
      "cell_type": "code",
      "execution_count": 2,
      "metadata": {
        "id": "Du7ocVU-uL3j"
      },
      "outputs": [
        {
          "name": "stdout",
          "output_type": "stream",
          "text": [
            "/home/zmrocze/studia/uwr/sem2/adm/projekt/src/our_lib\n"
          ]
        }
      ],
      "source": [
        "%load_ext autoreload\n",
        "%autoreload 2\n",
        "%reload_ext autoreload\n",
        "\n",
        "import os\n",
        "import sys\n",
        "\n",
        "# Below paths: bad but managable\n",
        "\n",
        "# for our_lib\n",
        "module_path = os.path.abspath(os.path.join('./our_lib')) # or the path to your source code\n",
        "print(module_path)\n",
        "sys.path.append(module_path)\n",
        "\n",
        "# for recsys2025\n",
        "# module_path = os.path.abspath(os.path.dirname(os.path.abspath(__file__)).join('../../.'))\n",
        "module_path = os.path.abspath(os.path.join('../.')) # or the path to your source code\n",
        "sys.path.append(module_path)\n",
        "module_path = os.path.abspath(os.path.join('../recsys2025')) # or the path to your source code\n",
        "sys.path.append(module_path)\n",
        "\n",
        "\n",
        "# from our_lib import *\n",
        "from our_lib import RecSysData\n",
        "# from our_lib import split_data, create_baseline_embeddings, contest_training\n",
        "# from our_lib import validate_and_load_embeddings  \n",
        "%reload_ext autoreload"
      ]
    },
    {
      "cell_type": "markdown",
      "metadata": {
        "id": "IYsFgsl6Ft79"
      },
      "source": [
        "# load data"
      ]
    },
    {
      "cell_type": "code",
      "execution_count": 3,
      "metadata": {
        "colab": {
          "base_uri": "https://localhost:8080/"
        },
        "id": "yzXLt7j89eiv",
        "outputId": "1cb50132-8a64-4548-bf0f-8749c57bd5fc"
      },
      "outputs": [
        {
          "data": {
            "text/plain": [
              "device(type='cpu')"
            ]
          },
          "execution_count": 3,
          "metadata": {},
          "output_type": "execute_result"
        }
      ],
      "source": [
        "import torch\n",
        "device = torch.device('cuda' if torch.cuda.is_available() else 'cpu')\n",
        "device"
      ]
    },
    {
      "cell_type": "code",
      "execution_count": 4,
      "metadata": {
        "colab": {
          "base_uri": "https://localhost:8080/"
        },
        "id": "A9MoeCcF_vmD",
        "outputId": "22b79d78-67cc-4a6f-ab7d-c77d8e008b5d"
      },
      "outputs": [],
      "source": [
        "# load everything\n",
        "import pandas as pd\n",
        "import numpy as np\n",
        "import matplotlib.pyplot as plt\n",
        "import pytorch_lightning as pl\n",
        "from pytorch_lightning.loggers import WandbLogger\n",
        "import torchmetrics as tm"
      ]
    },
    {
      "cell_type": "code",
      "execution_count": 5,
      "metadata": {
        "colab": {
          "base_uri": "https://localhost:8080/"
        },
        "id": "w-Wd8WTzAAUn",
        "outputId": "bcff0b87-05b2-4dbd-f70b-fc775ee3bff7"
      },
      "outputs": [
        {
          "data": {
            "text/plain": [
              "RecSysData(\n",
              "  add_to_cart=1922253,\n",
              "  page_visit=32941261,\n",
              "  product_buy=939835,\n",
              "  product_properties=1197634,\n",
              "  remove_from_cart=800359,\n",
              "  search_query=3204721,\n",
              "  all users: 858489,\n",
              "  all products: 674374\n",
              "  all urls: 5185400,\n",
              ")"
            ]
          },
          "execution_count": 5,
          "metadata": {},
          "output_type": "execute_result"
        }
      ],
      "source": [
        "from src.our_lib import RecSysData, unique_edges, load_target, drop_duplicates, all_categories_in_df_numpy, all_users_in_df_numpy, all_items_in_df_numpy, join_item_with_category\n",
        "\n",
        "input_data = RecSysData.read_parquet(ubc_input_path)\n",
        "product_properties = pd.read_parquet(f'{ubc_data_path}/product_properties.parquet')\n",
        "all_input_users = input_data.all_users_set()\n",
        "all_categories = all_categories_in_df_numpy(product_properties)\n",
        "input_data"
      ]
    },
    {
      "cell_type": "code",
      "execution_count": 6,
      "metadata": {},
      "outputs": [],
      "source": [
        "delattr(input_data, 'page_visit')\n",
        "delattr(input_data, 'search_query')"
      ]
    },
    {
      "cell_type": "code",
      "execution_count": 7,
      "metadata": {},
      "outputs": [],
      "source": [
        "target_path = \"../ubc_data_relevant_splitted/target\"\n",
        "target_data = load_target(target_path)\n",
        "train_target = target_data['train_target']\n",
        "valid_target = target_data['validation_target']"
      ]
    },
    {
      "cell_type": "code",
      "execution_count": 8,
      "metadata": {},
      "outputs": [],
      "source": [
        "input_data.add_to_cart = join_item_with_category(input_data.add_to_cart, product_properties)\n",
        "input_data.remove_from_cart = join_item_with_category(input_data.remove_from_cart, product_properties)\n",
        "input_data.product_buy = join_item_with_category(input_data.product_buy, product_properties)"
      ]
    },
    {
      "cell_type": "code",
      "execution_count": 9,
      "metadata": {},
      "outputs": [
        {
          "name": "stdout",
          "output_type": "stream",
          "text": [
            "First timestamp in train_target: 2022-09-13 00:03:35\n",
            "First timestamp in valid_target: 2022-09-27 00:00:15\n"
          ]
        }
      ],
      "source": [
        "first_train_timestamp = train_target['timestamp'].min()\n",
        "first_valid_timestamp = valid_target['timestamp'].min()\n",
        "\n",
        "print(f\"First timestamp in train_target: {first_train_timestamp}\")\n",
        "print(f\"First timestamp in valid_target: {first_valid_timestamp}\")"
      ]
    },
    {
      "cell_type": "code",
      "execution_count": 10,
      "metadata": {},
      "outputs": [
        {
          "name": "stdout",
          "output_type": "stream",
          "text": [
            "2022-05-23 00:10:15\n",
            "2022-05-23 00:12:20\n",
            "2022-05-23 00:10:40\n",
            "2022-09-12 23:59:45\n",
            "2022-09-12 23:58:10\n",
            "2022-09-12 23:58:35\n"
          ]
        }
      ],
      "source": [
        "print(input_data.add_to_cart['timestamp'].min())\n",
        "print(input_data.remove_from_cart['timestamp'].min())\n",
        "print(input_data.product_buy['timestamp'].min())\n",
        "print(input_data.add_to_cart['timestamp'].max())\n",
        "print(input_data.remove_from_cart['timestamp'].max())\n",
        "print(input_data.product_buy['timestamp'].max())"
      ]
    },
    {
      "cell_type": "code",
      "execution_count": 11,
      "metadata": {},
      "outputs": [
        {
          "name": "stdout",
          "output_type": "stream",
          "text": [
            "add_to_cart: 1922253\n",
            "remove_from_cart: 800359\n",
            "product_buy: 939835\n",
            "train_target: 130109\n",
            "valid_target: 148479\n",
            "len(users) x len(categories): 5480593776\n"
          ]
        }
      ],
      "source": [
        "# drop duplicates\n",
        "aaxxrta = 'category' # 'sku'\n",
        "drop_duplicates(input_data.add_to_cart, subset=['client_id', aaxxrta])\n",
        "drop_duplicates(input_data.remove_from_cart, subset=['client_id', aaxxrta])\n",
        "drop_duplicates(input_data.product_buy, subset=['client_id', aaxxrta])\n",
        "\n",
        "drop_duplicates(train_target, subset=['client_id', aaxxrta])\n",
        "drop_duplicates(valid_target, subset=['client_id', aaxxrta])\n",
        "\n",
        "# print all the lengths\n",
        "print(f\"add_to_cart: {len(input_data.add_to_cart)}\")\n",
        "print(f\"remove_from_cart: {len(input_data.remove_from_cart)}\")\n",
        "print(f\"product_buy: {len(input_data.product_buy)}\")\n",
        "print(f\"train_target: {len(train_target)}\")\n",
        "print(f\"valid_target: {len(valid_target)}\")\n",
        "\n",
        "print(f\"len(users) x len(categories): {len(all_input_users) * len(all_categories)}\")"
      ]
    },
    {
      "cell_type": "code",
      "execution_count": 12,
      "metadata": {},
      "outputs": [],
      "source": [
        "# input_data.print_datasets_stats_nicely(\"input data\")"
      ]
    },
    {
      "cell_type": "code",
      "execution_count": 13,
      "metadata": {},
      "outputs": [],
      "source": [
        "train_users_set = set(train_target['client_id'].unique())\n",
        "valid_users_set = set(valid_target['client_id'].unique())"
      ]
    },
    {
      "cell_type": "code",
      "execution_count": 14,
      "metadata": {},
      "outputs": [
        {
          "name": "stdout",
          "output_type": "stream",
          "text": [
            "Users with single interaction in input_data: 190183\n",
            "Users with single interaction and no interaction in test set: 181914\n"
          ]
        }
      ],
      "source": [
        "# Get users who have only one interaction across all input data types\n",
        "all_interactions = pd.concat([\n",
        "  input_data.add_to_cart[['client_id']],\n",
        "  input_data.remove_from_cart[['client_id']],\n",
        "  input_data.product_buy[['client_id']]\n",
        "])\n",
        "\n",
        "user_interaction_counts = all_interactions['client_id'].value_counts()\n",
        "single_interaction_users = set(user_interaction_counts[user_interaction_counts == 1].index)\n",
        "users_not_in_test = single_interaction_users.difference(valid_users_set).difference(train_users_set)\n",
        "\n",
        "print(f\"Users with single interaction in input_data: {len(single_interaction_users)}\")\n",
        "print(f\"Users with single interaction and no interaction in test set: {len(users_not_in_test)}\")"
      ]
    },
    {
      "cell_type": "code",
      "execution_count": 15,
      "metadata": {},
      "outputs": [],
      "source": [
        "# removing these, no information gained\n",
        "input_data.add_to_cart = input_data.add_to_cart[~input_data.add_to_cart['client_id'].isin(users_not_in_test)]\n",
        "input_data.remove_from_cart = input_data.remove_from_cart[~input_data.remove_from_cart['client_id'].isin(users_not_in_test)]\n",
        "input_data.product_buy = input_data.product_buy[~input_data.product_buy['client_id'].isin(users_not_in_test)]"
      ]
    },
    {
      "cell_type": "code",
      "execution_count": 16,
      "metadata": {},
      "outputs": [
        {
          "data": {
            "text/plain": [
              "(6130, 485297, 6384)"
            ]
          },
          "execution_count": 16,
          "metadata": {},
          "output_type": "execute_result"
        }
      ],
      "source": [
        "# sanity check\n",
        "_known_categories = set(input_data.add_to_cart['category'].unique()).union(\n",
        "    set(input_data.remove_from_cart['category'].unique())).union(\n",
        "    set(input_data.product_buy['category'].unique()))\n",
        "known_users = set(input_data.add_to_cart['client_id'].unique()).union(\n",
        "    set(input_data.remove_from_cart['client_id'].unique())).union(\n",
        "    set(input_data.product_buy['client_id'].unique()))\n",
        "\n",
        "len(_known_categories), len(known_users), len(all_categories)"
      ]
    },
    {
      "cell_type": "code",
      "execution_count": 17,
      "metadata": {},
      "outputs": [
        {
          "name": "stdout",
          "output_type": "stream",
          "text": [
            "train_target_known: 60108\n",
            "valid_target_known: 63112\n"
          ]
        }
      ],
      "source": [
        "train_target_known = train_target[train_target['client_id'].isin(known_users)]\n",
        "valid_target_known = valid_target[valid_target['client_id'].isin(known_users)]\n",
        "print(f\"train_target_known: {len(train_target_known)}\")\n",
        "print(f\"valid_target_known: {len(valid_target_known)}\")"
      ]
    },
    {
      "cell_type": "markdown",
      "metadata": {
        "id": "b_0sKCwlFmsq"
      },
      "source": [
        "# training gat"
      ]
    },
    {
      "cell_type": "code",
      "execution_count": 18,
      "metadata": {
        "id": "-B5kdv-hGBez"
      },
      "outputs": [],
      "source": [
        "# imports\n",
        "# from src.our_lib import NodeIdMap, JustGAT, RecGAT, DotproductEdgePredictor, LinearEdgePredictor, BprLossLoader\n",
        "# from src.our_lib import test_out, l2_reg, train_test_split_pos_edges, int_tensor, unique_edges\n",
        "from src.our_lib import NodeIdMap, JustGAT, RecGAT, DotproductEdgePredictor, LinearEdgePredictor, BprLossLoader, test_out, l2_reg, train_test_split_pos_edges, int_tensor, unique_edges, loss_f, create_target_from_edge_index, BprTraining\n",
        "import random"
      ]
    },
    {
      "cell_type": "code",
      "execution_count": 19,
      "metadata": {
        "colab": {
          "base_uri": "https://localhost:8080/"
        },
        "id": "PagNlPLgFlrw",
        "outputId": "df9cfc11-b67d-47a9-fcd6-4dc12308457e"
      },
      "outputs": [],
      "source": [
        "### NOTE!:\n",
        "### There are 2 types of ids: product has sku    and the id of a product node in graph (can exchange with node_id_map.item_of_id/id_of_item).\n",
        "#                             user has client_id and the id of a user    node in graph\n",
        "\n",
        "node_id_map = NodeIdMap(known_users, all_categories)\n",
        "train_edge_index = node_id_map.make_edges(train_target_known.client_id.values, train_target_known.category.values).to(device=device)\n",
        "val_edge_index = node_id_map.make_edges(valid_target_known.client_id.values, valid_target_known.category.values).to(device=device)\n",
        "\n",
        "N = node_id_map.N"
      ]
    },
    {
      "cell_type": "code",
      "execution_count": 20,
      "metadata": {
        "id": "86ARo5Mfv4xF"
      },
      "outputs": [],
      "source": [
        "# TODO: take negatives from batch items, not from all\n",
        "neg_samples = 5\n",
        "batch_size = 16\n",
        "### these are edges used for loss calculation\n",
        "### and they define the graph (maybe together with product_buy, remove_from_cart)\n",
        "train_loader = BprLossLoader(\n",
        "    edge_index=train_edge_index,\n",
        "    trg_index_range=(node_id_map.n_users, node_id_map.N), # node index range for all items (used to sample negative items)\n",
        "    batch_size=batch_size,\n",
        "    neg_samples=neg_samples,\n",
        "    random_state=42,\n",
        "    device=device\n",
        ")\n",
        "\n",
        "test_loader = BprLossLoader(\n",
        "  edge_index=val_edge_index,\n",
        "  trg_index_range=(node_id_map.n_users, node_id_map.N),  # node index range for all items (used to sample negative items)\n",
        "  batch_size=batch_size,\n",
        "  neg_samples=neg_samples,\n",
        "  random_state=42,\n",
        "  device=device\n",
        ")"
      ]
    },
    {
      "cell_type": "code",
      "execution_count": 21,
      "metadata": {
        "id": "cw3lmjuSHhbC"
      },
      "outputs": [],
      "source": [
        "embedding_dim = 16\n",
        "edge_dim = 3\n",
        "num_layers=3\n",
        "dropout_gat=0.5\n",
        "init_type='normal'\n",
        "init_a=0.001\n",
        "dropout_edge=0.5\n",
        "lr=0.001\n",
        "l2_reg=0.0001\n",
        "accumulate_grad_batches=10\n",
        "patience=5\n",
        "lr_reduce_factor=0.5\n",
        "lr_scheduler_monitor=\"train_loss\"\n",
        "auroc_batch_size=256\n",
        "max_epochs=50\n",
        "\n",
        "def make_model():\n",
        "  ### define graph\n",
        "  # new_recgat = lambda: RecGAT(users, items, embedding_dim=embedding_dim, edge_dim=edge_dim, num_layers=2, device=device, dropout=0.3, type='uniform', a=0.0000001)\n",
        "  new_recgat = lambda: RecGAT(known_users, all_categories, embedding_dim=embedding_dim, edge_dim=edge_dim, num_layers=num_layers, device=device, dropout=dropout_gat, type=init_type, a=init_a)\n",
        "  recgat = new_recgat()\n",
        "  \n",
        "  edge_attr_add_to_cart = torch.tensor([[1, 0, 0]], dtype=torch.float).repeat(len(input_data.add_to_cart), 1).to(device)\n",
        "  edge_attr_remove_from_cart = torch.tensor([[0, 1, 0]], dtype=torch.float).repeat(len(input_data.remove_from_cart), 1).to(device)\n",
        "  edge_attr_product_buy = torch.tensor([[0, 0, 1]], dtype=torch.float).repeat(len(input_data.product_buy), 1).to(device)\n",
        "\n",
        "  recgat.add_edges_from_user_category_df(input_data.add_to_cart, edge_attr=edge_attr_add_to_cart)\n",
        "  recgat.add_edges_from_user_category_df(input_data.remove_from_cart, edge_attr=edge_attr_remove_from_cart)\n",
        "  recgat.add_edges_from_user_category_df(input_data.product_buy, edge_attr=edge_attr_product_buy)\n",
        "  \n",
        "  ### edge predictor (here: only for add_to_cart edges. todo: predict more stuff (like next purchased category in next 14days from propensity categories) with more varied predictors and combine losses)\n",
        "  edge_predictor = LinearEdgePredictor(embedding_dim=embedding_dim, dropout=dropout_edge).to(device=device)\n",
        "\n",
        "  model = BprTraining(\n",
        "      recgat=recgat,\n",
        "      edge_predictor=edge_predictor,\n",
        "      lr=lr,\n",
        "      l2_reg=l2_reg,\n",
        "      # propensity_sku=sampled_items, # for auroc calc\n",
        "      auroc_batch_size=auroc_batch_size,\n",
        "      val_edge_index=val_edge_index,\n",
        "      patience=patience,\n",
        "      factor=lr_reduce_factor,\n",
        "      lr_scheduler_monitor=lr_scheduler_monitor,\n",
        "      # forward_gat_every_n = 20, ### tradeoff : speed vs training stability\n",
        "      # this has to be fixed and work with n>1, this is slow, use big batch to make up for it:\n",
        "      # forward_gat_every_n = accumulate_grad_batches,\n",
        "    )\n",
        "\n",
        "  ### sillynes\n",
        "  # model = remake_model_if_loss_nan(model)\n",
        "  return model\n"
      ]
    },
    {
      "cell_type": "code",
      "execution_count": null,
      "metadata": {},
      "outputs": [
        {
          "name": "stderr",
          "output_type": "stream",
          "text": [
            "Exception ignored in: <bound method IPythonKernel._clean_thread_parent_frames of <ipykernel.ipkernel.IPythonKernel object at 0x7fd062f8ac60>>\n",
            "Traceback (most recent call last):\n",
            "  File \"/home/zmrocze/studia/uwr/sem2/adm/projekt/.mamba/envs/my-mamba-environment/lib/python3.12/site-packages/ipykernel/ipkernel.py\", line 775, in _clean_thread_parent_frames\n",
            "    def _clean_thread_parent_frames(\n",
            "\n",
            "KeyboardInterrupt: \n"
          ]
        }
      ],
      "source": [
        "# md = make_model()\n",
        "# md.auroc()"
      ]
    },
    {
      "cell_type": "code",
      "execution_count": null,
      "metadata": {
        "colab": {
          "base_uri": "https://localhost:8080/",
          "height": 486,
          "referenced_widgets": [
            "a8c9ce42791d4b5987461a041e2bbe8f",
            "e9baab30898a43dfa5f7e1486380ce86",
            "6bb02c617c184dccb403a3d0c331ecf0",
            "fd157c654b14415d9d072c47e21f8aee",
            "ecfe1d988e804034a2c21e4f18db9ff3",
            "566eeeff35ab47588c26a3a004b738fa",
            "61399beef2d94528abbea684cf01bdf8",
            "5154532d70bd476aa1341be67594dbd0",
            "82337d7bbc0544aa9b24647f8d968759",
            "69cbf864067e454bade59f83f9abd40a",
            "1f007a8f5ab24c42a54a93a0661b4dcd",
            "a097008c3d3b4c4e86c202f4c601407b",
            "f48d03f2ef28430b97f0ca753aba4016",
            "a6efb6e08e32412f935f01a39cceaccf",
            "1d522ac99d274711adf161dd3a8656ba",
            "07c4ea5a7aae471292fea775d018e9cb",
            "fd7e0ae572a04ce4a54214c440ab9109",
            "0ee97288c743490ea979eb7d3f637f3f",
            "2187f7008dfc4891b6e3611fde62611a",
            "d320b2f06ed448558180ccde7beec62d",
            "a798af21c1f24e749fc4068e1a850099",
            "245fbb4c252742e6825f23fb98de3d99",
            "9a5febf960e2484886462e838d149420",
            "bb2219b91646476796ae86fa69278348",
            "a6ccb7ce64284b6babd8a134cc26d251",
            "9ee455b5a24d4488a4583375f1e9d294",
            "e9f6e25511874167b85c8ff805c66b69",
            "215fc85a672d4fcbbe11508d6a6989db",
            "f1583ea6dd2a4237b929cd33945714ae",
            "fc24f08173c74e7d8371ddd90dd9b0b3",
            "2c364e7d22a64c7cb06b34e7eb7e98b6",
            "8378ec42e246473c8119aa21d26cc5ef",
            "bb9f17f544324f1e9f2e2914b9297e02",
            "003bde14f0974e6bb1b6ea168121ec99",
            "2c05b653569743efa180eff9ece3cdcc",
            "075b618f710c4960ad430ed4958b5d3b",
            "2a2be321797c4e318df91812f8e31cce",
            "29f6a146be3f49299bcafbba34f007f8",
            "2335291520664caba4959b763c6f3676",
            "1ca6e29a807e45c0be31312985a402b5",
            "a64997db4c274ed49de66c2fc4fd1c09",
            "82f22b1c8dde4e12b420f9be7d520e99",
            "87bb4b97e6d8426a97c633f74ac87176",
            "41a76aab7d644fba9266e4fbbda1c970"
          ]
        },
        "id": "vjhV1nEf0NKi",
        "outputId": "ad265e0a-b431-4c1f-ba14-235d62ece8c3"
      },
      "outputs": [
        {
          "name": "stderr",
          "output_type": "stream",
          "text": [
            "INFO:pytorch_lightning.utilities.rank_zero:Using default `ModelCheckpoint`. Consider installing `litmodels` package to enable `LitModelCheckpoint` for automatic upload to the Lightning model registry.\n",
            "INFO:pytorch_lightning.utilities.rank_zero:GPU available: True (cuda), used: True\n",
            "INFO:pytorch_lightning.utilities.rank_zero:TPU available: False, using: 0 TPU cores\n",
            "INFO:pytorch_lightning.utilities.rank_zero:HPU available: False, using: 0 HPUs\n",
            "\u001b[34m\u001b[1mwandb\u001b[0m: Currently logged in as: \u001b[33mzmrocze\u001b[0m (\u001b[33mzmrocze-uniwroc\u001b[0m) to \u001b[32mhttps://api.wandb.ai\u001b[0m. Use \u001b[1m`wandb login --relogin`\u001b[0m to force relogin\n"
          ]
        },
        {
          "data": {
            "text/html": [
              "Tracking run with wandb version 0.19.11"
            ],
            "text/plain": [
              "<IPython.core.display.HTML object>"
            ]
          },
          "metadata": {},
          "output_type": "display_data"
        },
        {
          "data": {
            "text/html": [
              "Run data is saved locally in <code>./wandb/run-20250612_133516-sqrnr67i</code>"
            ],
            "text/plain": [
              "<IPython.core.display.HTML object>"
            ]
          },
          "metadata": {},
          "output_type": "display_data"
        },
        {
          "data": {
            "text/html": [
              "Syncing run <strong><a href='https://wandb.ai/zmrocze-uniwroc/recsys2025/runs/sqrnr67i' target=\"_blank\">recgat_bpr_5per_relevant_3layer_l2_Z</a></strong> to <a href='https://wandb.ai/zmrocze-uniwroc/recsys2025' target=\"_blank\">Weights & Biases</a> (<a href='https://wandb.me/developer-guide' target=\"_blank\">docs</a>)<br>"
            ],
            "text/plain": [
              "<IPython.core.display.HTML object>"
            ]
          },
          "metadata": {},
          "output_type": "display_data"
        },
        {
          "data": {
            "text/html": [
              " View project at <a href='https://wandb.ai/zmrocze-uniwroc/recsys2025' target=\"_blank\">https://wandb.ai/zmrocze-uniwroc/recsys2025</a>"
            ],
            "text/plain": [
              "<IPython.core.display.HTML object>"
            ]
          },
          "metadata": {},
          "output_type": "display_data"
        },
        {
          "data": {
            "text/html": [
              " View run at <a href='https://wandb.ai/zmrocze-uniwroc/recsys2025/runs/sqrnr67i' target=\"_blank\">https://wandb.ai/zmrocze-uniwroc/recsys2025/runs/sqrnr67i</a>"
            ],
            "text/plain": [
              "<IPython.core.display.HTML object>"
            ]
          },
          "metadata": {},
          "output_type": "display_data"
        },
        {
          "name": "stderr",
          "output_type": "stream",
          "text": [
            "\u001b[34m\u001b[1mwandb\u001b[0m: logging graph, to disable use `wandb.watch(log_graph=False)`\n",
            "INFO:pytorch_lightning.accelerators.cuda:LOCAL_RANK: 0 - CUDA_VISIBLE_DEVICES: [0]\n",
            "INFO:pytorch_lightning.callbacks.model_summary:\n",
            "  | Name           | Type                | Params | Mode \n",
            "---------------------------------------------------------------\n",
            "0 | recgat         | RecGAT              | 50.4 M | train\n",
            "1 | edge_predictor | LinearEdgePredictor | 32.9 K | train\n",
            "---------------------------------------------------------------\n",
            "50.4 M    Trainable params\n",
            "0         Non-trainable params\n",
            "50.4 M    Total params\n",
            "201.717   Total estimated model params size (MB)\n",
            "32        Modules in train mode\n",
            "0         Modules in eval mode\n"
          ]
        },
        {
          "data": {
            "application/vnd.jupyter.widget-view+json": {
              "model_id": "a8c9ce42791d4b5987461a041e2bbe8f",
              "version_major": 2,
              "version_minor": 0
            },
            "text/plain": [
              "Sanity Checking: |          | 0/? [00:00<?, ?it/s]"
            ]
          },
          "metadata": {},
          "output_type": "display_data"
        },
        {
          "data": {
            "application/vnd.jupyter.widget-view+json": {
              "model_id": "a097008c3d3b4c4e86c202f4c601407b",
              "version_major": 2,
              "version_minor": 0
            },
            "text/plain": [
              "Training: |          | 0/? [00:00<?, ?it/s]"
            ]
          },
          "metadata": {},
          "output_type": "display_data"
        },
        {
          "data": {
            "application/vnd.jupyter.widget-view+json": {
              "model_id": "9a5febf960e2484886462e838d149420",
              "version_major": 2,
              "version_minor": 0
            },
            "text/plain": [
              "Validation: |          | 0/? [00:00<?, ?it/s]"
            ]
          },
          "metadata": {},
          "output_type": "display_data"
        },
        {
          "data": {
            "application/vnd.jupyter.widget-view+json": {
              "model_id": "003bde14f0974e6bb1b6ea168121ec99",
              "version_major": 2,
              "version_minor": 0
            },
            "text/plain": [
              "Validation: |          | 0/? [00:00<?, ?it/s]"
            ]
          },
          "metadata": {},
          "output_type": "display_data"
        }
      ],
      "source": [
        "from pytorch_lightning.callbacks import ModelCheckpoint, EarlyStopping\n",
        "from pytorch_lightning.loggers import WandbLogger\n",
        "\n",
        "model_checkpoint_val = ModelCheckpoint(\n",
        "    monitor='val_loss',\n",
        "    auto_insert_metric_name=True,\n",
        "    save_top_k=2,\n",
        "    mode='min',\n",
        ")\n",
        "model_checkpoint_auroc = ModelCheckpoint(\n",
        "  monitor='val_auroc',\n",
        "  auto_insert_metric_name=True,\n",
        "  mode = 'max',\n",
        "  save_top_k=2,\n",
        ")\n",
        "\n",
        "# lr_scheduler = torch.optim.lr_scheduler.ReduceLROnPlateau()\n",
        "\n",
        "# model = remake_model_if_loss_nan(make_model)\n",
        "model = make_model()\n",
        "\n",
        "log_model = True\n",
        "trial_k = random.randint(0, 100000)\n",
        "wandb_logger = WandbLogger(\n",
        "  # project=\"recsys_categories\",\n",
        "  project=\"recsys2025\",\n",
        "  name=f\"recgat_bpr_{trial_k}\",\n",
        "  log_model=True\n",
        "  )\n",
        "wandb_logger.experiment.config.update({\n",
        "  \"embedding_dim\": embedding_dim,\n",
        "  \"edge_dim\": edge_dim,\n",
        "  \"num_layers\": num_layers,\n",
        "  \"dropout_gat\": dropout_gat,\n",
        "  \"init_type\": init_type,\n",
        "  \"init_a\": init_a,\n",
        "  \"dropout_edge\": dropout_edge,\n",
        "  \"lr\": lr,\n",
        "  \"l2_reg\": l2_reg,\n",
        "  \"batch_size\": batch_size,\n",
        "  \"auroc_batch_size\": auroc_batch_size,\n",
        "  \"accumulate_grad_batches\": accumulate_grad_batches,\n",
        "  \"neg_samples\": neg_samples,\n",
        "  \"log_model\": log_model,\n",
        "  \"graph_items\": model.recgat.node_id_map.n_items,\n",
        "  \"graph_users\": model.recgat.node_id_map.n_users,\n",
        "  \"graph_edges_n\": model.recgat.edge_index.size(1)\n",
        "})\n",
        "\n",
        "trainer = pl.Trainer(  max_epochs=max_epochs\n",
        "                     , check_val_every_n_epoch=accumulate_grad_batches\n",
        "                     , logger=wandb_logger\n",
        "                     , callbacks=[model_checkpoint_auroc, model_checkpoint_val, ]\n",
        "                     , accumulate_grad_batches=accumulate_grad_batches\n",
        "                    #  , terminate_on_nan=True\n",
        "                     )\n",
        "\n",
        "# print(\"test_loader\", test_loader)\n",
        "# print(\"test_edges.shape\", test_edges.shape)\n",
        "wandb_logger.watch(model, log=\"all\")\n",
        "\n",
        "trainer.fit(model, train_loader, val_dataloaders=test_loader)"
      ]
    },
    {
      "cell_type": "code",
      "execution_count": null,
      "metadata": {
        "id": "f1hErzEfJUxx"
      },
      "outputs": [],
      "source": [
        "# model.lr = 0.0001"
      ]
    }
  ],
  "metadata": {
    "accelerator": "GPU",
    "colab": {
      "gpuType": "T4",
      "provenance": []
    },
    "kernelspec": {
      "display_name": "my-mamba-environment",
      "language": "python",
      "name": "python3"
    },
    "language_info": {
      "codemirror_mode": {
        "name": "ipython",
        "version": 3
      },
      "file_extension": ".py",
      "mimetype": "text/x-python",
      "name": "python",
      "nbconvert_exporter": "python",
      "pygments_lexer": "ipython3",
      "version": "3.13.3"
    },
    "widgets": {
      "application/vnd.jupyter.widget-state+json": {
        "003bde14f0974e6bb1b6ea168121ec99": {
          "model_module": "@jupyter-widgets/controls",
          "model_module_version": "1.5.0",
          "model_name": "HBoxModel",
          "state": {
            "_dom_classes": [],
            "_model_module": "@jupyter-widgets/controls",
            "_model_module_version": "1.5.0",
            "_model_name": "HBoxModel",
            "_view_count": null,
            "_view_module": "@jupyter-widgets/controls",
            "_view_module_version": "1.5.0",
            "_view_name": "HBoxView",
            "box_style": "",
            "children": [
              "IPY_MODEL_2c05b653569743efa180eff9ece3cdcc",
              "IPY_MODEL_075b618f710c4960ad430ed4958b5d3b",
              "IPY_MODEL_2a2be321797c4e318df91812f8e31cce"
            ],
            "layout": "IPY_MODEL_29f6a146be3f49299bcafbba34f007f8"
          }
        },
        "075b618f710c4960ad430ed4958b5d3b": {
          "model_module": "@jupyter-widgets/controls",
          "model_module_version": "1.5.0",
          "model_name": "FloatProgressModel",
          "state": {
            "_dom_classes": [],
            "_model_module": "@jupyter-widgets/controls",
            "_model_module_version": "1.5.0",
            "_model_name": "FloatProgressModel",
            "_view_count": null,
            "_view_module": "@jupyter-widgets/controls",
            "_view_module_version": "1.5.0",
            "_view_name": "ProgressView",
            "bar_style": "",
            "description": "",
            "description_tooltip": null,
            "layout": "IPY_MODEL_a64997db4c274ed49de66c2fc4fd1c09",
            "max": 45,
            "min": 0,
            "orientation": "horizontal",
            "style": "IPY_MODEL_82f22b1c8dde4e12b420f9be7d520e99",
            "value": 45
          }
        },
        "07c4ea5a7aae471292fea775d018e9cb": {
          "model_module": "@jupyter-widgets/base",
          "model_module_version": "1.2.0",
          "model_name": "LayoutModel",
          "state": {
            "_model_module": "@jupyter-widgets/base",
            "_model_module_version": "1.2.0",
            "_model_name": "LayoutModel",
            "_view_count": null,
            "_view_module": "@jupyter-widgets/base",
            "_view_module_version": "1.2.0",
            "_view_name": "LayoutView",
            "align_content": null,
            "align_items": null,
            "align_self": null,
            "border": null,
            "bottom": null,
            "display": "inline-flex",
            "flex": null,
            "flex_flow": "row wrap",
            "grid_area": null,
            "grid_auto_columns": null,
            "grid_auto_flow": null,
            "grid_auto_rows": null,
            "grid_column": null,
            "grid_gap": null,
            "grid_row": null,
            "grid_template_areas": null,
            "grid_template_columns": null,
            "grid_template_rows": null,
            "height": null,
            "justify_content": null,
            "justify_items": null,
            "left": null,
            "margin": null,
            "max_height": null,
            "max_width": null,
            "min_height": null,
            "min_width": null,
            "object_fit": null,
            "object_position": null,
            "order": null,
            "overflow": null,
            "overflow_x": null,
            "overflow_y": null,
            "padding": null,
            "right": null,
            "top": null,
            "visibility": null,
            "width": "100%"
          }
        },
        "0ee97288c743490ea979eb7d3f637f3f": {
          "model_module": "@jupyter-widgets/controls",
          "model_module_version": "1.5.0",
          "model_name": "DescriptionStyleModel",
          "state": {
            "_model_module": "@jupyter-widgets/controls",
            "_model_module_version": "1.5.0",
            "_model_name": "DescriptionStyleModel",
            "_view_count": null,
            "_view_module": "@jupyter-widgets/base",
            "_view_module_version": "1.2.0",
            "_view_name": "StyleView",
            "description_width": ""
          }
        },
        "1ca6e29a807e45c0be31312985a402b5": {
          "model_module": "@jupyter-widgets/controls",
          "model_module_version": "1.5.0",
          "model_name": "DescriptionStyleModel",
          "state": {
            "_model_module": "@jupyter-widgets/controls",
            "_model_module_version": "1.5.0",
            "_model_name": "DescriptionStyleModel",
            "_view_count": null,
            "_view_module": "@jupyter-widgets/base",
            "_view_module_version": "1.2.0",
            "_view_name": "StyleView",
            "description_width": ""
          }
        },
        "1d522ac99d274711adf161dd3a8656ba": {
          "model_module": "@jupyter-widgets/controls",
          "model_module_version": "1.5.0",
          "model_name": "HTMLModel",
          "state": {
            "_dom_classes": [],
            "_model_module": "@jupyter-widgets/controls",
            "_model_module_version": "1.5.0",
            "_model_name": "HTMLModel",
            "_view_count": null,
            "_view_module": "@jupyter-widgets/controls",
            "_view_module_version": "1.5.0",
            "_view_name": "HTMLView",
            "description": "",
            "description_tooltip": null,
            "layout": "IPY_MODEL_a798af21c1f24e749fc4068e1a850099",
            "placeholder": "​",
            "style": "IPY_MODEL_245fbb4c252742e6825f23fb98de3d99",
            "value": " 80/104 [00:37&lt;00:11,  2.13it/s, v_num=r67i]"
          }
        },
        "1f007a8f5ab24c42a54a93a0661b4dcd": {
          "model_module": "@jupyter-widgets/controls",
          "model_module_version": "1.5.0",
          "model_name": "DescriptionStyleModel",
          "state": {
            "_model_module": "@jupyter-widgets/controls",
            "_model_module_version": "1.5.0",
            "_model_name": "DescriptionStyleModel",
            "_view_count": null,
            "_view_module": "@jupyter-widgets/base",
            "_view_module_version": "1.2.0",
            "_view_name": "StyleView",
            "description_width": ""
          }
        },
        "215fc85a672d4fcbbe11508d6a6989db": {
          "model_module": "@jupyter-widgets/base",
          "model_module_version": "1.2.0",
          "model_name": "LayoutModel",
          "state": {
            "_model_module": "@jupyter-widgets/base",
            "_model_module_version": "1.2.0",
            "_model_name": "LayoutModel",
            "_view_count": null,
            "_view_module": "@jupyter-widgets/base",
            "_view_module_version": "1.2.0",
            "_view_name": "LayoutView",
            "align_content": null,
            "align_items": null,
            "align_self": null,
            "border": null,
            "bottom": null,
            "display": null,
            "flex": null,
            "flex_flow": null,
            "grid_area": null,
            "grid_auto_columns": null,
            "grid_auto_flow": null,
            "grid_auto_rows": null,
            "grid_column": null,
            "grid_gap": null,
            "grid_row": null,
            "grid_template_areas": null,
            "grid_template_columns": null,
            "grid_template_rows": null,
            "height": null,
            "justify_content": null,
            "justify_items": null,
            "left": null,
            "margin": null,
            "max_height": null,
            "max_width": null,
            "min_height": null,
            "min_width": null,
            "object_fit": null,
            "object_position": null,
            "order": null,
            "overflow": null,
            "overflow_x": null,
            "overflow_y": null,
            "padding": null,
            "right": null,
            "top": null,
            "visibility": null,
            "width": null
          }
        },
        "2187f7008dfc4891b6e3611fde62611a": {
          "model_module": "@jupyter-widgets/base",
          "model_module_version": "1.2.0",
          "model_name": "LayoutModel",
          "state": {
            "_model_module": "@jupyter-widgets/base",
            "_model_module_version": "1.2.0",
            "_model_name": "LayoutModel",
            "_view_count": null,
            "_view_module": "@jupyter-widgets/base",
            "_view_module_version": "1.2.0",
            "_view_name": "LayoutView",
            "align_content": null,
            "align_items": null,
            "align_self": null,
            "border": null,
            "bottom": null,
            "display": null,
            "flex": "2",
            "flex_flow": null,
            "grid_area": null,
            "grid_auto_columns": null,
            "grid_auto_flow": null,
            "grid_auto_rows": null,
            "grid_column": null,
            "grid_gap": null,
            "grid_row": null,
            "grid_template_areas": null,
            "grid_template_columns": null,
            "grid_template_rows": null,
            "height": null,
            "justify_content": null,
            "justify_items": null,
            "left": null,
            "margin": null,
            "max_height": null,
            "max_width": null,
            "min_height": null,
            "min_width": null,
            "object_fit": null,
            "object_position": null,
            "order": null,
            "overflow": null,
            "overflow_x": null,
            "overflow_y": null,
            "padding": null,
            "right": null,
            "top": null,
            "visibility": null,
            "width": null
          }
        },
        "2335291520664caba4959b763c6f3676": {
          "model_module": "@jupyter-widgets/base",
          "model_module_version": "1.2.0",
          "model_name": "LayoutModel",
          "state": {
            "_model_module": "@jupyter-widgets/base",
            "_model_module_version": "1.2.0",
            "_model_name": "LayoutModel",
            "_view_count": null,
            "_view_module": "@jupyter-widgets/base",
            "_view_module_version": "1.2.0",
            "_view_name": "LayoutView",
            "align_content": null,
            "align_items": null,
            "align_self": null,
            "border": null,
            "bottom": null,
            "display": null,
            "flex": null,
            "flex_flow": null,
            "grid_area": null,
            "grid_auto_columns": null,
            "grid_auto_flow": null,
            "grid_auto_rows": null,
            "grid_column": null,
            "grid_gap": null,
            "grid_row": null,
            "grid_template_areas": null,
            "grid_template_columns": null,
            "grid_template_rows": null,
            "height": null,
            "justify_content": null,
            "justify_items": null,
            "left": null,
            "margin": null,
            "max_height": null,
            "max_width": null,
            "min_height": null,
            "min_width": null,
            "object_fit": null,
            "object_position": null,
            "order": null,
            "overflow": null,
            "overflow_x": null,
            "overflow_y": null,
            "padding": null,
            "right": null,
            "top": null,
            "visibility": null,
            "width": null
          }
        },
        "245fbb4c252742e6825f23fb98de3d99": {
          "model_module": "@jupyter-widgets/controls",
          "model_module_version": "1.5.0",
          "model_name": "DescriptionStyleModel",
          "state": {
            "_model_module": "@jupyter-widgets/controls",
            "_model_module_version": "1.5.0",
            "_model_name": "DescriptionStyleModel",
            "_view_count": null,
            "_view_module": "@jupyter-widgets/base",
            "_view_module_version": "1.2.0",
            "_view_name": "StyleView",
            "description_width": ""
          }
        },
        "29f6a146be3f49299bcafbba34f007f8": {
          "model_module": "@jupyter-widgets/base",
          "model_module_version": "1.2.0",
          "model_name": "LayoutModel",
          "state": {
            "_model_module": "@jupyter-widgets/base",
            "_model_module_version": "1.2.0",
            "_model_name": "LayoutModel",
            "_view_count": null,
            "_view_module": "@jupyter-widgets/base",
            "_view_module_version": "1.2.0",
            "_view_name": "LayoutView",
            "align_content": null,
            "align_items": null,
            "align_self": null,
            "border": null,
            "bottom": null,
            "display": "inline-flex",
            "flex": null,
            "flex_flow": "row wrap",
            "grid_area": null,
            "grid_auto_columns": null,
            "grid_auto_flow": null,
            "grid_auto_rows": null,
            "grid_column": null,
            "grid_gap": null,
            "grid_row": null,
            "grid_template_areas": null,
            "grid_template_columns": null,
            "grid_template_rows": null,
            "height": null,
            "justify_content": null,
            "justify_items": null,
            "left": null,
            "margin": null,
            "max_height": null,
            "max_width": null,
            "min_height": null,
            "min_width": null,
            "object_fit": null,
            "object_position": null,
            "order": null,
            "overflow": null,
            "overflow_x": null,
            "overflow_y": null,
            "padding": null,
            "right": null,
            "top": null,
            "visibility": "hidden",
            "width": "100%"
          }
        },
        "2a2be321797c4e318df91812f8e31cce": {
          "model_module": "@jupyter-widgets/controls",
          "model_module_version": "1.5.0",
          "model_name": "HTMLModel",
          "state": {
            "_dom_classes": [],
            "_model_module": "@jupyter-widgets/controls",
            "_model_module_version": "1.5.0",
            "_model_name": "HTMLModel",
            "_view_count": null,
            "_view_module": "@jupyter-widgets/controls",
            "_view_module_version": "1.5.0",
            "_view_name": "HTMLView",
            "description": "",
            "description_tooltip": null,
            "layout": "IPY_MODEL_87bb4b97e6d8426a97c633f74ac87176",
            "placeholder": "​",
            "style": "IPY_MODEL_41a76aab7d644fba9266e4fbbda1c970",
            "value": " 45/45 [00:05&lt;00:00,  8.29it/s]"
          }
        },
        "2c05b653569743efa180eff9ece3cdcc": {
          "model_module": "@jupyter-widgets/controls",
          "model_module_version": "1.5.0",
          "model_name": "HTMLModel",
          "state": {
            "_dom_classes": [],
            "_model_module": "@jupyter-widgets/controls",
            "_model_module_version": "1.5.0",
            "_model_name": "HTMLModel",
            "_view_count": null,
            "_view_module": "@jupyter-widgets/controls",
            "_view_module_version": "1.5.0",
            "_view_name": "HTMLView",
            "description": "",
            "description_tooltip": null,
            "layout": "IPY_MODEL_2335291520664caba4959b763c6f3676",
            "placeholder": "​",
            "style": "IPY_MODEL_1ca6e29a807e45c0be31312985a402b5",
            "value": "Validation DataLoader 0: 100%"
          }
        },
        "2c364e7d22a64c7cb06b34e7eb7e98b6": {
          "model_module": "@jupyter-widgets/controls",
          "model_module_version": "1.5.0",
          "model_name": "ProgressStyleModel",
          "state": {
            "_model_module": "@jupyter-widgets/controls",
            "_model_module_version": "1.5.0",
            "_model_name": "ProgressStyleModel",
            "_view_count": null,
            "_view_module": "@jupyter-widgets/base",
            "_view_module_version": "1.2.0",
            "_view_name": "StyleView",
            "bar_color": null,
            "description_width": ""
          }
        },
        "41a76aab7d644fba9266e4fbbda1c970": {
          "model_module": "@jupyter-widgets/controls",
          "model_module_version": "1.5.0",
          "model_name": "DescriptionStyleModel",
          "state": {
            "_model_module": "@jupyter-widgets/controls",
            "_model_module_version": "1.5.0",
            "_model_name": "DescriptionStyleModel",
            "_view_count": null,
            "_view_module": "@jupyter-widgets/base",
            "_view_module_version": "1.2.0",
            "_view_name": "StyleView",
            "description_width": ""
          }
        },
        "5154532d70bd476aa1341be67594dbd0": {
          "model_module": "@jupyter-widgets/base",
          "model_module_version": "1.2.0",
          "model_name": "LayoutModel",
          "state": {
            "_model_module": "@jupyter-widgets/base",
            "_model_module_version": "1.2.0",
            "_model_name": "LayoutModel",
            "_view_count": null,
            "_view_module": "@jupyter-widgets/base",
            "_view_module_version": "1.2.0",
            "_view_name": "LayoutView",
            "align_content": null,
            "align_items": null,
            "align_self": null,
            "border": null,
            "bottom": null,
            "display": null,
            "flex": "2",
            "flex_flow": null,
            "grid_area": null,
            "grid_auto_columns": null,
            "grid_auto_flow": null,
            "grid_auto_rows": null,
            "grid_column": null,
            "grid_gap": null,
            "grid_row": null,
            "grid_template_areas": null,
            "grid_template_columns": null,
            "grid_template_rows": null,
            "height": null,
            "justify_content": null,
            "justify_items": null,
            "left": null,
            "margin": null,
            "max_height": null,
            "max_width": null,
            "min_height": null,
            "min_width": null,
            "object_fit": null,
            "object_position": null,
            "order": null,
            "overflow": null,
            "overflow_x": null,
            "overflow_y": null,
            "padding": null,
            "right": null,
            "top": null,
            "visibility": null,
            "width": null
          }
        },
        "566eeeff35ab47588c26a3a004b738fa": {
          "model_module": "@jupyter-widgets/base",
          "model_module_version": "1.2.0",
          "model_name": "LayoutModel",
          "state": {
            "_model_module": "@jupyter-widgets/base",
            "_model_module_version": "1.2.0",
            "_model_name": "LayoutModel",
            "_view_count": null,
            "_view_module": "@jupyter-widgets/base",
            "_view_module_version": "1.2.0",
            "_view_name": "LayoutView",
            "align_content": null,
            "align_items": null,
            "align_self": null,
            "border": null,
            "bottom": null,
            "display": null,
            "flex": null,
            "flex_flow": null,
            "grid_area": null,
            "grid_auto_columns": null,
            "grid_auto_flow": null,
            "grid_auto_rows": null,
            "grid_column": null,
            "grid_gap": null,
            "grid_row": null,
            "grid_template_areas": null,
            "grid_template_columns": null,
            "grid_template_rows": null,
            "height": null,
            "justify_content": null,
            "justify_items": null,
            "left": null,
            "margin": null,
            "max_height": null,
            "max_width": null,
            "min_height": null,
            "min_width": null,
            "object_fit": null,
            "object_position": null,
            "order": null,
            "overflow": null,
            "overflow_x": null,
            "overflow_y": null,
            "padding": null,
            "right": null,
            "top": null,
            "visibility": null,
            "width": null
          }
        },
        "61399beef2d94528abbea684cf01bdf8": {
          "model_module": "@jupyter-widgets/controls",
          "model_module_version": "1.5.0",
          "model_name": "DescriptionStyleModel",
          "state": {
            "_model_module": "@jupyter-widgets/controls",
            "_model_module_version": "1.5.0",
            "_model_name": "DescriptionStyleModel",
            "_view_count": null,
            "_view_module": "@jupyter-widgets/base",
            "_view_module_version": "1.2.0",
            "_view_name": "StyleView",
            "description_width": ""
          }
        },
        "69cbf864067e454bade59f83f9abd40a": {
          "model_module": "@jupyter-widgets/base",
          "model_module_version": "1.2.0",
          "model_name": "LayoutModel",
          "state": {
            "_model_module": "@jupyter-widgets/base",
            "_model_module_version": "1.2.0",
            "_model_name": "LayoutModel",
            "_view_count": null,
            "_view_module": "@jupyter-widgets/base",
            "_view_module_version": "1.2.0",
            "_view_name": "LayoutView",
            "align_content": null,
            "align_items": null,
            "align_self": null,
            "border": null,
            "bottom": null,
            "display": null,
            "flex": null,
            "flex_flow": null,
            "grid_area": null,
            "grid_auto_columns": null,
            "grid_auto_flow": null,
            "grid_auto_rows": null,
            "grid_column": null,
            "grid_gap": null,
            "grid_row": null,
            "grid_template_areas": null,
            "grid_template_columns": null,
            "grid_template_rows": null,
            "height": null,
            "justify_content": null,
            "justify_items": null,
            "left": null,
            "margin": null,
            "max_height": null,
            "max_width": null,
            "min_height": null,
            "min_width": null,
            "object_fit": null,
            "object_position": null,
            "order": null,
            "overflow": null,
            "overflow_x": null,
            "overflow_y": null,
            "padding": null,
            "right": null,
            "top": null,
            "visibility": null,
            "width": null
          }
        },
        "6bb02c617c184dccb403a3d0c331ecf0": {
          "model_module": "@jupyter-widgets/controls",
          "model_module_version": "1.5.0",
          "model_name": "FloatProgressModel",
          "state": {
            "_dom_classes": [],
            "_model_module": "@jupyter-widgets/controls",
            "_model_module_version": "1.5.0",
            "_model_name": "FloatProgressModel",
            "_view_count": null,
            "_view_module": "@jupyter-widgets/controls",
            "_view_module_version": "1.5.0",
            "_view_name": "ProgressView",
            "bar_style": "",
            "description": "",
            "description_tooltip": null,
            "layout": "IPY_MODEL_5154532d70bd476aa1341be67594dbd0",
            "max": 2,
            "min": 0,
            "orientation": "horizontal",
            "style": "IPY_MODEL_82337d7bbc0544aa9b24647f8d968759",
            "value": 2
          }
        },
        "82337d7bbc0544aa9b24647f8d968759": {
          "model_module": "@jupyter-widgets/controls",
          "model_module_version": "1.5.0",
          "model_name": "ProgressStyleModel",
          "state": {
            "_model_module": "@jupyter-widgets/controls",
            "_model_module_version": "1.5.0",
            "_model_name": "ProgressStyleModel",
            "_view_count": null,
            "_view_module": "@jupyter-widgets/base",
            "_view_module_version": "1.2.0",
            "_view_name": "StyleView",
            "bar_color": null,
            "description_width": ""
          }
        },
        "82f22b1c8dde4e12b420f9be7d520e99": {
          "model_module": "@jupyter-widgets/controls",
          "model_module_version": "1.5.0",
          "model_name": "ProgressStyleModel",
          "state": {
            "_model_module": "@jupyter-widgets/controls",
            "_model_module_version": "1.5.0",
            "_model_name": "ProgressStyleModel",
            "_view_count": null,
            "_view_module": "@jupyter-widgets/base",
            "_view_module_version": "1.2.0",
            "_view_name": "StyleView",
            "bar_color": null,
            "description_width": ""
          }
        },
        "8378ec42e246473c8119aa21d26cc5ef": {
          "model_module": "@jupyter-widgets/base",
          "model_module_version": "1.2.0",
          "model_name": "LayoutModel",
          "state": {
            "_model_module": "@jupyter-widgets/base",
            "_model_module_version": "1.2.0",
            "_model_name": "LayoutModel",
            "_view_count": null,
            "_view_module": "@jupyter-widgets/base",
            "_view_module_version": "1.2.0",
            "_view_name": "LayoutView",
            "align_content": null,
            "align_items": null,
            "align_self": null,
            "border": null,
            "bottom": null,
            "display": null,
            "flex": null,
            "flex_flow": null,
            "grid_area": null,
            "grid_auto_columns": null,
            "grid_auto_flow": null,
            "grid_auto_rows": null,
            "grid_column": null,
            "grid_gap": null,
            "grid_row": null,
            "grid_template_areas": null,
            "grid_template_columns": null,
            "grid_template_rows": null,
            "height": null,
            "justify_content": null,
            "justify_items": null,
            "left": null,
            "margin": null,
            "max_height": null,
            "max_width": null,
            "min_height": null,
            "min_width": null,
            "object_fit": null,
            "object_position": null,
            "order": null,
            "overflow": null,
            "overflow_x": null,
            "overflow_y": null,
            "padding": null,
            "right": null,
            "top": null,
            "visibility": null,
            "width": null
          }
        },
        "87bb4b97e6d8426a97c633f74ac87176": {
          "model_module": "@jupyter-widgets/base",
          "model_module_version": "1.2.0",
          "model_name": "LayoutModel",
          "state": {
            "_model_module": "@jupyter-widgets/base",
            "_model_module_version": "1.2.0",
            "_model_name": "LayoutModel",
            "_view_count": null,
            "_view_module": "@jupyter-widgets/base",
            "_view_module_version": "1.2.0",
            "_view_name": "LayoutView",
            "align_content": null,
            "align_items": null,
            "align_self": null,
            "border": null,
            "bottom": null,
            "display": null,
            "flex": null,
            "flex_flow": null,
            "grid_area": null,
            "grid_auto_columns": null,
            "grid_auto_flow": null,
            "grid_auto_rows": null,
            "grid_column": null,
            "grid_gap": null,
            "grid_row": null,
            "grid_template_areas": null,
            "grid_template_columns": null,
            "grid_template_rows": null,
            "height": null,
            "justify_content": null,
            "justify_items": null,
            "left": null,
            "margin": null,
            "max_height": null,
            "max_width": null,
            "min_height": null,
            "min_width": null,
            "object_fit": null,
            "object_position": null,
            "order": null,
            "overflow": null,
            "overflow_x": null,
            "overflow_y": null,
            "padding": null,
            "right": null,
            "top": null,
            "visibility": null,
            "width": null
          }
        },
        "9a5febf960e2484886462e838d149420": {
          "model_module": "@jupyter-widgets/controls",
          "model_module_version": "1.5.0",
          "model_name": "HBoxModel",
          "state": {
            "_dom_classes": [],
            "_model_module": "@jupyter-widgets/controls",
            "_model_module_version": "1.5.0",
            "_model_name": "HBoxModel",
            "_view_count": null,
            "_view_module": "@jupyter-widgets/controls",
            "_view_module_version": "1.5.0",
            "_view_name": "HBoxView",
            "box_style": "",
            "children": [
              "IPY_MODEL_bb2219b91646476796ae86fa69278348",
              "IPY_MODEL_a6ccb7ce64284b6babd8a134cc26d251",
              "IPY_MODEL_9ee455b5a24d4488a4583375f1e9d294"
            ],
            "layout": "IPY_MODEL_e9f6e25511874167b85c8ff805c66b69"
          }
        },
        "9ee455b5a24d4488a4583375f1e9d294": {
          "model_module": "@jupyter-widgets/controls",
          "model_module_version": "1.5.0",
          "model_name": "HTMLModel",
          "state": {
            "_dom_classes": [],
            "_model_module": "@jupyter-widgets/controls",
            "_model_module_version": "1.5.0",
            "_model_name": "HTMLModel",
            "_view_count": null,
            "_view_module": "@jupyter-widgets/controls",
            "_view_module_version": "1.5.0",
            "_view_name": "HTMLView",
            "description": "",
            "description_tooltip": null,
            "layout": "IPY_MODEL_8378ec42e246473c8119aa21d26cc5ef",
            "placeholder": "​",
            "style": "IPY_MODEL_bb9f17f544324f1e9f2e2914b9297e02",
            "value": " 45/45 [00:05&lt;00:00,  8.31it/s]"
          }
        },
        "a097008c3d3b4c4e86c202f4c601407b": {
          "model_module": "@jupyter-widgets/controls",
          "model_module_version": "1.5.0",
          "model_name": "HBoxModel",
          "state": {
            "_dom_classes": [],
            "_model_module": "@jupyter-widgets/controls",
            "_model_module_version": "1.5.0",
            "_model_name": "HBoxModel",
            "_view_count": null,
            "_view_module": "@jupyter-widgets/controls",
            "_view_module_version": "1.5.0",
            "_view_name": "HBoxView",
            "box_style": "",
            "children": [
              "IPY_MODEL_f48d03f2ef28430b97f0ca753aba4016",
              "IPY_MODEL_a6efb6e08e32412f935f01a39cceaccf",
              "IPY_MODEL_1d522ac99d274711adf161dd3a8656ba"
            ],
            "layout": "IPY_MODEL_07c4ea5a7aae471292fea775d018e9cb"
          }
        },
        "a64997db4c274ed49de66c2fc4fd1c09": {
          "model_module": "@jupyter-widgets/base",
          "model_module_version": "1.2.0",
          "model_name": "LayoutModel",
          "state": {
            "_model_module": "@jupyter-widgets/base",
            "_model_module_version": "1.2.0",
            "_model_name": "LayoutModel",
            "_view_count": null,
            "_view_module": "@jupyter-widgets/base",
            "_view_module_version": "1.2.0",
            "_view_name": "LayoutView",
            "align_content": null,
            "align_items": null,
            "align_self": null,
            "border": null,
            "bottom": null,
            "display": null,
            "flex": "2",
            "flex_flow": null,
            "grid_area": null,
            "grid_auto_columns": null,
            "grid_auto_flow": null,
            "grid_auto_rows": null,
            "grid_column": null,
            "grid_gap": null,
            "grid_row": null,
            "grid_template_areas": null,
            "grid_template_columns": null,
            "grid_template_rows": null,
            "height": null,
            "justify_content": null,
            "justify_items": null,
            "left": null,
            "margin": null,
            "max_height": null,
            "max_width": null,
            "min_height": null,
            "min_width": null,
            "object_fit": null,
            "object_position": null,
            "order": null,
            "overflow": null,
            "overflow_x": null,
            "overflow_y": null,
            "padding": null,
            "right": null,
            "top": null,
            "visibility": null,
            "width": null
          }
        },
        "a6ccb7ce64284b6babd8a134cc26d251": {
          "model_module": "@jupyter-widgets/controls",
          "model_module_version": "1.5.0",
          "model_name": "FloatProgressModel",
          "state": {
            "_dom_classes": [],
            "_model_module": "@jupyter-widgets/controls",
            "_model_module_version": "1.5.0",
            "_model_name": "FloatProgressModel",
            "_view_count": null,
            "_view_module": "@jupyter-widgets/controls",
            "_view_module_version": "1.5.0",
            "_view_name": "ProgressView",
            "bar_style": "",
            "description": "",
            "description_tooltip": null,
            "layout": "IPY_MODEL_fc24f08173c74e7d8371ddd90dd9b0b3",
            "max": 45,
            "min": 0,
            "orientation": "horizontal",
            "style": "IPY_MODEL_2c364e7d22a64c7cb06b34e7eb7e98b6",
            "value": 45
          }
        },
        "a6efb6e08e32412f935f01a39cceaccf": {
          "model_module": "@jupyter-widgets/controls",
          "model_module_version": "1.5.0",
          "model_name": "FloatProgressModel",
          "state": {
            "_dom_classes": [],
            "_model_module": "@jupyter-widgets/controls",
            "_model_module_version": "1.5.0",
            "_model_name": "FloatProgressModel",
            "_view_count": null,
            "_view_module": "@jupyter-widgets/controls",
            "_view_module_version": "1.5.0",
            "_view_name": "ProgressView",
            "bar_style": "",
            "description": "",
            "description_tooltip": null,
            "layout": "IPY_MODEL_2187f7008dfc4891b6e3611fde62611a",
            "max": 104,
            "min": 0,
            "orientation": "horizontal",
            "style": "IPY_MODEL_d320b2f06ed448558180ccde7beec62d",
            "value": 80
          }
        },
        "a798af21c1f24e749fc4068e1a850099": {
          "model_module": "@jupyter-widgets/base",
          "model_module_version": "1.2.0",
          "model_name": "LayoutModel",
          "state": {
            "_model_module": "@jupyter-widgets/base",
            "_model_module_version": "1.2.0",
            "_model_name": "LayoutModel",
            "_view_count": null,
            "_view_module": "@jupyter-widgets/base",
            "_view_module_version": "1.2.0",
            "_view_name": "LayoutView",
            "align_content": null,
            "align_items": null,
            "align_self": null,
            "border": null,
            "bottom": null,
            "display": null,
            "flex": null,
            "flex_flow": null,
            "grid_area": null,
            "grid_auto_columns": null,
            "grid_auto_flow": null,
            "grid_auto_rows": null,
            "grid_column": null,
            "grid_gap": null,
            "grid_row": null,
            "grid_template_areas": null,
            "grid_template_columns": null,
            "grid_template_rows": null,
            "height": null,
            "justify_content": null,
            "justify_items": null,
            "left": null,
            "margin": null,
            "max_height": null,
            "max_width": null,
            "min_height": null,
            "min_width": null,
            "object_fit": null,
            "object_position": null,
            "order": null,
            "overflow": null,
            "overflow_x": null,
            "overflow_y": null,
            "padding": null,
            "right": null,
            "top": null,
            "visibility": null,
            "width": null
          }
        },
        "a8c9ce42791d4b5987461a041e2bbe8f": {
          "model_module": "@jupyter-widgets/controls",
          "model_module_version": "1.5.0",
          "model_name": "HBoxModel",
          "state": {
            "_dom_classes": [],
            "_model_module": "@jupyter-widgets/controls",
            "_model_module_version": "1.5.0",
            "_model_name": "HBoxModel",
            "_view_count": null,
            "_view_module": "@jupyter-widgets/controls",
            "_view_module_version": "1.5.0",
            "_view_name": "HBoxView",
            "box_style": "",
            "children": [
              "IPY_MODEL_e9baab30898a43dfa5f7e1486380ce86",
              "IPY_MODEL_6bb02c617c184dccb403a3d0c331ecf0",
              "IPY_MODEL_fd157c654b14415d9d072c47e21f8aee"
            ],
            "layout": "IPY_MODEL_ecfe1d988e804034a2c21e4f18db9ff3"
          }
        },
        "bb2219b91646476796ae86fa69278348": {
          "model_module": "@jupyter-widgets/controls",
          "model_module_version": "1.5.0",
          "model_name": "HTMLModel",
          "state": {
            "_dom_classes": [],
            "_model_module": "@jupyter-widgets/controls",
            "_model_module_version": "1.5.0",
            "_model_name": "HTMLModel",
            "_view_count": null,
            "_view_module": "@jupyter-widgets/controls",
            "_view_module_version": "1.5.0",
            "_view_name": "HTMLView",
            "description": "",
            "description_tooltip": null,
            "layout": "IPY_MODEL_215fc85a672d4fcbbe11508d6a6989db",
            "placeholder": "​",
            "style": "IPY_MODEL_f1583ea6dd2a4237b929cd33945714ae",
            "value": "Validation DataLoader 0: 100%"
          }
        },
        "bb9f17f544324f1e9f2e2914b9297e02": {
          "model_module": "@jupyter-widgets/controls",
          "model_module_version": "1.5.0",
          "model_name": "DescriptionStyleModel",
          "state": {
            "_model_module": "@jupyter-widgets/controls",
            "_model_module_version": "1.5.0",
            "_model_name": "DescriptionStyleModel",
            "_view_count": null,
            "_view_module": "@jupyter-widgets/base",
            "_view_module_version": "1.2.0",
            "_view_name": "StyleView",
            "description_width": ""
          }
        },
        "d320b2f06ed448558180ccde7beec62d": {
          "model_module": "@jupyter-widgets/controls",
          "model_module_version": "1.5.0",
          "model_name": "ProgressStyleModel",
          "state": {
            "_model_module": "@jupyter-widgets/controls",
            "_model_module_version": "1.5.0",
            "_model_name": "ProgressStyleModel",
            "_view_count": null,
            "_view_module": "@jupyter-widgets/base",
            "_view_module_version": "1.2.0",
            "_view_name": "StyleView",
            "bar_color": null,
            "description_width": ""
          }
        },
        "e9baab30898a43dfa5f7e1486380ce86": {
          "model_module": "@jupyter-widgets/controls",
          "model_module_version": "1.5.0",
          "model_name": "HTMLModel",
          "state": {
            "_dom_classes": [],
            "_model_module": "@jupyter-widgets/controls",
            "_model_module_version": "1.5.0",
            "_model_name": "HTMLModel",
            "_view_count": null,
            "_view_module": "@jupyter-widgets/controls",
            "_view_module_version": "1.5.0",
            "_view_name": "HTMLView",
            "description": "",
            "description_tooltip": null,
            "layout": "IPY_MODEL_566eeeff35ab47588c26a3a004b738fa",
            "placeholder": "​",
            "style": "IPY_MODEL_61399beef2d94528abbea684cf01bdf8",
            "value": "Sanity Checking DataLoader 0: 100%"
          }
        },
        "e9f6e25511874167b85c8ff805c66b69": {
          "model_module": "@jupyter-widgets/base",
          "model_module_version": "1.2.0",
          "model_name": "LayoutModel",
          "state": {
            "_model_module": "@jupyter-widgets/base",
            "_model_module_version": "1.2.0",
            "_model_name": "LayoutModel",
            "_view_count": null,
            "_view_module": "@jupyter-widgets/base",
            "_view_module_version": "1.2.0",
            "_view_name": "LayoutView",
            "align_content": null,
            "align_items": null,
            "align_self": null,
            "border": null,
            "bottom": null,
            "display": "inline-flex",
            "flex": null,
            "flex_flow": "row wrap",
            "grid_area": null,
            "grid_auto_columns": null,
            "grid_auto_flow": null,
            "grid_auto_rows": null,
            "grid_column": null,
            "grid_gap": null,
            "grid_row": null,
            "grid_template_areas": null,
            "grid_template_columns": null,
            "grid_template_rows": null,
            "height": null,
            "justify_content": null,
            "justify_items": null,
            "left": null,
            "margin": null,
            "max_height": null,
            "max_width": null,
            "min_height": null,
            "min_width": null,
            "object_fit": null,
            "object_position": null,
            "order": null,
            "overflow": null,
            "overflow_x": null,
            "overflow_y": null,
            "padding": null,
            "right": null,
            "top": null,
            "visibility": "hidden",
            "width": "100%"
          }
        },
        "ecfe1d988e804034a2c21e4f18db9ff3": {
          "model_module": "@jupyter-widgets/base",
          "model_module_version": "1.2.0",
          "model_name": "LayoutModel",
          "state": {
            "_model_module": "@jupyter-widgets/base",
            "_model_module_version": "1.2.0",
            "_model_name": "LayoutModel",
            "_view_count": null,
            "_view_module": "@jupyter-widgets/base",
            "_view_module_version": "1.2.0",
            "_view_name": "LayoutView",
            "align_content": null,
            "align_items": null,
            "align_self": null,
            "border": null,
            "bottom": null,
            "display": "inline-flex",
            "flex": null,
            "flex_flow": "row wrap",
            "grid_area": null,
            "grid_auto_columns": null,
            "grid_auto_flow": null,
            "grid_auto_rows": null,
            "grid_column": null,
            "grid_gap": null,
            "grid_row": null,
            "grid_template_areas": null,
            "grid_template_columns": null,
            "grid_template_rows": null,
            "height": null,
            "justify_content": null,
            "justify_items": null,
            "left": null,
            "margin": null,
            "max_height": null,
            "max_width": null,
            "min_height": null,
            "min_width": null,
            "object_fit": null,
            "object_position": null,
            "order": null,
            "overflow": null,
            "overflow_x": null,
            "overflow_y": null,
            "padding": null,
            "right": null,
            "top": null,
            "visibility": "hidden",
            "width": "100%"
          }
        },
        "f1583ea6dd2a4237b929cd33945714ae": {
          "model_module": "@jupyter-widgets/controls",
          "model_module_version": "1.5.0",
          "model_name": "DescriptionStyleModel",
          "state": {
            "_model_module": "@jupyter-widgets/controls",
            "_model_module_version": "1.5.0",
            "_model_name": "DescriptionStyleModel",
            "_view_count": null,
            "_view_module": "@jupyter-widgets/base",
            "_view_module_version": "1.2.0",
            "_view_name": "StyleView",
            "description_width": ""
          }
        },
        "f48d03f2ef28430b97f0ca753aba4016": {
          "model_module": "@jupyter-widgets/controls",
          "model_module_version": "1.5.0",
          "model_name": "HTMLModel",
          "state": {
            "_dom_classes": [],
            "_model_module": "@jupyter-widgets/controls",
            "_model_module_version": "1.5.0",
            "_model_name": "HTMLModel",
            "_view_count": null,
            "_view_module": "@jupyter-widgets/controls",
            "_view_module_version": "1.5.0",
            "_view_name": "HTMLView",
            "description": "",
            "description_tooltip": null,
            "layout": "IPY_MODEL_fd7e0ae572a04ce4a54214c440ab9109",
            "placeholder": "​",
            "style": "IPY_MODEL_0ee97288c743490ea979eb7d3f637f3f",
            "value": "Epoch 2:  77%"
          }
        },
        "fc24f08173c74e7d8371ddd90dd9b0b3": {
          "model_module": "@jupyter-widgets/base",
          "model_module_version": "1.2.0",
          "model_name": "LayoutModel",
          "state": {
            "_model_module": "@jupyter-widgets/base",
            "_model_module_version": "1.2.0",
            "_model_name": "LayoutModel",
            "_view_count": null,
            "_view_module": "@jupyter-widgets/base",
            "_view_module_version": "1.2.0",
            "_view_name": "LayoutView",
            "align_content": null,
            "align_items": null,
            "align_self": null,
            "border": null,
            "bottom": null,
            "display": null,
            "flex": "2",
            "flex_flow": null,
            "grid_area": null,
            "grid_auto_columns": null,
            "grid_auto_flow": null,
            "grid_auto_rows": null,
            "grid_column": null,
            "grid_gap": null,
            "grid_row": null,
            "grid_template_areas": null,
            "grid_template_columns": null,
            "grid_template_rows": null,
            "height": null,
            "justify_content": null,
            "justify_items": null,
            "left": null,
            "margin": null,
            "max_height": null,
            "max_width": null,
            "min_height": null,
            "min_width": null,
            "object_fit": null,
            "object_position": null,
            "order": null,
            "overflow": null,
            "overflow_x": null,
            "overflow_y": null,
            "padding": null,
            "right": null,
            "top": null,
            "visibility": null,
            "width": null
          }
        },
        "fd157c654b14415d9d072c47e21f8aee": {
          "model_module": "@jupyter-widgets/controls",
          "model_module_version": "1.5.0",
          "model_name": "HTMLModel",
          "state": {
            "_dom_classes": [],
            "_model_module": "@jupyter-widgets/controls",
            "_model_module_version": "1.5.0",
            "_model_name": "HTMLModel",
            "_view_count": null,
            "_view_module": "@jupyter-widgets/controls",
            "_view_module_version": "1.5.0",
            "_view_name": "HTMLView",
            "description": "",
            "description_tooltip": null,
            "layout": "IPY_MODEL_69cbf864067e454bade59f83f9abd40a",
            "placeholder": "​",
            "style": "IPY_MODEL_1f007a8f5ab24c42a54a93a0661b4dcd",
            "value": " 2/2 [00:01&lt;00:00,  1.65it/s]"
          }
        },
        "fd7e0ae572a04ce4a54214c440ab9109": {
          "model_module": "@jupyter-widgets/base",
          "model_module_version": "1.2.0",
          "model_name": "LayoutModel",
          "state": {
            "_model_module": "@jupyter-widgets/base",
            "_model_module_version": "1.2.0",
            "_model_name": "LayoutModel",
            "_view_count": null,
            "_view_module": "@jupyter-widgets/base",
            "_view_module_version": "1.2.0",
            "_view_name": "LayoutView",
            "align_content": null,
            "align_items": null,
            "align_self": null,
            "border": null,
            "bottom": null,
            "display": null,
            "flex": null,
            "flex_flow": null,
            "grid_area": null,
            "grid_auto_columns": null,
            "grid_auto_flow": null,
            "grid_auto_rows": null,
            "grid_column": null,
            "grid_gap": null,
            "grid_row": null,
            "grid_template_areas": null,
            "grid_template_columns": null,
            "grid_template_rows": null,
            "height": null,
            "justify_content": null,
            "justify_items": null,
            "left": null,
            "margin": null,
            "max_height": null,
            "max_width": null,
            "min_height": null,
            "min_width": null,
            "object_fit": null,
            "object_position": null,
            "order": null,
            "overflow": null,
            "overflow_x": null,
            "overflow_y": null,
            "padding": null,
            "right": null,
            "top": null,
            "visibility": null,
            "width": null
          }
        }
      }
    }
  },
  "nbformat": 4,
  "nbformat_minor": 0
}
